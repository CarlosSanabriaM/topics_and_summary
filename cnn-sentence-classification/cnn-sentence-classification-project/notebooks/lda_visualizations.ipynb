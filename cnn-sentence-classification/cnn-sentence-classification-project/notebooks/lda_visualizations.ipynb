{
 "cells": [
  {
   "cell_type": "code",
   "execution_count": 3,
   "metadata": {
    "ExecuteTime": {
     "end_time": "2019-03-07T16:38:54.321947Z",
     "start_time": "2019-03-07T16:38:54.317254Z"
    }
   },
   "outputs": [],
   "source": [
    "base_path = '/Users/carlos/Desktop/Clase/4/2 Cuatri/TFG/Codigo/repo/cnn-sentence-classification/cnn-sentence-classification-project'\n",
    "\n",
    "import sys\n",
    "sys.path.extend([base_path])\n",
    "\n",
    "from datasets.twenty_news_groups import TwentyNewsGroupsDataset\n",
    "from preprocessing.dataset import preprocess_dataset\n",
    "from models.topics import MalletModels\n",
    "from gensim.models.wrappers.ldamallet import LdaMallet, malletmodel2ldamodel\n",
    "\n",
    "import pyLDAvis\n",
    "import pyLDAvis.gensim"
   ]
  },
  {
   "cell_type": "code",
   "execution_count": 4,
   "metadata": {
    "ExecuteTime": {
     "end_time": "2019-03-07T16:38:55.248465Z",
     "start_time": "2019-03-07T16:38:55.144036Z"
    }
   },
   "outputs": [],
   "source": [
    "path = base_path + '/saved-models/lda/lda_mallet_model topics_26 coherence_0.6581861659501249/lda_mallet_model topics_26 coherence_0.6581861659501249'\n",
    "lda_model = LdaMallet.load(path)"
   ]
  },
  {
   "cell_type": "code",
   "execution_count": 5,
   "metadata": {
    "ExecuteTime": {
     "end_time": "2019-03-07T16:38:56.989412Z",
     "start_time": "2019-03-07T16:38:56.982105Z"
    }
   },
   "outputs": [
    {
     "data": {
      "text/plain": [
       "26"
      ]
     },
     "execution_count": 5,
     "metadata": {},
     "output_type": "execute_result"
    }
   ],
   "source": [
    "lda_model.num_topics"
   ]
  },
  {
   "cell_type": "code",
   "execution_count": 6,
   "metadata": {
    "ExecuteTime": {
     "end_time": "2019-03-07T16:40:08.459934Z",
     "start_time": "2019-03-07T16:38:58.009281Z"
    }
   },
   "outputs": [
    {
     "name": "stdout",
     "output_type": "stream",
     "text": [
      "\n",
      "\n",
      "Preprocessing the dataset\n",
      "_________________________\n"
     ]
    }
   ],
   "source": [
    "# Load dataset and apply preprocessing\n",
    "dataset = TwentyNewsGroupsDataset()\n",
    "dataset = preprocess_dataset(dataset)"
   ]
  },
  {
   "cell_type": "code",
   "execution_count": 7,
   "metadata": {
    "ExecuteTime": {
     "end_time": "2019-03-07T16:40:11.379472Z",
     "start_time": "2019-03-07T16:40:08.502403Z"
    }
   },
   "outputs": [],
   "source": [
    "# Create a MalletModels object, that allows us to do things easier\n",
    "lda_mallet_models = MalletModels(dataset.as_documents_list())"
   ]
  },
  {
   "cell_type": "code",
   "execution_count": 8,
   "metadata": {
    "ExecuteTime": {
     "end_time": "2019-03-07T16:40:11.442504Z",
     "start_time": "2019-03-07T16:40:11.414797Z"
    }
   },
   "outputs": [
    {
     "name": "stdout",
     "output_type": "stream",
     "text": [
      "Topic 0: 0.030*\"file\" + 0.023*\"line\" + 0.016*\"program\" + 0.015*\"output\" + 0.015*\"entry\" + 0.012*\"read\" + 0.012*\"check\" + 0.011*\"number\" + 0.010*\"info\" + 0.009*\"rule\"\n",
      "Topic 1: 0.010*\"drug\" + 0.009*\"health\" + 0.009*\"medical\" + 0.009*\"disease\" + 0.008*\"patient\" + 0.008*\"study\" + 0.007*\"doctor\" + 0.006*\"treatment\" + 0.006*\"cancer\" + 0.006*\"effect\"\n",
      "Topic 2: 0.019*\"window\" + 0.011*\"server\" + 0.011*\"widget\" + 0.010*\"application\" + 0.009*\"motif\" + 0.009*\"display\" + 0.009*\"set\" + 0.008*\"file\" + 0.008*\"sun\" + 0.007*\"resource\"\n",
      "Topic 3: 0.035*\"year\" + 0.027*\"game\" + 0.012*\"hit\" + 0.012*\"run\" + 0.011*\"player\" + 0.011*\"team\" + 0.008*\"fan\" + 0.008*\"lost\" + 0.008*\"play\" + 0.008*\"baseball\"\n",
      "Topic 4: 0.017*\"mr\" + 0.015*\"president\" + 0.010*\"american\" + 0.008*\"people\" + 0.008*\"job\" + 0.008*\"year\" + 0.007*\"question\" + 0.007*\"made\" + 0.007*\"state\" + 0.007*\"stephanopoulos\"\n",
      "Topic 5: 0.035*\"good\" + 0.025*\"thing\" + 0.016*\"make\" + 0.016*\"bad\" + 0.015*\"guess\" + 0.013*\"sound\" + 0.013*\"lot\" + 0.013*\"real\" + 0.011*\"pretty\" + 0.011*\"stuff\"\n",
      "Topic 6: 0.043*\"time\" + 0.039*\"problem\" + 0.028*\"work\" + 0.020*\"make\" + 0.020*\"good\" + 0.018*\"thing\" + 0.017*\"lot\" + 0.013*\"back\" + 0.012*\"put\" + 0.010*\"money\"\n",
      "Topic 7: 0.023*\"people\" + 0.019*\"god\" + 0.016*\"religion\" + 0.013*\"human\" + 0.013*\"life\" + 0.012*\"belief\" + 0.011*\"christian\" + 0.010*\"religious\" + 0.008*\"view\" + 0.008*\"world\"\n",
      "Topic 8: 0.016*\"claim\" + 0.016*\"point\" + 0.016*\"evidence\" + 0.013*\"true\" + 0.013*\"fact\" + 0.012*\"question\" + 0.012*\"word\" + 0.012*\"argument\" + 0.011*\"thing\" + 0.010*\"people\"\n",
      "Topic 9: 0.029*\"armenian\" + 0.013*\"turkish\" + 0.010*\"people\" + 0.008*\"muslim\" + 0.008*\"turkey\" + 0.007*\"russian\" + 0.007*\"greek\" + 0.007*\"armenia\" + 0.007*\"genocide\" + 0.007*\"history\"\n",
      "Topic 10: 0.021*\"gun\" + 0.020*\"law\" + 0.017*\"state\" + 0.011*\"government\" + 0.008*\"crime\" + 0.008*\"weapon\" + 0.008*\"party\" + 0.007*\"control\" + 0.007*\"firearm\" + 0.006*\"free\"\n",
      "Topic 11: 0.036*\"car\" + 0.015*\"bike\" + 0.011*\"engine\" + 0.008*\"front\" + 0.008*\"cx\" + 0.008*\"mile\" + 0.007*\"road\" + 0.006*\"ride\" + 0.006*\"oil\" + 0.006*\"dod\"\n",
      "Topic 12: 0.016*\"book\" + 0.011*\"time\" + 0.011*\"point\" + 0.011*\"water\" + 0.008*\"theory\" + 0.008*\"light\" + 0.007*\"energy\" + 0.006*\"black\" + 0.006*\"physical\" + 0.006*\"hole\"\n",
      "Topic 13: 0.018*\"power\" + 0.016*\"price\" + 0.014*\"sale\" + 0.012*\"offer\" + 0.012*\"sell\" + 0.009*\"box\" + 0.008*\"condition\" + 0.008*\"shipping\" + 0.008*\"ground\" + 0.007*\"current\"\n",
      "Topic 14: 0.016*\"people\" + 0.012*\"fire\" + 0.010*\"fbi\" + 0.009*\"started\" + 0.009*\"child\" + 0.008*\"told\" + 0.007*\"time\" + 0.007*\"happened\" + 0.007*\"koresh\" + 0.007*\"day\"\n",
      "Topic 15: 0.018*\"jew\" + 0.015*\"israel\" + 0.012*\"war\" + 0.011*\"country\" + 0.011*\"arab\" + 0.011*\"israeli\" + 0.010*\"jewish\" + 0.008*\"usa\" + 0.008*\"state\" + 0.006*\"world\"\n",
      "Topic 16: 0.025*\"mail\" + 0.024*\"list\" + 0.019*\"post\" + 0.017*\"group\" + 0.017*\"send\" + 0.015*\"posting\" + 0.014*\"article\" + 0.014*\"question\" + 0.014*\"email\" + 0.013*\"address\"\n",
      "Topic 17: 0.013*\"ftp\" + 0.011*\"data\" + 0.010*\"pub\" + 0.010*\"graphic\" + 0.009*\"software\" + 0.008*\"package\" + 0.007*\"contact\" + 0.007*\"system\" + 0.007*\"tool\" + 0.007*\"information\"\n",
      "Topic 18: 0.030*\"space\" + 0.008*\"mission\" + 0.008*\"launch\" + 0.008*\"satellite\" + 0.008*\"nasa\" + 0.007*\"year\" + 0.007*\"earth\" + 0.007*\"system\" + 0.006*\"orbit\" + 0.006*\"station\"\n",
      "Topic 19: 0.038*\"image\" + 0.032*\"file\" + 0.020*\"bit\" + 0.018*\"color\" + 0.016*\"format\" + 0.015*\"jpeg\" + 0.012*\"db\" + 0.012*\"program\" + 0.011*\"gif\" + 0.011*\"display\"\n",
      "Topic 20: 0.037*\"drive\" + 0.028*\"card\" + 0.017*\"mb\" + 0.016*\"scsi\" + 0.014*\"monitor\" + 0.013*\"bit\" + 0.013*\"board\" + 0.012*\"mac\" + 0.011*\"video\" + 0.011*\"mhz\"\n",
      "Topic 21: 0.037*\"key\" + 0.017*\"chip\" + 0.013*\"encryption\" + 0.012*\"government\" + 0.011*\"phone\" + 0.011*\"public\" + 0.010*\"bit\" + 0.010*\"clipper\" + 0.010*\"security\" + 0.009*\"system\"\n",
      "Topic 22: 0.081*\"system\" + 0.054*\"disk\" + 0.041*\"window\" + 0.034*\"operating\" + 0.014*\"microsoft\" + 0.014*\"driver\" + 0.013*\"software\" + 0.010*\"run\" + 0.009*\"file\" + 0.009*\"version\"\n",
      "Topic 23: 0.028*\"people\" + 0.013*\"time\" + 0.010*\"homosexual\" + 0.010*\"love\" + 0.010*\"child\" + 0.010*\"friend\" + 0.009*\"men\" + 0.009*\"day\" + 0.008*\"woman\" + 0.008*\"show\"\n",
      "Topic 24: 0.030*\"god\" + 0.018*\"jesus\" + 0.014*\"church\" + 0.013*\"christian\" + 0.011*\"bible\" + 0.010*\"word\" + 0.010*\"christ\" + 0.009*\"sin\" + 0.008*\"lord\" + 0.006*\"man\"\n",
      "Topic 25: 0.019*\"game\" + 0.014*\"team\" + 0.010*\"period\" + 0.010*\"goal\" + 0.010*\"hockey\" + 0.009*\"play\" + 0.009*\"la\" + 0.007*\"pt\" + 0.007*\"player\" + 0.007*\"shot\"\n"
     ]
    }
   ],
   "source": [
    "lda_mallet_models.models_list.append(lda_model)\n",
    "lda_mallet_models.print_topics(0, 10)"
   ]
  },
  {
   "cell_type": "code",
   "execution_count": 14,
   "metadata": {
    "ExecuteTime": {
     "end_time": "2019-03-07T16:58:47.505159Z",
     "start_time": "2019-03-07T16:58:47.230039Z"
    }
   },
   "outputs": [],
   "source": [
    "lda_model = malletmodel2ldamodel(lda_mallet_models.models_list[0])"
   ]
  },
  {
   "cell_type": "code",
   "execution_count": 16,
   "metadata": {
    "ExecuteTime": {
     "end_time": "2019-03-07T16:59:31.281075Z",
     "start_time": "2019-03-07T16:59:31.213447Z"
    }
   },
   "outputs": [],
   "source": [
    "from gensim.corpora import Dictionary\n",
    "dictionary = Dictionary.load( base_path + '/saved-models/dictionary/dictionary.gensim')"
   ]
  },
  {
   "cell_type": "code",
   "execution_count": 17,
   "metadata": {
    "ExecuteTime": {
     "end_time": "2019-03-07T17:05:34.769409Z",
     "start_time": "2019-03-07T16:59:39.035763Z"
    }
   },
   "outputs": [
    {
     "ename": "KeyboardInterrupt",
     "evalue": "",
     "output_type": "error",
     "traceback": [
      "\u001b[0;31m---------------------------------------------------------------------------\u001b[0m",
      "\u001b[0;31mKeyboardInterrupt\u001b[0m                         Traceback (most recent call last)",
      "\u001b[0;32m<ipython-input-17-cf8935ab745f>\u001b[0m in \u001b[0;36m<module>\u001b[0;34m\u001b[0m\n\u001b[0;32m----> 1\u001b[0;31m \u001b[0mlda_vis_data\u001b[0m \u001b[0;34m=\u001b[0m \u001b[0mpyLDAvis\u001b[0m\u001b[0;34m.\u001b[0m\u001b[0mgensim\u001b[0m\u001b[0;34m.\u001b[0m\u001b[0mprepare\u001b[0m\u001b[0;34m(\u001b[0m\u001b[0mlda_model\u001b[0m\u001b[0;34m,\u001b[0m \u001b[0mlda_mallet_models\u001b[0m\u001b[0;34m.\u001b[0m\u001b[0mcorpus\u001b[0m\u001b[0;34m,\u001b[0m \u001b[0mdictionary\u001b[0m\u001b[0;34m)\u001b[0m\u001b[0;34m\u001b[0m\u001b[0;34m\u001b[0m\u001b[0m\n\u001b[0m\u001b[1;32m      2\u001b[0m \u001b[0mpyLDAvis\u001b[0m\u001b[0;34m.\u001b[0m\u001b[0mdisplay\u001b[0m\u001b[0;34m(\u001b[0m\u001b[0mlda_vis_data\u001b[0m\u001b[0;34m)\u001b[0m\u001b[0;34m\u001b[0m\u001b[0;34m\u001b[0m\u001b[0m\n",
      "\u001b[0;32m~/anaconda3/envs/accenture-venv/lib/python3.6/site-packages/pyLDAvis/gensim.py\u001b[0m in \u001b[0;36mprepare\u001b[0;34m(topic_model, corpus, dictionary, doc_topic_dist, **kwargs)\u001b[0m\n\u001b[1;32m    117\u001b[0m     \"\"\"\n\u001b[1;32m    118\u001b[0m     \u001b[0mopts\u001b[0m \u001b[0;34m=\u001b[0m \u001b[0mfp\u001b[0m\u001b[0;34m.\u001b[0m\u001b[0mmerge\u001b[0m\u001b[0;34m(\u001b[0m\u001b[0m_extract_data\u001b[0m\u001b[0;34m(\u001b[0m\u001b[0mtopic_model\u001b[0m\u001b[0;34m,\u001b[0m \u001b[0mcorpus\u001b[0m\u001b[0;34m,\u001b[0m \u001b[0mdictionary\u001b[0m\u001b[0;34m,\u001b[0m \u001b[0mdoc_topic_dist\u001b[0m\u001b[0;34m)\u001b[0m\u001b[0;34m,\u001b[0m \u001b[0mkwargs\u001b[0m\u001b[0;34m)\u001b[0m\u001b[0;34m\u001b[0m\u001b[0;34m\u001b[0m\u001b[0m\n\u001b[0;32m--> 119\u001b[0;31m     \u001b[0;32mreturn\u001b[0m \u001b[0mvis_prepare\u001b[0m\u001b[0;34m(\u001b[0m\u001b[0;34m**\u001b[0m\u001b[0mopts\u001b[0m\u001b[0;34m)\u001b[0m\u001b[0;34m\u001b[0m\u001b[0;34m\u001b[0m\u001b[0m\n\u001b[0m",
      "\u001b[0;32m~/anaconda3/envs/accenture-venv/lib/python3.6/site-packages/pyLDAvis/_prepare.py\u001b[0m in \u001b[0;36mprepare\u001b[0;34m(topic_term_dists, doc_topic_dists, doc_lengths, vocab, term_frequency, R, lambda_step, mds, n_jobs, plot_opts, sort_topics)\u001b[0m\n\u001b[1;32m    396\u001b[0m    \u001b[0mterm_frequency\u001b[0m \u001b[0;34m=\u001b[0m \u001b[0mnp\u001b[0m\u001b[0;34m.\u001b[0m\u001b[0msum\u001b[0m\u001b[0;34m(\u001b[0m\u001b[0mterm_topic_freq\u001b[0m\u001b[0;34m,\u001b[0m \u001b[0maxis\u001b[0m\u001b[0;34m=\u001b[0m\u001b[0;36m0\u001b[0m\u001b[0;34m)\u001b[0m\u001b[0;34m\u001b[0m\u001b[0;34m\u001b[0m\u001b[0m\n\u001b[1;32m    397\u001b[0m \u001b[0;34m\u001b[0m\u001b[0m\n\u001b[0;32m--> 398\u001b[0;31m    \u001b[0mtopic_info\u001b[0m         \u001b[0;34m=\u001b[0m \u001b[0m_topic_info\u001b[0m\u001b[0;34m(\u001b[0m\u001b[0mtopic_term_dists\u001b[0m\u001b[0;34m,\u001b[0m \u001b[0mtopic_proportion\u001b[0m\u001b[0;34m,\u001b[0m \u001b[0mterm_frequency\u001b[0m\u001b[0;34m,\u001b[0m \u001b[0mterm_topic_freq\u001b[0m\u001b[0;34m,\u001b[0m \u001b[0mvocab\u001b[0m\u001b[0;34m,\u001b[0m \u001b[0mlambda_step\u001b[0m\u001b[0;34m,\u001b[0m \u001b[0mR\u001b[0m\u001b[0;34m,\u001b[0m \u001b[0mn_jobs\u001b[0m\u001b[0;34m)\u001b[0m\u001b[0;34m\u001b[0m\u001b[0;34m\u001b[0m\u001b[0m\n\u001b[0m\u001b[1;32m    399\u001b[0m    \u001b[0mtoken_table\u001b[0m        \u001b[0;34m=\u001b[0m \u001b[0m_token_table\u001b[0m\u001b[0;34m(\u001b[0m\u001b[0mtopic_info\u001b[0m\u001b[0;34m,\u001b[0m \u001b[0mterm_topic_freq\u001b[0m\u001b[0;34m,\u001b[0m \u001b[0mvocab\u001b[0m\u001b[0;34m,\u001b[0m \u001b[0mterm_frequency\u001b[0m\u001b[0;34m)\u001b[0m\u001b[0;34m\u001b[0m\u001b[0;34m\u001b[0m\u001b[0m\n\u001b[1;32m    400\u001b[0m    \u001b[0mtopic_coordinates\u001b[0m \u001b[0;34m=\u001b[0m \u001b[0m_topic_coordinates\u001b[0m\u001b[0;34m(\u001b[0m\u001b[0mmds\u001b[0m\u001b[0;34m,\u001b[0m \u001b[0mtopic_term_dists\u001b[0m\u001b[0;34m,\u001b[0m \u001b[0mtopic_proportion\u001b[0m\u001b[0;34m)\u001b[0m\u001b[0;34m\u001b[0m\u001b[0;34m\u001b[0m\u001b[0m\n",
      "\u001b[0;32m~/anaconda3/envs/accenture-venv/lib/python3.6/site-packages/pyLDAvis/_prepare.py\u001b[0m in \u001b[0;36m_topic_info\u001b[0;34m(topic_term_dists, topic_proportion, term_frequency, term_topic_freq, vocab, lambda_step, R, n_jobs)\u001b[0m\n\u001b[1;32m    253\u001b[0m \u001b[0;34m\u001b[0m\u001b[0m\n\u001b[1;32m    254\u001b[0m    top_terms = pd.concat(Parallel(n_jobs=n_jobs)(delayed(_find_relevance_chunks)(log_ttd, log_lift, R, ls) \\\n\u001b[0;32m--> 255\u001b[0;31m                                                  for ls in _job_chunks(lambda_seq, n_jobs)))\n\u001b[0m\u001b[1;32m    256\u001b[0m    \u001b[0mtopic_dfs\u001b[0m \u001b[0;34m=\u001b[0m \u001b[0mmap\u001b[0m\u001b[0;34m(\u001b[0m\u001b[0mtopic_top_term_df\u001b[0m\u001b[0;34m,\u001b[0m \u001b[0menumerate\u001b[0m\u001b[0;34m(\u001b[0m\u001b[0mtop_terms\u001b[0m\u001b[0;34m.\u001b[0m\u001b[0mT\u001b[0m\u001b[0;34m.\u001b[0m\u001b[0miterrows\u001b[0m\u001b[0;34m(\u001b[0m\u001b[0;34m)\u001b[0m\u001b[0;34m,\u001b[0m \u001b[0;36m1\u001b[0m\u001b[0;34m)\u001b[0m\u001b[0;34m)\u001b[0m\u001b[0;34m\u001b[0m\u001b[0;34m\u001b[0m\u001b[0m\n\u001b[1;32m    257\u001b[0m    \u001b[0;32mreturn\u001b[0m \u001b[0mpd\u001b[0m\u001b[0;34m.\u001b[0m\u001b[0mconcat\u001b[0m\u001b[0;34m(\u001b[0m\u001b[0;34m[\u001b[0m\u001b[0mdefault_term_info\u001b[0m\u001b[0;34m]\u001b[0m \u001b[0;34m+\u001b[0m \u001b[0mlist\u001b[0m\u001b[0;34m(\u001b[0m\u001b[0mtopic_dfs\u001b[0m\u001b[0;34m)\u001b[0m\u001b[0;34m)\u001b[0m\u001b[0;34m\u001b[0m\u001b[0;34m\u001b[0m\u001b[0m\n",
      "\u001b[0;32m~/anaconda3/envs/accenture-venv/lib/python3.6/site-packages/joblib/parallel.py\u001b[0m in \u001b[0;36m__call__\u001b[0;34m(self, iterable)\u001b[0m\n\u001b[1;32m    932\u001b[0m \u001b[0;34m\u001b[0m\u001b[0m\n\u001b[1;32m    933\u001b[0m             \u001b[0;32mwith\u001b[0m \u001b[0mself\u001b[0m\u001b[0;34m.\u001b[0m\u001b[0m_backend\u001b[0m\u001b[0;34m.\u001b[0m\u001b[0mretrieval_context\u001b[0m\u001b[0;34m(\u001b[0m\u001b[0;34m)\u001b[0m\u001b[0;34m:\u001b[0m\u001b[0;34m\u001b[0m\u001b[0;34m\u001b[0m\u001b[0m\n\u001b[0;32m--> 934\u001b[0;31m                 \u001b[0mself\u001b[0m\u001b[0;34m.\u001b[0m\u001b[0mretrieve\u001b[0m\u001b[0;34m(\u001b[0m\u001b[0;34m)\u001b[0m\u001b[0;34m\u001b[0m\u001b[0;34m\u001b[0m\u001b[0m\n\u001b[0m\u001b[1;32m    935\u001b[0m             \u001b[0;31m# Make sure that we get a last message telling us we are done\u001b[0m\u001b[0;34m\u001b[0m\u001b[0;34m\u001b[0m\u001b[0;34m\u001b[0m\u001b[0m\n\u001b[1;32m    936\u001b[0m             \u001b[0melapsed_time\u001b[0m \u001b[0;34m=\u001b[0m \u001b[0mtime\u001b[0m\u001b[0;34m.\u001b[0m\u001b[0mtime\u001b[0m\u001b[0;34m(\u001b[0m\u001b[0;34m)\u001b[0m \u001b[0;34m-\u001b[0m \u001b[0mself\u001b[0m\u001b[0;34m.\u001b[0m\u001b[0m_start_time\u001b[0m\u001b[0;34m\u001b[0m\u001b[0;34m\u001b[0m\u001b[0m\n",
      "\u001b[0;32m~/anaconda3/envs/accenture-venv/lib/python3.6/site-packages/joblib/parallel.py\u001b[0m in \u001b[0;36mretrieve\u001b[0;34m(self)\u001b[0m\n\u001b[1;32m    831\u001b[0m             \u001b[0;32mtry\u001b[0m\u001b[0;34m:\u001b[0m\u001b[0;34m\u001b[0m\u001b[0;34m\u001b[0m\u001b[0m\n\u001b[1;32m    832\u001b[0m                 \u001b[0;32mif\u001b[0m \u001b[0mgetattr\u001b[0m\u001b[0;34m(\u001b[0m\u001b[0mself\u001b[0m\u001b[0;34m.\u001b[0m\u001b[0m_backend\u001b[0m\u001b[0;34m,\u001b[0m \u001b[0;34m'supports_timeout'\u001b[0m\u001b[0;34m,\u001b[0m \u001b[0;32mFalse\u001b[0m\u001b[0;34m)\u001b[0m\u001b[0;34m:\u001b[0m\u001b[0;34m\u001b[0m\u001b[0;34m\u001b[0m\u001b[0m\n\u001b[0;32m--> 833\u001b[0;31m                     \u001b[0mself\u001b[0m\u001b[0;34m.\u001b[0m\u001b[0m_output\u001b[0m\u001b[0;34m.\u001b[0m\u001b[0mextend\u001b[0m\u001b[0;34m(\u001b[0m\u001b[0mjob\u001b[0m\u001b[0;34m.\u001b[0m\u001b[0mget\u001b[0m\u001b[0;34m(\u001b[0m\u001b[0mtimeout\u001b[0m\u001b[0;34m=\u001b[0m\u001b[0mself\u001b[0m\u001b[0;34m.\u001b[0m\u001b[0mtimeout\u001b[0m\u001b[0;34m)\u001b[0m\u001b[0;34m)\u001b[0m\u001b[0;34m\u001b[0m\u001b[0;34m\u001b[0m\u001b[0m\n\u001b[0m\u001b[1;32m    834\u001b[0m                 \u001b[0;32melse\u001b[0m\u001b[0;34m:\u001b[0m\u001b[0;34m\u001b[0m\u001b[0;34m\u001b[0m\u001b[0m\n\u001b[1;32m    835\u001b[0m                     \u001b[0mself\u001b[0m\u001b[0;34m.\u001b[0m\u001b[0m_output\u001b[0m\u001b[0;34m.\u001b[0m\u001b[0mextend\u001b[0m\u001b[0;34m(\u001b[0m\u001b[0mjob\u001b[0m\u001b[0;34m.\u001b[0m\u001b[0mget\u001b[0m\u001b[0;34m(\u001b[0m\u001b[0;34m)\u001b[0m\u001b[0;34m)\u001b[0m\u001b[0;34m\u001b[0m\u001b[0;34m\u001b[0m\u001b[0m\n",
      "\u001b[0;32m~/anaconda3/envs/accenture-venv/lib/python3.6/site-packages/joblib/_parallel_backends.py\u001b[0m in \u001b[0;36mwrap_future_result\u001b[0;34m(future, timeout)\u001b[0m\n\u001b[1;32m    519\u001b[0m         AsyncResults.get from multiprocessing.\"\"\"\n\u001b[1;32m    520\u001b[0m         \u001b[0;32mtry\u001b[0m\u001b[0;34m:\u001b[0m\u001b[0;34m\u001b[0m\u001b[0;34m\u001b[0m\u001b[0m\n\u001b[0;32m--> 521\u001b[0;31m             \u001b[0;32mreturn\u001b[0m \u001b[0mfuture\u001b[0m\u001b[0;34m.\u001b[0m\u001b[0mresult\u001b[0m\u001b[0;34m(\u001b[0m\u001b[0mtimeout\u001b[0m\u001b[0;34m=\u001b[0m\u001b[0mtimeout\u001b[0m\u001b[0;34m)\u001b[0m\u001b[0;34m\u001b[0m\u001b[0;34m\u001b[0m\u001b[0m\n\u001b[0m\u001b[1;32m    522\u001b[0m         \u001b[0;32mexcept\u001b[0m \u001b[0mLokyTimeoutError\u001b[0m\u001b[0;34m:\u001b[0m\u001b[0;34m\u001b[0m\u001b[0;34m\u001b[0m\u001b[0m\n\u001b[1;32m    523\u001b[0m             \u001b[0;32mraise\u001b[0m \u001b[0mTimeoutError\u001b[0m\u001b[0;34m(\u001b[0m\u001b[0;34m)\u001b[0m\u001b[0;34m\u001b[0m\u001b[0;34m\u001b[0m\u001b[0m\n",
      "\u001b[0;32m~/anaconda3/envs/accenture-venv/lib/python3.6/concurrent/futures/_base.py\u001b[0m in \u001b[0;36mresult\u001b[0;34m(self, timeout)\u001b[0m\n\u001b[1;32m    425\u001b[0m                 \u001b[0;32mreturn\u001b[0m \u001b[0mself\u001b[0m\u001b[0;34m.\u001b[0m\u001b[0m__get_result\u001b[0m\u001b[0;34m(\u001b[0m\u001b[0;34m)\u001b[0m\u001b[0;34m\u001b[0m\u001b[0;34m\u001b[0m\u001b[0m\n\u001b[1;32m    426\u001b[0m \u001b[0;34m\u001b[0m\u001b[0m\n\u001b[0;32m--> 427\u001b[0;31m             \u001b[0mself\u001b[0m\u001b[0;34m.\u001b[0m\u001b[0m_condition\u001b[0m\u001b[0;34m.\u001b[0m\u001b[0mwait\u001b[0m\u001b[0;34m(\u001b[0m\u001b[0mtimeout\u001b[0m\u001b[0;34m)\u001b[0m\u001b[0;34m\u001b[0m\u001b[0;34m\u001b[0m\u001b[0m\n\u001b[0m\u001b[1;32m    428\u001b[0m \u001b[0;34m\u001b[0m\u001b[0m\n\u001b[1;32m    429\u001b[0m             \u001b[0;32mif\u001b[0m \u001b[0mself\u001b[0m\u001b[0;34m.\u001b[0m\u001b[0m_state\u001b[0m \u001b[0;32min\u001b[0m \u001b[0;34m[\u001b[0m\u001b[0mCANCELLED\u001b[0m\u001b[0;34m,\u001b[0m \u001b[0mCANCELLED_AND_NOTIFIED\u001b[0m\u001b[0;34m]\u001b[0m\u001b[0;34m:\u001b[0m\u001b[0;34m\u001b[0m\u001b[0;34m\u001b[0m\u001b[0m\n",
      "\u001b[0;32m~/anaconda3/envs/accenture-venv/lib/python3.6/threading.py\u001b[0m in \u001b[0;36mwait\u001b[0;34m(self, timeout)\u001b[0m\n\u001b[1;32m    293\u001b[0m         \u001b[0;32mtry\u001b[0m\u001b[0;34m:\u001b[0m    \u001b[0;31m# restore state no matter what (e.g., KeyboardInterrupt)\u001b[0m\u001b[0;34m\u001b[0m\u001b[0;34m\u001b[0m\u001b[0m\n\u001b[1;32m    294\u001b[0m             \u001b[0;32mif\u001b[0m \u001b[0mtimeout\u001b[0m \u001b[0;32mis\u001b[0m \u001b[0;32mNone\u001b[0m\u001b[0;34m:\u001b[0m\u001b[0;34m\u001b[0m\u001b[0;34m\u001b[0m\u001b[0m\n\u001b[0;32m--> 295\u001b[0;31m                 \u001b[0mwaiter\u001b[0m\u001b[0;34m.\u001b[0m\u001b[0macquire\u001b[0m\u001b[0;34m(\u001b[0m\u001b[0;34m)\u001b[0m\u001b[0;34m\u001b[0m\u001b[0;34m\u001b[0m\u001b[0m\n\u001b[0m\u001b[1;32m    296\u001b[0m                 \u001b[0mgotit\u001b[0m \u001b[0;34m=\u001b[0m \u001b[0;32mTrue\u001b[0m\u001b[0;34m\u001b[0m\u001b[0;34m\u001b[0m\u001b[0m\n\u001b[1;32m    297\u001b[0m             \u001b[0;32melse\u001b[0m\u001b[0;34m:\u001b[0m\u001b[0;34m\u001b[0m\u001b[0;34m\u001b[0m\u001b[0m\n",
      "\u001b[0;31mKeyboardInterrupt\u001b[0m: "
     ]
    }
   ],
   "source": [
    "#lda_vis_data = pyLDAvis.gensim.prepare(lda_model, lda_mallet_models.corpus, lda_mallet_models.dictionary)\n",
    "lda_vis_data = pyLDAvis.gensim.prepare(lda_model, lda_mallet_models.corpus, dictionary)\n",
    "pyLDAvis.display(lda_vis_data)"
   ]
  },
  {
   "cell_type": "code",
   "execution_count": null,
   "metadata": {
    "ExecuteTime": {
     "end_time": "2019-03-07T16:54:45.194290Z",
     "start_time": "2019-03-07T16:49:08.915Z"
    }
   },
   "outputs": [],
   "source": [
    "pyLDAvis.save_html(lda_vis_data, \"lda_vis\")"
   ]
  },
  {
   "cell_type": "code",
   "execution_count": null,
   "metadata": {},
   "outputs": [],
   "source": []
  }
 ],
 "metadata": {
  "hide_input": false,
  "kernelspec": {
   "display_name": "Python 3",
   "language": "python",
   "name": "python3"
  },
  "language_info": {
   "codemirror_mode": {
    "name": "ipython",
    "version": 3
   },
   "file_extension": ".py",
   "mimetype": "text/x-python",
   "name": "python",
   "nbconvert_exporter": "python",
   "pygments_lexer": "ipython3",
   "version": "3.6.7"
  },
  "toc": {
   "base_numbering": 1,
   "nav_menu": {},
   "number_sections": true,
   "sideBar": true,
   "skip_h1_title": false,
   "title_cell": "Table of Contents",
   "title_sidebar": "Contents",
   "toc_cell": false,
   "toc_position": {},
   "toc_section_display": true,
   "toc_window_display": false
  },
  "varInspector": {
   "cols": {
    "lenName": 16,
    "lenType": 16,
    "lenVar": 40
   },
   "kernels_config": {
    "python": {
     "delete_cmd_postfix": "",
     "delete_cmd_prefix": "del ",
     "library": "var_list.py",
     "varRefreshCmd": "print(var_dic_list())"
    },
    "r": {
     "delete_cmd_postfix": ") ",
     "delete_cmd_prefix": "rm(",
     "library": "var_list.r",
     "varRefreshCmd": "cat(var_dic_list()) "
    }
   },
   "types_to_exclude": [
    "module",
    "function",
    "builtin_function_or_method",
    "instance",
    "_Feature"
   ],
   "window_display": false
  }
 },
 "nbformat": 4,
 "nbformat_minor": 1
}

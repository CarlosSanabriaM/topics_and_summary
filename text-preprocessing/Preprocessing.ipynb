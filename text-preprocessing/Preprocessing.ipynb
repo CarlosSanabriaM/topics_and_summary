{
 "cells": [
  {
   "cell_type": "markdown",
   "metadata": {},
   "source": [
    "# Preprocessing"
   ]
  },
  {
   "cell_type": "code",
   "execution_count": 1,
   "metadata": {
    "ExecuteTime": {
     "end_time": "2019-02-20T08:16:58.501596Z",
     "start_time": "2019-02-20T08:16:58.487437Z"
    }
   },
   "outputs": [],
   "source": [
    "from tqdm import tqdm"
   ]
  },
  {
   "cell_type": "markdown",
   "metadata": {},
   "source": [
    "## Obtain the data"
   ]
  },
  {
   "cell_type": "code",
   "execution_count": 2,
   "metadata": {
    "ExecuteTime": {
     "end_time": "2019-02-20T08:16:58.647277Z",
     "start_time": "2019-02-20T08:16:58.504683Z"
    }
   },
   "outputs": [
    {
     "name": "stdout",
     "output_type": "stream",
     "text": [
      "curl: option -: is unknown\r\n",
      "curl: try 'curl --help' or 'curl --manual' for more information\r\n"
     ]
    }
   ],
   "source": [
    "# Download the tar.gz file\n",
    "!curl - O https://archive.ics.uci.edu/ml/machine-learning-databases/20newsgroups-mld/20_newsgroups.tar.gz"
   ]
  },
  {
   "cell_type": "code",
   "execution_count": 3,
   "metadata": {
    "ExecuteTime": {
     "end_time": "2019-02-20T08:16:58.788417Z",
     "start_time": "2019-02-20T08:16:58.654163Z"
    }
   },
   "outputs": [
    {
     "name": "stdout",
     "output_type": "stream",
     "text": [
      "tar: Error opening archive: Failed to open '20_newsgroups.tar.gz'\r\n"
     ]
    }
   ],
   "source": [
    "# Uncompress the file\n",
    "!tar xzf 20_newsgroups.tar.gz"
   ]
  },
  {
   "cell_type": "code",
   "execution_count": 4,
   "metadata": {
    "ExecuteTime": {
     "end_time": "2019-02-20T08:16:58.917168Z",
     "start_time": "2019-02-20T08:16:58.792872Z"
    }
   },
   "outputs": [
    {
     "name": "stdout",
     "output_type": "stream",
     "text": [
      "rm: 20_newsgroups.tar.gz: No such file or directory\r\n"
     ]
    }
   ],
   "source": [
    "# Remove the compressed file\n",
    "!rm 20_newsgroups.tar.gz"
   ]
  },
  {
   "cell_type": "markdown",
   "metadata": {},
   "source": [
    "## Load the data"
   ]
  },
  {
   "cell_type": "code",
   "execution_count": 5,
   "metadata": {
    "ExecuteTime": {
     "end_time": "2019-02-20T08:16:58.931886Z",
     "start_time": "2019-02-20T08:16:58.919417Z"
    }
   },
   "outputs": [
    {
     "data": {
      "text/plain": [
       "['talk.politics.mideast',\n",
       " 'rec.autos',\n",
       " 'comp.sys.mac.hardware',\n",
       " 'alt.atheism',\n",
       " 'rec.sport.baseball',\n",
       " 'comp.os.ms-windows.misc',\n",
       " 'rec.sport.hockey',\n",
       " 'sci.crypt',\n",
       " 'sci.med',\n",
       " 'talk.politics.misc',\n",
       " 'rec.motorcycles',\n",
       " 'comp.windows.x',\n",
       " 'comp.graphics',\n",
       " 'comp.sys.ibm.pc.hardware',\n",
       " 'sci.electronics',\n",
       " 'talk.politics.guns',\n",
       " 'sci.space',\n",
       " 'soc.religion.christian',\n",
       " 'misc.forsale',\n",
       " 'talk.religion.misc']"
      ]
     },
     "execution_count": 5,
     "metadata": {},
     "output_type": "execute_result"
    }
   ],
   "source": [
    "import os\n",
    "\n",
    "files_list = os.listdir(\"20_newsgroups\")\n",
    "files_list"
   ]
  },
  {
   "cell_type": "code",
   "execution_count": 6,
   "metadata": {
    "ExecuteTime": {
     "end_time": "2019-02-20T08:16:58.944438Z",
     "start_time": "2019-02-20T08:16:58.934406Z"
    }
   },
   "outputs": [],
   "source": [
    "def get_file_content(filename, encoding):\n",
    "    with open(filename, encoding=encoding) as f:\n",
    "        return f.read()\n",
    "\n",
    "\n",
    "def load_20_newsgroups_files():\n",
    "    \"\"\"\n",
    "    Returns a dict with the keys being the class to predict, and the values being a list of strings,\n",
    "    where each string is a file of that class.\n",
    "    \"\"\"\n",
    "    !rm 20_newsgroups/.DS_Store  # Removing Mac file\n",
    "\n",
    "    files_dict = {}\n",
    "\n",
    "    for directory in os.listdir('20_newsgroups'):\n",
    "        files_dict[directory] = []\n",
    "\n",
    "        for file in os.listdir('20_newsgroups/' + directory):\n",
    "            file_content = get_file_content(\n",
    "                '20_newsgroups/' + directory + '/' + file, 'latin1')\n",
    "            files_dict[directory].append(file_content)\n",
    "\n",
    "    return files_dict\n",
    "\n",
    "\n",
    "def print_some_files(files_dict):\n",
    "    \"\"\"\n",
    "    Prints some text files from the corpus.\n",
    "    \"\"\"\n",
    "    print('File 1\\n_______\\n')\n",
    "    print(files_dict['sci.med'][1])\n",
    "    print('\\n\\nFile 2\\n_______\\n')\n",
    "    print(files_dict['sci.electronics'][0])\n",
    "    print('\\n\\nFile 3\\n_______\\n')\n",
    "    print(files_dict['rec.autos'][16])"
   ]
  },
  {
   "cell_type": "code",
   "execution_count": 7,
   "metadata": {
    "ExecuteTime": {
     "end_time": "2019-02-20T08:17:04.306305Z",
     "start_time": "2019-02-20T08:16:58.947082Z"
    }
   },
   "outputs": [
    {
     "name": "stdout",
     "output_type": "stream",
     "text": [
      "rm: 20_newsgroups/.DS_Store: No such file or directory\r\n"
     ]
    }
   ],
   "source": [
    "files_dict = load_20_newsgroups_files()"
   ]
  },
  {
   "cell_type": "code",
   "execution_count": 8,
   "metadata": {
    "ExecuteTime": {
     "end_time": "2019-02-20T08:17:04.312572Z",
     "start_time": "2019-02-20T08:17:04.308211Z"
    }
   },
   "outputs": [
    {
     "data": {
      "text/plain": [
       "dict_keys(['talk.politics.mideast', 'rec.autos', 'comp.sys.mac.hardware', 'alt.atheism', 'rec.sport.baseball', 'comp.os.ms-windows.misc', 'rec.sport.hockey', 'sci.crypt', 'sci.med', 'talk.politics.misc', 'rec.motorcycles', 'comp.windows.x', 'comp.graphics', 'comp.sys.ibm.pc.hardware', 'sci.electronics', 'talk.politics.guns', 'sci.space', 'soc.religion.christian', 'misc.forsale', 'talk.religion.misc'])"
      ]
     },
     "execution_count": 8,
     "metadata": {},
     "output_type": "execute_result"
    }
   ],
   "source": [
    "files_dict.keys()"
   ]
  },
  {
   "cell_type": "code",
   "execution_count": 9,
   "metadata": {
    "ExecuteTime": {
     "end_time": "2019-02-20T08:17:04.318683Z",
     "start_time": "2019-02-20T08:17:04.314667Z"
    },
    "scrolled": false
   },
   "outputs": [
    {
     "name": "stdout",
     "output_type": "stream",
     "text": [
      "File 1\n",
      "_______\n",
      "\n",
      "Path: cantaloupe.srv.cs.cmu.edu!crabapple.srv.cs.cmu.edu!fs7.ece.cmu.edu!europa.eng.gtefsd.com!howland.reston.ans.net!zaphod.mps.ohio-state.edu!saimiri.primate.wisc.edu!zazen!uwec.edu!nyeda\n",
      "From: nyeda@cnsvax.uwec.edu (David Nye)\n",
      "Newsgroups: sci.med\n",
      "Subject: Re: seizures ( infantile spasms )\n",
      "Message-ID: <1993Apr20.191250.6144@cnsvax.uwec.edu>\n",
      "Date: 20 Apr 93 19:12:50 -0600\n",
      "Organization: University of Wisconsin Eau Claire\n",
      "Lines: 19\n",
      "\n",
      "[reply to dufault@lftfld.enet.dec.com (MD)]\n",
      " \n",
      ">After many metabolic tests, body structure tests, and infection/virus\n",
      ">tests the doctors still do not know quite what type of siezures he is\n",
      ">having (although they do have alot of evidence that it is now pointing\n",
      ">to infantile spasms ).  This is where we stand right now....As I know\n",
      ">now, these particular types of disorders are still not really well\n",
      ">understood by the medical community.\n",
      " \n",
      "Infantile spasms have been well understood for quite some time now.  You\n",
      "are seeing a pediatric neurologist, aren't you?  If not, I strongly\n",
      "recommend it.  There is a new anticonvulsant about to be released called\n",
      "felbamate which may be particularly helpful for infantile spasms.  As\n",
      "for learning more about seizures, ask your doctor or his nurse about a\n",
      "local support group.\n",
      " \n",
      "David Nye (nyeda@cnsvax.uwec.edu).  Midelfort Clinic, Eau Claire WI\n",
      "This is patently absurd; but whoever wishes to become a philosopher\n",
      "must learn not to be frightened by absurdities. -- Bertrand Russell\n",
      "\n",
      "\n",
      "\n",
      "File 2\n",
      "_______\n",
      "\n",
      "Path: cantaloupe.srv.cs.cmu.edu!crabapple.srv.cs.cmu.edu!fs7.ece.cmu.edu!europa.eng.gtefsd.com!howland.reston.ans.net!noc.near.net!uunet!news.mentorg.com!sdl!usenet\n",
      "From: garyg@warren.mentorg.com (Gary Gendel)\n",
      "Newsgroups: sci.electronics\n",
      "Subject: Re: Need to find out number to a phone lin\n",
      "Date: 19 Apr 1993 18:08:33 GMT\n",
      "Organization: Mentor Graphics Corp. -- IC Group\n",
      "Lines: 32\n",
      "Distribution: world\n",
      "Message-ID: <1qupr1$1v8@sdl.Warren.MENTORG.COM>\n",
      "References: <1qub4mINN7r3@rave.larc.nasa.gov>\n",
      "Reply-To: garyg@warren.mentorg.com\n",
      "NNTP-Posting-Host: garyg.warren.mentorg.com\n",
      "\n",
      "In article 1qub4mINN7r3@rave.larc.nasa.gov, kludge@grissom.larc.nasa.gov (Scott Dorsey) writes:\n",
      ">In article <20756.2bd16dea@ecs.umass.edu> alee@ecs.umass.edu writes:\n",
      ">>\n",
      ">>Greetings!\n",
      ">>      \n",
      ">>        Situation:  I have a phone jack mounted on a wall.  I don't\n",
      ">>                    know the number of the line.  And I don't want\n",
      ">>                    to call up the operator to place a trace on it.\n",
      ">>\n",
      ">>        Question:   Is there a certain device out there that I can\n",
      ">>                    use to find out the number to the line?\n",
      ">\n",
      ">\n",
      ">Call a friend long distance, collect.  Ask to speak with yourself.  When\n",
      ">the operator asks for you, you won't be there, so ask the operator to leave\n",
      ">your number.  She'll read it out in the clear.\n",
      ">--scott\n",
      "\n",
      "Even easier, my area supports 311.  Dial this and a recording recites your number.\n",
      "Phone techs use it to verify an installed line.\n",
      "---\n",
      "\t\t\tGary Gendel\n",
      "Vice President:\t\t\t\tCurrent consulting assignment:\n",
      "Genashor Corp\t\t\t\tMentor Graphics Corporation\n",
      "9 Piney Woods Drive\t\t\t15 Independence Boulevard\n",
      "Belle Mead, NJ 08502\t\t\tWarren, NJ 07059\n",
      "\n",
      "phone:\t(908) 281-0164\t\t\tphone:\t(908) 604-0883\n",
      "fax:\t(908) 281-9607\t\t\temail:\tgaryg@warren.mentorg.com\n",
      "\n",
      "\n",
      "\n",
      "\n",
      "\n",
      "\n",
      "File 3\n",
      "_______\n",
      "\n",
      "Newsgroups: rec.autos\n",
      "Path: cantaloupe.srv.cs.cmu.edu!das-news.harvard.edu!noc.near.net!uunet!infonode!naomi!ljbartel\n",
      "From: ljbartel@naomi.b23b.ingr.com (Les Bartel)\n",
      "Subject: Re: Aftermarket air-conditioners\n",
      "Message-ID: <1993Apr15.141331.25832@infonode.ingr.com>\n",
      "Sender: usenet@infonode.ingr.com (Usenet Administrator)\n",
      "Reply-To: ljbartel@naomi.b23b.ingr.com\n",
      "Organization: Intergraph Corporation\n",
      "Date: Thu, 15 Apr 1993 14:13:31 GMT\n",
      "Lines: 30\n",
      "\n",
      "In article <1qcaueINNmt8@axon.cs.unc.edu> Andrew Brandt writes:\n",
      "|> I looked into getting a/c installed on my 1987 Honda CRX Si.\n",
      "|> The unit is $875 plus shipping, installation is like 5 1/2 hours on\n",
      "|> top of that.  This is a hunk of change.\n",
      "|> \n",
      "|> Does anyone know *any* place that does aftermarket a/c installation\n",
      "|> (not with a Honda a/c unit, but some third party unit).\n",
      "|> \n",
      "|> I cannot seem to find anyone who can put a third party a/c unit in a\n",
      "|> Honda.  I am in No Carolina, so I would prefer some place nearby, but\n",
      "|> any references would be handy.\n",
      "|>\n",
      "|> Thx, Andy (brandt@cs.unc.edu)\n",
      "\n",
      "Sorry I can't help you with your question, but I do have a comment to\n",
      "make concerning aftermarket A/C units.  I have a Frost-King or Frost-Temp\n",
      "(forget which) aftermarket unit on my Cavalier, and am quite unhappy with\n",
      "it.  The fan is noisy, and doesn't put out much air.  I will never have\n",
      "an aftermarket A/C installed in any of my vehicles again.  I just can't\n",
      "trust the quality and performance after this experience.\n",
      "\n",
      " - les\n",
      "\n",
      "-- \n",
      "Les Bartel\t\t\tI'm going to live forever\n",
      "Intergraph Corporation\t\t... or die trying\n",
      "Electronics Division\t\t\n",
      "ljbartel@ingr.com\n",
      "or ljbartel@naomi.b23b.ingr.com\n",
      "(205) 730-8537\n",
      "\n"
     ]
    }
   ],
   "source": [
    "print_some_files(files_dict)"
   ]
  },
  {
   "cell_type": "markdown",
   "metadata": {},
   "source": [
    "## Preprocess the data"
   ]
  },
  {
   "cell_type": "code",
   "execution_count": 10,
   "metadata": {
    "ExecuteTime": {
     "end_time": "2019-02-20T08:17:04.326561Z",
     "start_time": "2019-02-20T08:17:04.321770Z"
    }
   },
   "outputs": [],
   "source": [
    "def apply_function_to_files(files_dict, function):\n",
    "    \"\"\"\n",
    "    Applies the given function to each of the text files in the given corpus,\n",
    "    and returns a copy of it, without modifying the given one.\n",
    "\n",
    "    Parameters\n",
    "    ----------\n",
    "    function : function\n",
    "        The function to be applied to each text file.\n",
    "        \n",
    "    Returns\n",
    "    -------\n",
    "    files_dict: A copy of the given files_dict with the given function applied to each text in it.\n",
    "    \"\"\"\n",
    "    new_files_dict = dict(files_dict)\n",
    "    for files_class in new_files_dict:\n",
    "        new_files_dict[files_class] = [function(file)\n",
    "                                   for file in new_files_dict[files_class]]\n",
    "    return new_files_dict"
   ]
  },
  {
   "cell_type": "markdown",
   "metadata": {},
   "source": [
    "### Remove the header of each file"
   ]
  },
  {
   "cell_type": "code",
   "execution_count": 11,
   "metadata": {
    "ExecuteTime": {
     "end_time": "2019-02-20T08:17:04.332459Z",
     "start_time": "2019-02-20T08:17:04.328796Z"
    }
   },
   "outputs": [],
   "source": [
    "def strip_header(file_text):\n",
    "    \"\"\"\n",
    "    Returns the file with the header removed.\n",
    "    The header is the text before the first blank line.\n",
    "    \"\"\"\n",
    "    _before, _blankline, after = file_text.partition('\\n\\n')\n",
    "    return after"
   ]
  },
  {
   "cell_type": "code",
   "execution_count": 12,
   "metadata": {
    "ExecuteTime": {
     "end_time": "2019-02-20T08:17:04.397898Z",
     "start_time": "2019-02-20T08:17:04.335062Z"
    }
   },
   "outputs": [],
   "source": [
    "files_dict = apply_function_to_files(files_dict, strip_header)"
   ]
  },
  {
   "cell_type": "code",
   "execution_count": 13,
   "metadata": {
    "ExecuteTime": {
     "end_time": "2019-02-20T08:17:04.405987Z",
     "start_time": "2019-02-20T08:17:04.400113Z"
    },
    "scrolled": true
   },
   "outputs": [
    {
     "name": "stdout",
     "output_type": "stream",
     "text": [
      "File 1\n",
      "_______\n",
      "\n",
      "[reply to dufault@lftfld.enet.dec.com (MD)]\n",
      " \n",
      ">After many metabolic tests, body structure tests, and infection/virus\n",
      ">tests the doctors still do not know quite what type of siezures he is\n",
      ">having (although they do have alot of evidence that it is now pointing\n",
      ">to infantile spasms ).  This is where we stand right now....As I know\n",
      ">now, these particular types of disorders are still not really well\n",
      ">understood by the medical community.\n",
      " \n",
      "Infantile spasms have been well understood for quite some time now.  You\n",
      "are seeing a pediatric neurologist, aren't you?  If not, I strongly\n",
      "recommend it.  There is a new anticonvulsant about to be released called\n",
      "felbamate which may be particularly helpful for infantile spasms.  As\n",
      "for learning more about seizures, ask your doctor or his nurse about a\n",
      "local support group.\n",
      " \n",
      "David Nye (nyeda@cnsvax.uwec.edu).  Midelfort Clinic, Eau Claire WI\n",
      "This is patently absurd; but whoever wishes to become a philosopher\n",
      "must learn not to be frightened by absurdities. -- Bertrand Russell\n",
      "\n",
      "\n",
      "\n",
      "File 2\n",
      "_______\n",
      "\n",
      "In article 1qub4mINN7r3@rave.larc.nasa.gov, kludge@grissom.larc.nasa.gov (Scott Dorsey) writes:\n",
      ">In article <20756.2bd16dea@ecs.umass.edu> alee@ecs.umass.edu writes:\n",
      ">>\n",
      ">>Greetings!\n",
      ">>      \n",
      ">>        Situation:  I have a phone jack mounted on a wall.  I don't\n",
      ">>                    know the number of the line.  And I don't want\n",
      ">>                    to call up the operator to place a trace on it.\n",
      ">>\n",
      ">>        Question:   Is there a certain device out there that I can\n",
      ">>                    use to find out the number to the line?\n",
      ">\n",
      ">\n",
      ">Call a friend long distance, collect.  Ask to speak with yourself.  When\n",
      ">the operator asks for you, you won't be there, so ask the operator to leave\n",
      ">your number.  She'll read it out in the clear.\n",
      ">--scott\n",
      "\n",
      "Even easier, my area supports 311.  Dial this and a recording recites your number.\n",
      "Phone techs use it to verify an installed line.\n",
      "---\n",
      "\t\t\tGary Gendel\n",
      "Vice President:\t\t\t\tCurrent consulting assignment:\n",
      "Genashor Corp\t\t\t\tMentor Graphics Corporation\n",
      "9 Piney Woods Drive\t\t\t15 Independence Boulevard\n",
      "Belle Mead, NJ 08502\t\t\tWarren, NJ 07059\n",
      "\n",
      "phone:\t(908) 281-0164\t\t\tphone:\t(908) 604-0883\n",
      "fax:\t(908) 281-9607\t\t\temail:\tgaryg@warren.mentorg.com\n",
      "\n",
      "\n",
      "\n",
      "\n",
      "\n",
      "\n",
      "File 3\n",
      "_______\n",
      "\n",
      "In article <1qcaueINNmt8@axon.cs.unc.edu> Andrew Brandt writes:\n",
      "|> I looked into getting a/c installed on my 1987 Honda CRX Si.\n",
      "|> The unit is $875 plus shipping, installation is like 5 1/2 hours on\n",
      "|> top of that.  This is a hunk of change.\n",
      "|> \n",
      "|> Does anyone know *any* place that does aftermarket a/c installation\n",
      "|> (not with a Honda a/c unit, but some third party unit).\n",
      "|> \n",
      "|> I cannot seem to find anyone who can put a third party a/c unit in a\n",
      "|> Honda.  I am in No Carolina, so I would prefer some place nearby, but\n",
      "|> any references would be handy.\n",
      "|>\n",
      "|> Thx, Andy (brandt@cs.unc.edu)\n",
      "\n",
      "Sorry I can't help you with your question, but I do have a comment to\n",
      "make concerning aftermarket A/C units.  I have a Frost-King or Frost-Temp\n",
      "(forget which) aftermarket unit on my Cavalier, and am quite unhappy with\n",
      "it.  The fan is noisy, and doesn't put out much air.  I will never have\n",
      "an aftermarket A/C installed in any of my vehicles again.  I just can't\n",
      "trust the quality and performance after this experience.\n",
      "\n",
      " - les\n",
      "\n",
      "-- \n",
      "Les Bartel\t\t\tI'm going to live forever\n",
      "Intergraph Corporation\t\t... or die trying\n",
      "Electronics Division\t\t\n",
      "ljbartel@ingr.com\n",
      "or ljbartel@naomi.b23b.ingr.com\n",
      "(205) 730-8537\n",
      "\n"
     ]
    }
   ],
   "source": [
    "print_some_files(files_dict)"
   ]
  },
  {
   "cell_type": "markdown",
   "metadata": {},
   "source": [
    "### Remove quotes"
   ]
  },
  {
   "cell_type": "code",
   "execution_count": 14,
   "metadata": {
    "ExecuteTime": {
     "end_time": "2019-02-20T08:17:04.418282Z",
     "start_time": "2019-02-20T08:17:04.409717Z"
    }
   },
   "outputs": [],
   "source": [
    "import re\n",
    "\n",
    "_QUOTE_RE = re.compile(\n",
    "    r'(writes in|writes:|wrote:|says:|said:|^In article|^Quoted from|^\\||^>)')\n",
    "\n",
    "\n",
    "def strip_quotes(file_text):\n",
    "    \"\"\"\n",
    "    Returns the file with the quotes removed:\n",
    "    Lines beginning with the quote characters > or |\n",
    "    and lines that commonly introduce quoted sections.\n",
    "    \"\"\"\n",
    "    good_lines = [line for line in file_text.split('\\n')\n",
    "                  if not _QUOTE_RE.search(line)]\n",
    "    return '\\n'.join(good_lines)"
   ]
  },
  {
   "cell_type": "code",
   "execution_count": 15,
   "metadata": {
    "ExecuteTime": {
     "end_time": "2019-02-20T08:17:06.136961Z",
     "start_time": "2019-02-20T08:17:04.420795Z"
    }
   },
   "outputs": [],
   "source": [
    "files_dict = apply_function_to_files(files_dict, strip_quotes)"
   ]
  },
  {
   "cell_type": "code",
   "execution_count": 16,
   "metadata": {
    "ExecuteTime": {
     "end_time": "2019-02-20T08:17:06.142204Z",
     "start_time": "2019-02-20T08:17:06.138721Z"
    },
    "scrolled": true
   },
   "outputs": [
    {
     "name": "stdout",
     "output_type": "stream",
     "text": [
      "File 1\n",
      "_______\n",
      "\n",
      "[reply to dufault@lftfld.enet.dec.com (MD)]\n",
      " \n",
      " \n",
      "Infantile spasms have been well understood for quite some time now.  You\n",
      "are seeing a pediatric neurologist, aren't you?  If not, I strongly\n",
      "recommend it.  There is a new anticonvulsant about to be released called\n",
      "felbamate which may be particularly helpful for infantile spasms.  As\n",
      "for learning more about seizures, ask your doctor or his nurse about a\n",
      "local support group.\n",
      " \n",
      "David Nye (nyeda@cnsvax.uwec.edu).  Midelfort Clinic, Eau Claire WI\n",
      "This is patently absurd; but whoever wishes to become a philosopher\n",
      "must learn not to be frightened by absurdities. -- Bertrand Russell\n",
      "\n",
      "\n",
      "\n",
      "File 2\n",
      "_______\n",
      "\n",
      "\n",
      "Even easier, my area supports 311.  Dial this and a recording recites your number.\n",
      "Phone techs use it to verify an installed line.\n",
      "---\n",
      "\t\t\tGary Gendel\n",
      "Vice President:\t\t\t\tCurrent consulting assignment:\n",
      "Genashor Corp\t\t\t\tMentor Graphics Corporation\n",
      "9 Piney Woods Drive\t\t\t15 Independence Boulevard\n",
      "Belle Mead, NJ 08502\t\t\tWarren, NJ 07059\n",
      "\n",
      "phone:\t(908) 281-0164\t\t\tphone:\t(908) 604-0883\n",
      "fax:\t(908) 281-9607\t\t\temail:\tgaryg@warren.mentorg.com\n",
      "\n",
      "\n",
      "\n",
      "\n",
      "\n",
      "\n",
      "File 3\n",
      "_______\n",
      "\n",
      "\n",
      "Sorry I can't help you with your question, but I do have a comment to\n",
      "make concerning aftermarket A/C units.  I have a Frost-King or Frost-Temp\n",
      "(forget which) aftermarket unit on my Cavalier, and am quite unhappy with\n",
      "it.  The fan is noisy, and doesn't put out much air.  I will never have\n",
      "an aftermarket A/C installed in any of my vehicles again.  I just can't\n",
      "trust the quality and performance after this experience.\n",
      "\n",
      " - les\n",
      "\n",
      "-- \n",
      "Les Bartel\t\t\tI'm going to live forever\n",
      "Intergraph Corporation\t\t... or die trying\n",
      "Electronics Division\t\t\n",
      "ljbartel@ingr.com\n",
      "or ljbartel@naomi.b23b.ingr.com\n",
      "(205) 730-8537\n",
      "\n"
     ]
    }
   ],
   "source": [
    "print_some_files(files_dict)"
   ]
  },
  {
   "cell_type": "markdown",
   "metadata": {
    "ExecuteTime": {
     "end_time": "2019-02-15T11:47:43.554309Z",
     "start_time": "2019-02-15T11:47:43.550806Z"
    }
   },
   "source": [
    "### Remove signature footer"
   ]
  },
  {
   "cell_type": "code",
   "execution_count": 17,
   "metadata": {
    "ExecuteTime": {
     "end_time": "2019-02-20T08:17:06.156319Z",
     "start_time": "2019-02-20T08:17:06.150628Z"
    }
   },
   "outputs": [],
   "source": [
    "def strip_footer(file_text):\n",
    "    \"\"\"\n",
    "    Returns the file with the signature block removed:\n",
    "    We assume that signatures are at the end of the text,\n",
    "    separated by a blank line or a line made of -.\n",
    "    \"\"\"\n",
    "    lines = file_text.strip().split('\\n')\n",
    "    for line_num in range(len(lines) - 1, -1, -1):\n",
    "        line = lines[line_num]\n",
    "        if line.strip().strip('-') == '':\n",
    "            break\n",
    "\n",
    "    if line_num > 0:\n",
    "        return '\\n'.join(lines[:line_num])\n",
    "    else:\n",
    "        return file_text"
   ]
  },
  {
   "cell_type": "code",
   "execution_count": 18,
   "metadata": {
    "ExecuteTime": {
     "end_time": "2019-02-20T08:17:06.289012Z",
     "start_time": "2019-02-20T08:17:06.163026Z"
    }
   },
   "outputs": [],
   "source": [
    "files_dict = apply_function_to_files(files_dict, strip_footer)"
   ]
  },
  {
   "cell_type": "code",
   "execution_count": 19,
   "metadata": {
    "ExecuteTime": {
     "end_time": "2019-02-20T08:17:06.294655Z",
     "start_time": "2019-02-20T08:17:06.291135Z"
    }
   },
   "outputs": [
    {
     "name": "stdout",
     "output_type": "stream",
     "text": [
      "File 1\n",
      "_______\n",
      "\n",
      "[reply to dufault@lftfld.enet.dec.com (MD)]\n",
      " \n",
      " \n",
      "Infantile spasms have been well understood for quite some time now.  You\n",
      "are seeing a pediatric neurologist, aren't you?  If not, I strongly\n",
      "recommend it.  There is a new anticonvulsant about to be released called\n",
      "felbamate which may be particularly helpful for infantile spasms.  As\n",
      "for learning more about seizures, ask your doctor or his nurse about a\n",
      "local support group.\n",
      "\n",
      "\n",
      "File 2\n",
      "_______\n",
      "\n",
      "Even easier, my area supports 311.  Dial this and a recording recites your number.\n",
      "Phone techs use it to verify an installed line.\n",
      "---\n",
      "\t\t\tGary Gendel\n",
      "Vice President:\t\t\t\tCurrent consulting assignment:\n",
      "Genashor Corp\t\t\t\tMentor Graphics Corporation\n",
      "9 Piney Woods Drive\t\t\t15 Independence Boulevard\n",
      "Belle Mead, NJ 08502\t\t\tWarren, NJ 07059\n",
      "\n",
      "\n",
      "File 3\n",
      "_______\n",
      "\n",
      "Sorry I can't help you with your question, but I do have a comment to\n",
      "make concerning aftermarket A/C units.  I have a Frost-King or Frost-Temp\n",
      "(forget which) aftermarket unit on my Cavalier, and am quite unhappy with\n",
      "it.  The fan is noisy, and doesn't put out much air.  I will never have\n",
      "an aftermarket A/C installed in any of my vehicles again.  I just can't\n",
      "trust the quality and performance after this experience.\n",
      "\n",
      " - les\n",
      "\n"
     ]
    }
   ],
   "source": [
    "print_some_files(files_dict)"
   ]
  },
  {
   "cell_type": "markdown",
   "metadata": {},
   "source": [
    "### Remove stopwords"
   ]
  },
  {
   "cell_type": "code",
   "execution_count": 20,
   "metadata": {
    "ExecuteTime": {
     "end_time": "2019-02-20T08:17:08.826082Z",
     "start_time": "2019-02-20T08:17:06.296982Z"
    }
   },
   "outputs": [
    {
     "name": "stdout",
     "output_type": "stream",
     "text": [
      "[nltk_data] Downloading package stopwords to\n",
      "[nltk_data]     /Users/carlos/nltk_data...\n",
      "[nltk_data]   Package stopwords is already up-to-date!\n"
     ]
    }
   ],
   "source": [
    "import nltk\n",
    "nltk.download('stopwords')\n",
    "from nltk.corpus import stopwords"
   ]
  },
  {
   "cell_type": "code",
   "execution_count": 21,
   "metadata": {
    "ExecuteTime": {
     "end_time": "2019-02-20T08:17:08.836322Z",
     "start_time": "2019-02-20T08:17:08.829284Z"
    }
   },
   "outputs": [],
   "source": [
    "STOPWORDS = set(stopwords.words('english'))"
   ]
  },
  {
   "cell_type": "code",
   "execution_count": 22,
   "metadata": {
    "ExecuteTime": {
     "end_time": "2019-02-20T08:17:08.846276Z",
     "start_time": "2019-02-20T08:17:08.838801Z"
    }
   },
   "outputs": [],
   "source": [
    "_REPLACE_BY_SPACE_RE = re.compile('[.,;]')\n",
    "\n",
    "\n",
    "def to_lowercase_and_remove_stopwords(text_file):\n",
    "    \"\"\"\n",
    "    Returns the file with the al characters in lowercase\n",
    "    and with the stopwords removed.\n",
    "    \"\"\"\n",
    "    text_file = text_file.lower()\n",
    "    text_file = _REPLACE_BY_SPACE_RE.sub(' ', text_file)\n",
    "    text_file = ' '.join(word for word in text_file.split()\n",
    "                         if word not in STOPWORDS)\n",
    "    return text_file"
   ]
  },
  {
   "cell_type": "code",
   "execution_count": 23,
   "metadata": {
    "ExecuteTime": {
     "end_time": "2019-02-20T08:17:09.868153Z",
     "start_time": "2019-02-20T08:17:08.849546Z"
    }
   },
   "outputs": [],
   "source": [
    "files_dict = apply_function_to_files(files_dict, to_lowercase_and_remove_stopwords)"
   ]
  },
  {
   "cell_type": "code",
   "execution_count": 24,
   "metadata": {
    "ExecuteTime": {
     "end_time": "2019-02-20T08:17:09.873237Z",
     "start_time": "2019-02-20T08:17:09.870136Z"
    }
   },
   "outputs": [
    {
     "name": "stdout",
     "output_type": "stream",
     "text": [
      "File 1\n",
      "_______\n",
      "\n",
      "[reply dufault@lftfld enet dec com (md)] infantile spasms well understood quite time seeing pediatric neurologist you? strongly recommend new anticonvulsant released called felbamate may particularly helpful infantile spasms learning seizures ask doctor nurse local support group\n",
      "\n",
      "\n",
      "File 2\n",
      "_______\n",
      "\n",
      "even easier area supports 311 dial recording recites number phone techs use verify installed line --- gary gendel vice president: current consulting assignment: genashor corp mentor graphics corporation 9 piney woods drive 15 independence boulevard belle mead nj 08502 warren nj 07059\n",
      "\n",
      "\n",
      "File 3\n",
      "_______\n",
      "\n",
      "sorry can't help question comment make concerning aftermarket a/c units frost-king frost-temp (forget which) aftermarket unit cavalier quite unhappy fan noisy put much air never aftermarket a/c installed vehicles can't trust quality performance experience - les\n"
     ]
    }
   ],
   "source": [
    "print_some_files(files_dict)"
   ]
  },
  {
   "cell_type": "markdown",
   "metadata": {},
   "source": [
    "### Stemming vs Lemmatization"
   ]
  },
  {
   "cell_type": "markdown",
   "metadata": {},
   "source": [
    "#### Stemming"
   ]
  },
  {
   "cell_type": "code",
   "execution_count": 25,
   "metadata": {
    "ExecuteTime": {
     "end_time": "2019-02-20T08:17:09.879794Z",
     "start_time": "2019-02-20T08:17:09.876584Z"
    }
   },
   "outputs": [],
   "source": [
    "from nltk.stem import PorterStemmer"
   ]
  },
  {
   "cell_type": "code",
   "execution_count": 26,
   "metadata": {
    "ExecuteTime": {
     "end_time": "2019-02-20T08:17:09.888610Z",
     "start_time": "2019-02-20T08:17:09.882861Z"
    }
   },
   "outputs": [],
   "source": [
    "def stem_words(text_file):\n",
    "    \"\"\"\n",
    "    Given a string, it applies the Porter Stemmer to each word of the string.\n",
    "    \"\"\"\n",
    "    porter_stemmer = PorterStemmer()\n",
    "    return ' '.join(porter_stemmer.stem(word) for word in text_file.split())"
   ]
  },
  {
   "cell_type": "code",
   "execution_count": 27,
   "metadata": {
    "ExecuteTime": {
     "end_time": "2019-02-20T08:17:53.213973Z",
     "start_time": "2019-02-20T08:17:09.891287Z"
    }
   },
   "outputs": [],
   "source": [
    "files_dict_stemming = apply_function_to_files(files_dict, stem_words)"
   ]
  },
  {
   "cell_type": "code",
   "execution_count": 28,
   "metadata": {
    "ExecuteTime": {
     "end_time": "2019-02-20T08:17:53.218668Z",
     "start_time": "2019-02-20T08:17:53.215667Z"
    },
    "scrolled": false
   },
   "outputs": [
    {
     "name": "stdout",
     "output_type": "stream",
     "text": [
      "File 1\n",
      "_______\n",
      "\n",
      "[repli dufault@lftfld enet dec com (md)] infantil spasm well understood quit time see pediatr neurologist you? strongli recommend new anticonvuls releas call felbam may particularli help infantil spasm learn seizur ask doctor nurs local support group\n",
      "\n",
      "\n",
      "File 2\n",
      "_______\n",
      "\n",
      "even easier area support 311 dial record recit number phone tech use verifi instal line --- gari gendel vice president: current consult assignment: genashor corp mentor graphic corpor 9 piney wood drive 15 independ boulevard bell mead nj 08502 warren nj 07059\n",
      "\n",
      "\n",
      "File 3\n",
      "_______\n",
      "\n",
      "sorri can't help question comment make concern aftermarket a/c unit frost-k frost-temp (forget which) aftermarket unit cavali quit unhappi fan noisi put much air never aftermarket a/c instal vehicl can't trust qualiti perform experi - le\n"
     ]
    }
   ],
   "source": [
    "print_some_files(files_dict_stemming)"
   ]
  },
  {
   "cell_type": "markdown",
   "metadata": {},
   "source": [
    "#### Lemmatization"
   ]
  },
  {
   "cell_type": "code",
   "execution_count": 29,
   "metadata": {
    "ExecuteTime": {
     "end_time": "2019-02-20T08:17:53.254322Z",
     "start_time": "2019-02-20T08:17:53.222626Z"
    }
   },
   "outputs": [
    {
     "name": "stdout",
     "output_type": "stream",
     "text": [
      "[nltk_data] Downloading package wordnet to /Users/carlos/nltk_data...\n",
      "[nltk_data]   Package wordnet is already up-to-date!\n"
     ]
    }
   ],
   "source": [
    "nltk.download('wordnet')\n",
    "from nltk.stem import WordNetLemmatizer"
   ]
  },
  {
   "cell_type": "code",
   "execution_count": 30,
   "metadata": {
    "ExecuteTime": {
     "end_time": "2019-02-20T08:17:53.260839Z",
     "start_time": "2019-02-20T08:17:53.256800Z"
    }
   },
   "outputs": [],
   "source": [
    "def lemmatize_words(text_file):\n",
    "    \"\"\"\n",
    "    Given a string, it applies the WordNet Lemmatizer to each word of the string.\n",
    "    \"\"\"\n",
    "    wordnet_lemmatizer = WordNetLemmatizer()\n",
    "    return ' '.join(wordnet_lemmatizer.lemmatize(word) for word in text_file.split())"
   ]
  },
  {
   "cell_type": "code",
   "execution_count": 31,
   "metadata": {
    "ExecuteTime": {
     "end_time": "2019-02-20T08:18:03.717438Z",
     "start_time": "2019-02-20T08:17:53.263273Z"
    }
   },
   "outputs": [],
   "source": [
    "files_dict_lemmatization = apply_function_to_files(files_dict, lemmatize_words)"
   ]
  },
  {
   "cell_type": "code",
   "execution_count": 32,
   "metadata": {
    "ExecuteTime": {
     "end_time": "2019-02-20T08:18:03.722520Z",
     "start_time": "2019-02-20T08:18:03.719315Z"
    }
   },
   "outputs": [
    {
     "name": "stdout",
     "output_type": "stream",
     "text": [
      "File 1\n",
      "_______\n",
      "\n",
      "[reply dufault@lftfld enet dec com (md)] infantile spasm well understood quite time seeing pediatric neurologist you? strongly recommend new anticonvulsant released called felbamate may particularly helpful infantile spasm learning seizure ask doctor nurse local support group\n",
      "\n",
      "\n",
      "File 2\n",
      "_______\n",
      "\n",
      "even easier area support 311 dial recording recites number phone tech use verify installed line --- gary gendel vice president: current consulting assignment: genashor corp mentor graphic corporation 9 piney wood drive 15 independence boulevard belle mead nj 08502 warren nj 07059\n",
      "\n",
      "\n",
      "File 3\n",
      "_______\n",
      "\n",
      "sorry can't help question comment make concerning aftermarket a/c unit frost-king frost-temp (forget which) aftermarket unit cavalier quite unhappy fan noisy put much air never aftermarket a/c installed vehicle can't trust quality performance experience - le\n"
     ]
    }
   ],
   "source": [
    "print_some_files(files_dict_lemmatization)"
   ]
  },
  {
   "cell_type": "markdown",
   "metadata": {},
   "source": [
    "# Creating models"
   ]
  },
  {
   "cell_type": "markdown",
   "metadata": {},
   "source": [
    "## Transform the data to a pandas DataFrame"
   ]
  },
  {
   "cell_type": "code",
   "execution_count": 33,
   "metadata": {
    "ExecuteTime": {
     "end_time": "2019-02-20T08:18:04.175797Z",
     "start_time": "2019-02-20T08:18:03.724757Z"
    }
   },
   "outputs": [],
   "source": [
    "import pandas as pd"
   ]
  },
  {
   "cell_type": "code",
   "execution_count": 34,
   "metadata": {
    "ExecuteTime": {
     "end_time": "2019-02-20T08:18:04.181807Z",
     "start_time": "2019-02-20T08:18:04.177440Z"
    }
   },
   "outputs": [],
   "source": [
    "def transform_dict_to_dataframe(files_dict):\n",
    "    \"\"\"\n",
    "    Transforms the files_dict created before to a pandas DataFrame.\n",
    "    \"\"\"\n",
    "    i = 0\n",
    "    dataframe_dict = {}\n",
    "    for file_class, files_list in files_dict.items():\n",
    "        for file in files_list:\n",
    "            dataframe_dict[i] = [file, file_class]\n",
    "            i += 1\n",
    "\n",
    "    return pd.DataFrame.from_dict(dataframe_dict, orient='index', columns=['document', 'class'])"
   ]
  },
  {
   "cell_type": "markdown",
   "metadata": {},
   "source": [
    "### Stemming"
   ]
  },
  {
   "cell_type": "code",
   "execution_count": 35,
   "metadata": {
    "ExecuteTime": {
     "end_time": "2019-02-20T08:18:04.219939Z",
     "start_time": "2019-02-20T08:18:04.184302Z"
    },
    "scrolled": true
   },
   "outputs": [
    {
     "data": {
      "text/html": [
       "<div>\n",
       "<style scoped>\n",
       "    .dataframe tbody tr th:only-of-type {\n",
       "        vertical-align: middle;\n",
       "    }\n",
       "\n",
       "    .dataframe tbody tr th {\n",
       "        vertical-align: top;\n",
       "    }\n",
       "\n",
       "    .dataframe thead th {\n",
       "        text-align: right;\n",
       "    }\n",
       "</style>\n",
       "<table border=\"1\" class=\"dataframe\">\n",
       "  <thead>\n",
       "    <tr style=\"text-align: right;\">\n",
       "      <th></th>\n",
       "      <th>document</th>\n",
       "      <th>class</th>\n",
       "    </tr>\n",
       "  </thead>\n",
       "  <tbody>\n",
       "    <tr>\n",
       "      <th>0</th>\n",
       "      <td>lebanes resist forc deton bomb isra occup patr...</td>\n",
       "      <td>talk.politics.mideast</td>\n",
       "    </tr>\n",
       "    <tr>\n",
       "      <th>1</th>\n",
       "      <td>uh oh! first sign argument without merit--th s...</td>\n",
       "      <td>talk.politics.mideast</td>\n",
       "    </tr>\n",
       "    <tr>\n",
       "      <th>2</th>\n",
       "      <td>ah c'mon give guy three day see come leo</td>\n",
       "      <td>talk.politics.mideast</td>\n",
       "    </tr>\n",
       "    <tr>\n",
       "      <th>3</th>\n",
       "      <td>cours post hard evid fact much difficult bothe...</td>\n",
       "      <td>talk.politics.mideast</td>\n",
       "    </tr>\n",
       "    <tr>\n",
       "      <th>4</th>\n",
       "      <td>precis cuba?? not??? hatian rule thug elect le...</td>\n",
       "      <td>talk.politics.mideast</td>\n",
       "    </tr>\n",
       "    <tr>\n",
       "      <th>5</th>\n",
       "      <td>from: center polici research &lt;cpr&gt; subject: zi...</td>\n",
       "      <td>talk.politics.mideast</td>\n",
       "    </tr>\n",
       "    <tr>\n",
       "      <th>6</th>\n",
       "      <td>massacr answer: a(1-1/2-1/4-1/11)=280 -&gt; = 1760</td>\n",
       "      <td>talk.politics.mideast</td>\n",
       "    </tr>\n",
       "    <tr>\n",
       "      <th>7</th>\n",
       "      <td>variou contradictori view origin armenian name...</td>\n",
       "      <td>talk.politics.mideast</td>\n",
       "    </tr>\n",
       "    <tr>\n",
       "      <th>8</th>\n",
       "      <td>[ stuff delet ] |&gt; call name give title? first...</td>\n",
       "      <td>talk.politics.mideast</td>\n",
       "    </tr>\n",
       "    <tr>\n",
       "      <th>9</th>\n",
       "      <td>ignor hardli characterist '*ians' sarki atamia...</td>\n",
       "      <td>talk.politics.mideast</td>\n",
       "    </tr>\n",
       "    <tr>\n",
       "      <th>10</th>\n",
       "      <td>hell guy david davidian think talk much yo dav...</td>\n",
       "      <td>talk.politics.mideast</td>\n",
       "    </tr>\n",
       "    <tr>\n",
       "      <th>11</th>\n",
       "      <td>ok alreadi disqualifi (who ever are) object je...</td>\n",
       "      <td>talk.politics.mideast</td>\n",
       "    </tr>\n",
       "    <tr>\n",
       "      <th>12</th>\n",
       "      <td>dorin let' forget soldier kill murder distinct...</td>\n",
       "      <td>talk.politics.mideast</td>\n",
       "    </tr>\n",
       "    <tr>\n",
       "      <th>13</th>\n",
       "      <td>account anti-armenian human right violat azerb...</td>\n",
       "      <td>talk.politics.mideast</td>\n",
       "    </tr>\n",
       "    <tr>\n",
       "      <th>14</th>\n",
       "      <td>[deleted] noteworthi post west evil etc made i...</td>\n",
       "      <td>talk.politics.mideast</td>\n",
       "    </tr>\n",
       "    <tr>\n",
       "      <th>15</th>\n",
       "      <td>^^^^^^^^^^^^^^^^^^^^ funni anyway suppos fact ...</td>\n",
       "      <td>talk.politics.mideast</td>\n",
       "    </tr>\n",
       "    <tr>\n",
       "      <th>16</th>\n",
       "      <td>that' zionist decid zion must gentile-rein wha...</td>\n",
       "      <td>talk.politics.mideast</td>\n",
       "    </tr>\n",
       "    <tr>\n",
       "      <th>17</th>\n",
       "      <td>[ ] henrik] countri turk azeri consistantli wa...</td>\n",
       "      <td>talk.politics.mideast</td>\n",
       "    </tr>\n",
       "    <tr>\n",
       "      <th>18</th>\n",
       "      <td>^^^^^^^^^^^^^^^^^^^^^^^^^^^^^^^^^^ kind rank s...</td>\n",
       "      <td>talk.politics.mideast</td>\n",
       "    </tr>\n",
       "    <tr>\n",
       "      <th>19</th>\n",
       "      <td>(forgiv inaccuraci delet origin post) person w...</td>\n",
       "      <td>talk.politics.mideast</td>\n",
       "    </tr>\n",
       "    <tr>\n",
       "      <th>20</th>\n",
       "      <td>deposit vitali nikolayevich danielian [1] born...</td>\n",
       "      <td>talk.politics.mideast</td>\n",
       "    </tr>\n",
       "    <tr>\n",
       "      <th>21</th>\n",
       "      <td>give us right keep new york? home unit nation ...</td>\n",
       "      <td>talk.politics.mideast</td>\n",
       "    </tr>\n",
       "    <tr>\n",
       "      <th>22</th>\n",
       "      <td>well let' delv one level deeper democraci bett...</td>\n",
       "      <td>talk.politics.mideast</td>\n",
       "    </tr>\n",
       "    <tr>\n",
       "      <th>23</th>\n",
       "      <td>complet misunderstood oppos intervent somalia ...</td>\n",
       "      <td>talk.politics.mideast</td>\n",
       "    </tr>\n",
       "    <tr>\n",
       "      <th>24</th>\n",
       "      <td>reflect bosnia lord owen serb earli februari '...</td>\n",
       "      <td>talk.politics.mideast</td>\n",
       "    </tr>\n",
       "    <tr>\n",
       "      <th>25</th>\n",
       "      <td>bm] gimm break capit letter pure nonsens bm] s...</td>\n",
       "      <td>talk.politics.mideast</td>\n",
       "    </tr>\n",
       "    <tr>\n",
       "      <th>26</th>\n",
       "      <td>mind compuls liar works? scenario genocid stag...</td>\n",
       "      <td>talk.politics.mideast</td>\n",
       "    </tr>\n",
       "    <tr>\n",
       "      <th>27</th>\n",
       "      <td>stupid?</td>\n",
       "      <td>talk.politics.mideast</td>\n",
       "    </tr>\n",
       "    <tr>\n",
       "      <th>28</th>\n",
       "      <td>ah fire arm folk nasti habit fire back simpl t...</td>\n",
       "      <td>talk.politics.mideast</td>\n",
       "    </tr>\n",
       "    <tr>\n",
       "      <th>29</th>\n",
       "      <td>els expect? israel tri portray great democraci...</td>\n",
       "      <td>talk.politics.mideast</td>\n",
       "    </tr>\n",
       "    <tr>\n",
       "      <th>...</th>\n",
       "      <td>...</td>\n",
       "      <td>...</td>\n",
       "    </tr>\n",
       "    <tr>\n",
       "      <th>19968</th>\n",
       "      <td>belief theori theori make predict falsi- fiabl...</td>\n",
       "      <td>talk.religion.misc</td>\n",
       "    </tr>\n",
       "    <tr>\n",
       "      <th>19969</th>\n",
       "      <td>live colorado never heard group obvious claim ...</td>\n",
       "      <td>talk.religion.misc</td>\n",
       "    </tr>\n",
       "    <tr>\n",
       "      <th>19970</th>\n",
       "      <td>make interest claim i'm challeng mind could pr...</td>\n",
       "      <td>talk.religion.misc</td>\n",
       "    </tr>\n",
       "    <tr>\n",
       "      <th>19971</th>\n",
       "      <td>let us explor interest paragraph point point s...</td>\n",
       "      <td>talk.religion.misc</td>\n",
       "    </tr>\n",
       "    <tr>\n",
       "      <th>19972</th>\n",
       "      <td>faith intellig tell druggi break hous night kn...</td>\n",
       "      <td>talk.religion.misc</td>\n",
       "    </tr>\n",
       "    <tr>\n",
       "      <th>19973</th>\n",
       "      <td>(deletion) sinc drivel also crosspost alt athe...</td>\n",
       "      <td>talk.religion.misc</td>\n",
       "    </tr>\n",
       "    <tr>\n",
       "      <th>19974</th>\n",
       "      <td>well thread start discuss sabin evolv entir di...</td>\n",
       "      <td>talk.religion.misc</td>\n",
       "    </tr>\n",
       "    <tr>\n",
       "      <th>19975</th>\n",
       "      <td>huh ?? kind shotgun blast deserv either elabor...</td>\n",
       "      <td>talk.religion.misc</td>\n",
       "    </tr>\n",
       "    <tr>\n",
       "      <th>19976</th>\n",
       "      <td>mean find ridicul price rest us suppos conclud...</td>\n",
       "      <td>talk.religion.misc</td>\n",
       "    </tr>\n",
       "    <tr>\n",
       "      <th>19977</th>\n",
       "      <td>replac \"stephen\" \"david joslin \" sinc direct r...</td>\n",
       "      <td>talk.religion.misc</td>\n",
       "    </tr>\n",
       "    <tr>\n",
       "      <th>19978</th>\n",
       "      <td>articl &lt;1993apr20 210651 5687@gn ecn purdu edu...</td>\n",
       "      <td>talk.religion.misc</td>\n",
       "    </tr>\n",
       "    <tr>\n",
       "      <th>19979</th>\n",
       "      <td>sound like modifi definit christian anyon *str...</td>\n",
       "      <td>talk.religion.misc</td>\n",
       "    </tr>\n",
       "    <tr>\n",
       "      <th>19980</th>\n",
       "      <td>-*---- two command *are* rule mere rule vagu p...</td>\n",
       "      <td>talk.religion.misc</td>\n",
       "    </tr>\n",
       "    <tr>\n",
       "      <th>19981</th>\n",
       "      <td>fbi say one survivor say set fire given claim ...</td>\n",
       "      <td>talk.religion.misc</td>\n",
       "    </tr>\n",
       "    <tr>\n",
       "      <th>19982</th>\n",
       "      <td>i'm afraid much wors this! jesu said follow te...</td>\n",
       "      <td>talk.religion.misc</td>\n",
       "    </tr>\n",
       "    <tr>\n",
       "      <th>19983</th>\n",
       "      <td>abl prove moral object would correct problem m...</td>\n",
       "      <td>talk.religion.misc</td>\n",
       "    </tr>\n",
       "    <tr>\n",
       "      <th>19984</th>\n",
       "      <td>i'm greatli need jurgen moltmann' book god cre...</td>\n",
       "      <td>talk.religion.misc</td>\n",
       "    </tr>\n",
       "    <tr>\n",
       "      <th>19985</th>\n",
       "      <td>: marian cathol high school outsid chicago: : ...</td>\n",
       "      <td>talk.religion.misc</td>\n",
       "    </tr>\n",
       "    <tr>\n",
       "      <th>19986</th>\n",
       "      <td>cockroaches?</td>\n",
       "      <td>talk.religion.misc</td>\n",
       "    </tr>\n",
       "    <tr>\n",
       "      <th>19987</th>\n",
       "      <td>ahhhh see mean exampl valu object *existence* ...</td>\n",
       "      <td>talk.religion.misc</td>\n",
       "    </tr>\n",
       "    <tr>\n",
       "      <th>19988</th>\n",
       "      <td>make 20% see poll recent religi adultery? news...</td>\n",
       "      <td>talk.religion.misc</td>\n",
       "    </tr>\n",
       "    <tr>\n",
       "      <th>19989</th>\n",
       "      <td>&lt;1qlapk$d7v@morrow stanford edu&gt; salem@pangea ...</td>\n",
       "      <td>talk.religion.misc</td>\n",
       "    </tr>\n",
       "    <tr>\n",
       "      <th>19990</th>\n",
       "      <td>see camel' nose i'm will take chanc win whole ...</td>\n",
       "      <td>talk.religion.misc</td>\n",
       "    </tr>\n",
       "    <tr>\n",
       "      <th>19991</th>\n",
       "      <td>21-apr-93 re: abort privat pa recent gender in...</td>\n",
       "      <td>talk.religion.misc</td>\n",
       "    </tr>\n",
       "    <tr>\n",
       "      <th>19992</th>\n",
       "      <td>yes: one' particular goal land man moon put co...</td>\n",
       "      <td>talk.religion.misc</td>\n",
       "    </tr>\n",
       "    <tr>\n",
       "      <th>19993</th>\n",
       "      <td>fbi claim basi intellig report bd' plan commit...</td>\n",
       "      <td>talk.religion.misc</td>\n",
       "    </tr>\n",
       "    <tr>\n",
       "      <th>19994</th>\n",
       "      <td>-- patrick brosnan &lt;patb@bnr co uk&gt; || !mcsun!...</td>\n",
       "      <td>talk.religion.misc</td>\n",
       "    </tr>\n",
       "    <tr>\n",
       "      <th>19995</th>\n",
       "      <td>guess news reader delet line 4th amend deal no...</td>\n",
       "      <td>talk.religion.misc</td>\n",
       "    </tr>\n",
       "    <tr>\n",
       "      <th>19996</th>\n",
       "      <td>would someon name \"dennis\" stuck pay \"abort co...</td>\n",
       "      <td>talk.religion.misc</td>\n",
       "    </tr>\n",
       "    <tr>\n",
       "      <th>19997</th>\n",
       "      <td>so? what' point? mayb me! (in exampl argu that...</td>\n",
       "      <td>talk.religion.misc</td>\n",
       "    </tr>\n",
       "  </tbody>\n",
       "</table>\n",
       "<p>19998 rows × 2 columns</p>\n",
       "</div>"
      ],
      "text/plain": [
       "                                                document  \\\n",
       "0      lebanes resist forc deton bomb isra occup patr...   \n",
       "1      uh oh! first sign argument without merit--th s...   \n",
       "2               ah c'mon give guy three day see come leo   \n",
       "3      cours post hard evid fact much difficult bothe...   \n",
       "4      precis cuba?? not??? hatian rule thug elect le...   \n",
       "5      from: center polici research <cpr> subject: zi...   \n",
       "6        massacr answer: a(1-1/2-1/4-1/11)=280 -> = 1760   \n",
       "7      variou contradictori view origin armenian name...   \n",
       "8      [ stuff delet ] |> call name give title? first...   \n",
       "9      ignor hardli characterist '*ians' sarki atamia...   \n",
       "10     hell guy david davidian think talk much yo dav...   \n",
       "11     ok alreadi disqualifi (who ever are) object je...   \n",
       "12     dorin let' forget soldier kill murder distinct...   \n",
       "13     account anti-armenian human right violat azerb...   \n",
       "14     [deleted] noteworthi post west evil etc made i...   \n",
       "15     ^^^^^^^^^^^^^^^^^^^^ funni anyway suppos fact ...   \n",
       "16     that' zionist decid zion must gentile-rein wha...   \n",
       "17     [ ] henrik] countri turk azeri consistantli wa...   \n",
       "18     ^^^^^^^^^^^^^^^^^^^^^^^^^^^^^^^^^^ kind rank s...   \n",
       "19     (forgiv inaccuraci delet origin post) person w...   \n",
       "20     deposit vitali nikolayevich danielian [1] born...   \n",
       "21     give us right keep new york? home unit nation ...   \n",
       "22     well let' delv one level deeper democraci bett...   \n",
       "23     complet misunderstood oppos intervent somalia ...   \n",
       "24     reflect bosnia lord owen serb earli februari '...   \n",
       "25     bm] gimm break capit letter pure nonsens bm] s...   \n",
       "26     mind compuls liar works? scenario genocid stag...   \n",
       "27                                               stupid?   \n",
       "28     ah fire arm folk nasti habit fire back simpl t...   \n",
       "29     els expect? israel tri portray great democraci...   \n",
       "...                                                  ...   \n",
       "19968  belief theori theori make predict falsi- fiabl...   \n",
       "19969  live colorado never heard group obvious claim ...   \n",
       "19970  make interest claim i'm challeng mind could pr...   \n",
       "19971  let us explor interest paragraph point point s...   \n",
       "19972  faith intellig tell druggi break hous night kn...   \n",
       "19973  (deletion) sinc drivel also crosspost alt athe...   \n",
       "19974  well thread start discuss sabin evolv entir di...   \n",
       "19975  huh ?? kind shotgun blast deserv either elabor...   \n",
       "19976  mean find ridicul price rest us suppos conclud...   \n",
       "19977  replac \"stephen\" \"david joslin \" sinc direct r...   \n",
       "19978  articl <1993apr20 210651 5687@gn ecn purdu edu...   \n",
       "19979  sound like modifi definit christian anyon *str...   \n",
       "19980  -*---- two command *are* rule mere rule vagu p...   \n",
       "19981  fbi say one survivor say set fire given claim ...   \n",
       "19982  i'm afraid much wors this! jesu said follow te...   \n",
       "19983  abl prove moral object would correct problem m...   \n",
       "19984  i'm greatli need jurgen moltmann' book god cre...   \n",
       "19985  : marian cathol high school outsid chicago: : ...   \n",
       "19986                                       cockroaches?   \n",
       "19987  ahhhh see mean exampl valu object *existence* ...   \n",
       "19988  make 20% see poll recent religi adultery? news...   \n",
       "19989  <1qlapk$d7v@morrow stanford edu> salem@pangea ...   \n",
       "19990  see camel' nose i'm will take chanc win whole ...   \n",
       "19991  21-apr-93 re: abort privat pa recent gender in...   \n",
       "19992  yes: one' particular goal land man moon put co...   \n",
       "19993  fbi claim basi intellig report bd' plan commit...   \n",
       "19994  -- patrick brosnan <patb@bnr co uk> || !mcsun!...   \n",
       "19995  guess news reader delet line 4th amend deal no...   \n",
       "19996  would someon name \"dennis\" stuck pay \"abort co...   \n",
       "19997  so? what' point? mayb me! (in exampl argu that...   \n",
       "\n",
       "                       class  \n",
       "0      talk.politics.mideast  \n",
       "1      talk.politics.mideast  \n",
       "2      talk.politics.mideast  \n",
       "3      talk.politics.mideast  \n",
       "4      talk.politics.mideast  \n",
       "5      talk.politics.mideast  \n",
       "6      talk.politics.mideast  \n",
       "7      talk.politics.mideast  \n",
       "8      talk.politics.mideast  \n",
       "9      talk.politics.mideast  \n",
       "10     talk.politics.mideast  \n",
       "11     talk.politics.mideast  \n",
       "12     talk.politics.mideast  \n",
       "13     talk.politics.mideast  \n",
       "14     talk.politics.mideast  \n",
       "15     talk.politics.mideast  \n",
       "16     talk.politics.mideast  \n",
       "17     talk.politics.mideast  \n",
       "18     talk.politics.mideast  \n",
       "19     talk.politics.mideast  \n",
       "20     talk.politics.mideast  \n",
       "21     talk.politics.mideast  \n",
       "22     talk.politics.mideast  \n",
       "23     talk.politics.mideast  \n",
       "24     talk.politics.mideast  \n",
       "25     talk.politics.mideast  \n",
       "26     talk.politics.mideast  \n",
       "27     talk.politics.mideast  \n",
       "28     talk.politics.mideast  \n",
       "29     talk.politics.mideast  \n",
       "...                      ...  \n",
       "19968     talk.religion.misc  \n",
       "19969     talk.religion.misc  \n",
       "19970     talk.religion.misc  \n",
       "19971     talk.religion.misc  \n",
       "19972     talk.religion.misc  \n",
       "19973     talk.religion.misc  \n",
       "19974     talk.religion.misc  \n",
       "19975     talk.religion.misc  \n",
       "19976     talk.religion.misc  \n",
       "19977     talk.religion.misc  \n",
       "19978     talk.religion.misc  \n",
       "19979     talk.religion.misc  \n",
       "19980     talk.religion.misc  \n",
       "19981     talk.religion.misc  \n",
       "19982     talk.religion.misc  \n",
       "19983     talk.religion.misc  \n",
       "19984     talk.religion.misc  \n",
       "19985     talk.religion.misc  \n",
       "19986     talk.religion.misc  \n",
       "19987     talk.religion.misc  \n",
       "19988     talk.religion.misc  \n",
       "19989     talk.religion.misc  \n",
       "19990     talk.religion.misc  \n",
       "19991     talk.religion.misc  \n",
       "19992     talk.religion.misc  \n",
       "19993     talk.religion.misc  \n",
       "19994     talk.religion.misc  \n",
       "19995     talk.religion.misc  \n",
       "19996     talk.religion.misc  \n",
       "19997     talk.religion.misc  \n",
       "\n",
       "[19998 rows x 2 columns]"
      ]
     },
     "execution_count": 35,
     "metadata": {},
     "output_type": "execute_result"
    }
   ],
   "source": [
    "df_stemming = transform_dict_to_dataframe(files_dict_stemming)\n",
    "df_stemming"
   ]
  },
  {
   "cell_type": "code",
   "execution_count": 36,
   "metadata": {
    "ExecuteTime": {
     "end_time": "2019-02-20T08:18:04.291307Z",
     "start_time": "2019-02-20T08:18:04.222466Z"
    }
   },
   "outputs": [
    {
     "data": {
      "text/html": [
       "<div>\n",
       "<style scoped>\n",
       "    .dataframe tbody tr th:only-of-type {\n",
       "        vertical-align: middle;\n",
       "    }\n",
       "\n",
       "    .dataframe tbody tr th {\n",
       "        vertical-align: top;\n",
       "    }\n",
       "\n",
       "    .dataframe thead th {\n",
       "        text-align: right;\n",
       "    }\n",
       "</style>\n",
       "<table border=\"1\" class=\"dataframe\">\n",
       "  <thead>\n",
       "    <tr style=\"text-align: right;\">\n",
       "      <th></th>\n",
       "      <th>document</th>\n",
       "      <th>class</th>\n",
       "    </tr>\n",
       "  </thead>\n",
       "  <tbody>\n",
       "    <tr>\n",
       "      <th>count</th>\n",
       "      <td>19998</td>\n",
       "      <td>19998</td>\n",
       "    </tr>\n",
       "    <tr>\n",
       "      <th>unique</th>\n",
       "      <td>19254</td>\n",
       "      <td>20</td>\n",
       "    </tr>\n",
       "    <tr>\n",
       "      <th>top</th>\n",
       "      <td></td>\n",
       "      <td>alt.atheism</td>\n",
       "    </tr>\n",
       "    <tr>\n",
       "      <th>freq</th>\n",
       "      <td>68</td>\n",
       "      <td>1001</td>\n",
       "    </tr>\n",
       "  </tbody>\n",
       "</table>\n",
       "</div>"
      ],
      "text/plain": [
       "       document        class\n",
       "count     19998        19998\n",
       "unique    19254           20\n",
       "top              alt.atheism\n",
       "freq         68         1001"
      ]
     },
     "execution_count": 36,
     "metadata": {},
     "output_type": "execute_result"
    }
   ],
   "source": [
    "df_stemming.describe()"
   ]
  },
  {
   "cell_type": "markdown",
   "metadata": {},
   "source": [
    "### Lemmatization"
   ]
  },
  {
   "cell_type": "code",
   "execution_count": 37,
   "metadata": {
    "ExecuteTime": {
     "end_time": "2019-02-20T08:18:04.325336Z",
     "start_time": "2019-02-20T08:18:04.294063Z"
    },
    "scrolled": true
   },
   "outputs": [
    {
     "data": {
      "text/html": [
       "<div>\n",
       "<style scoped>\n",
       "    .dataframe tbody tr th:only-of-type {\n",
       "        vertical-align: middle;\n",
       "    }\n",
       "\n",
       "    .dataframe tbody tr th {\n",
       "        vertical-align: top;\n",
       "    }\n",
       "\n",
       "    .dataframe thead th {\n",
       "        text-align: right;\n",
       "    }\n",
       "</style>\n",
       "<table border=\"1\" class=\"dataframe\">\n",
       "  <thead>\n",
       "    <tr style=\"text-align: right;\">\n",
       "      <th></th>\n",
       "      <th>document</th>\n",
       "      <th>class</th>\n",
       "    </tr>\n",
       "  </thead>\n",
       "  <tbody>\n",
       "    <tr>\n",
       "      <th>0</th>\n",
       "      <td>lebanese resistance force detonated bomb israe...</td>\n",
       "      <td>talk.politics.mideast</td>\n",
       "    </tr>\n",
       "    <tr>\n",
       "      <th>1</th>\n",
       "      <td>uh oh! first sign argument without merit--the ...</td>\n",
       "      <td>talk.politics.mideast</td>\n",
       "    </tr>\n",
       "    <tr>\n",
       "      <th>2</th>\n",
       "      <td>ah c'mon give guy three day see come leo</td>\n",
       "      <td>talk.politics.mideast</td>\n",
       "    </tr>\n",
       "    <tr>\n",
       "      <th>3</th>\n",
       "      <td>course posting hard evidence fact much difficu...</td>\n",
       "      <td>talk.politics.mideast</td>\n",
       "    </tr>\n",
       "    <tr>\n",
       "      <th>4</th>\n",
       "      <td>precisely cuba?? not??? hatians ruled thug ele...</td>\n",
       "      <td>talk.politics.mideast</td>\n",
       "    </tr>\n",
       "    <tr>\n",
       "      <th>5</th>\n",
       "      <td>from: center policy research &lt;cpr&gt; subject: zi...</td>\n",
       "      <td>talk.politics.mideast</td>\n",
       "    </tr>\n",
       "    <tr>\n",
       "      <th>6</th>\n",
       "      <td>massacre answer: a(1-1/2-1/4-1/11)=280 -&gt; = 1760</td>\n",
       "      <td>talk.politics.mideast</td>\n",
       "    </tr>\n",
       "    <tr>\n",
       "      <th>7</th>\n",
       "      <td>various contradictory view origin armenian nam...</td>\n",
       "      <td>talk.politics.mideast</td>\n",
       "    </tr>\n",
       "    <tr>\n",
       "      <th>8</th>\n",
       "      <td>[ stuff deleted ] |&gt; calling name giving title...</td>\n",
       "      <td>talk.politics.mideast</td>\n",
       "    </tr>\n",
       "    <tr>\n",
       "      <th>9</th>\n",
       "      <td>ignorance hardly characteristic '*ians' sarkis...</td>\n",
       "      <td>talk.politics.mideast</td>\n",
       "    </tr>\n",
       "    <tr>\n",
       "      <th>10</th>\n",
       "      <td>hell guy david davidian think talk much yo dav...</td>\n",
       "      <td>talk.politics.mideast</td>\n",
       "    </tr>\n",
       "    <tr>\n",
       "      <th>11</th>\n",
       "      <td>ok already disqualified (who ever are) objecti...</td>\n",
       "      <td>talk.politics.mideast</td>\n",
       "    </tr>\n",
       "    <tr>\n",
       "      <th>12</th>\n",
       "      <td>dorin let's forget soldier killed murdered dis...</td>\n",
       "      <td>talk.politics.mideast</td>\n",
       "    </tr>\n",
       "    <tr>\n",
       "      <th>13</th>\n",
       "      <td>account anti-armenian human right violation az...</td>\n",
       "      <td>talk.politics.mideast</td>\n",
       "    </tr>\n",
       "    <tr>\n",
       "      <th>14</th>\n",
       "      <td>[deleted] noteworthy post west evil etc made i...</td>\n",
       "      <td>talk.politics.mideast</td>\n",
       "    </tr>\n",
       "    <tr>\n",
       "      <th>15</th>\n",
       "      <td>^^^^^^^^^^^^^^^^^^^^ funny anyway suppose fact...</td>\n",
       "      <td>talk.politics.mideast</td>\n",
       "    </tr>\n",
       "    <tr>\n",
       "      <th>16</th>\n",
       "      <td>that's zionist decided zion must gentile-rein ...</td>\n",
       "      <td>talk.politics.mideast</td>\n",
       "    </tr>\n",
       "    <tr>\n",
       "      <th>17</th>\n",
       "      <td>[ ] henrik] country turk azeri consistantly wa...</td>\n",
       "      <td>talk.politics.mideast</td>\n",
       "    </tr>\n",
       "    <tr>\n",
       "      <th>18</th>\n",
       "      <td>^^^^^^^^^^^^^^^^^^^^^^^^^^^^^^^^^^ kind rankin...</td>\n",
       "      <td>talk.politics.mideast</td>\n",
       "    </tr>\n",
       "    <tr>\n",
       "      <th>19</th>\n",
       "      <td>(forgive inaccuracy deleted original post) per...</td>\n",
       "      <td>talk.politics.mideast</td>\n",
       "    </tr>\n",
       "    <tr>\n",
       "      <th>20</th>\n",
       "      <td>deposition vitaly nikolayevich danielian [1] b...</td>\n",
       "      <td>talk.politics.mideast</td>\n",
       "    </tr>\n",
       "    <tr>\n",
       "      <th>21</th>\n",
       "      <td>give u right keep new york? home united nation...</td>\n",
       "      <td>talk.politics.mideast</td>\n",
       "    </tr>\n",
       "    <tr>\n",
       "      <th>22</th>\n",
       "      <td>well let's delve one level deeper democracy be...</td>\n",
       "      <td>talk.politics.mideast</td>\n",
       "    </tr>\n",
       "    <tr>\n",
       "      <th>23</th>\n",
       "      <td>completely misunderstood opposed intervention ...</td>\n",
       "      <td>talk.politics.mideast</td>\n",
       "    </tr>\n",
       "    <tr>\n",
       "      <th>24</th>\n",
       "      <td>reflection bosnia lord owen serb early februar...</td>\n",
       "      <td>talk.politics.mideast</td>\n",
       "    </tr>\n",
       "    <tr>\n",
       "      <th>25</th>\n",
       "      <td>bm] gimme break capital letter pure nonsense b...</td>\n",
       "      <td>talk.politics.mideast</td>\n",
       "    </tr>\n",
       "    <tr>\n",
       "      <th>26</th>\n",
       "      <td>mind compulsive liar works? scenario genocide ...</td>\n",
       "      <td>talk.politics.mideast</td>\n",
       "    </tr>\n",
       "    <tr>\n",
       "      <th>27</th>\n",
       "      <td>stupid?</td>\n",
       "      <td>talk.politics.mideast</td>\n",
       "    </tr>\n",
       "    <tr>\n",
       "      <th>28</th>\n",
       "      <td>ah fire armed folk nasty habit firing back sim...</td>\n",
       "      <td>talk.politics.mideast</td>\n",
       "    </tr>\n",
       "    <tr>\n",
       "      <th>29</th>\n",
       "      <td>else expect? israel trying portray great democ...</td>\n",
       "      <td>talk.politics.mideast</td>\n",
       "    </tr>\n",
       "    <tr>\n",
       "      <th>...</th>\n",
       "      <td>...</td>\n",
       "      <td>...</td>\n",
       "    </tr>\n",
       "    <tr>\n",
       "      <th>19968</th>\n",
       "      <td>belief theory theory make prediction falsi- fi...</td>\n",
       "      <td>talk.religion.misc</td>\n",
       "    </tr>\n",
       "    <tr>\n",
       "      <th>19969</th>\n",
       "      <td>live colorado never heard group obviously clai...</td>\n",
       "      <td>talk.religion.misc</td>\n",
       "    </tr>\n",
       "    <tr>\n",
       "      <th>19970</th>\n",
       "      <td>make interesting claim i'm challenging mind co...</td>\n",
       "      <td>talk.religion.misc</td>\n",
       "    </tr>\n",
       "    <tr>\n",
       "      <th>19971</th>\n",
       "      <td>let u explore interesting paragraph point poin...</td>\n",
       "      <td>talk.religion.misc</td>\n",
       "    </tr>\n",
       "    <tr>\n",
       "      <th>19972</th>\n",
       "      <td>faith intelligence tell druggie break house ni...</td>\n",
       "      <td>talk.religion.misc</td>\n",
       "    </tr>\n",
       "    <tr>\n",
       "      <th>19973</th>\n",
       "      <td>(deletion) since drivel also crossposted alt a...</td>\n",
       "      <td>talk.religion.misc</td>\n",
       "    </tr>\n",
       "    <tr>\n",
       "      <th>19974</th>\n",
       "      <td>well thread started discussion sabin evolved e...</td>\n",
       "      <td>talk.religion.misc</td>\n",
       "    </tr>\n",
       "    <tr>\n",
       "      <th>19975</th>\n",
       "      <td>huh ?? kind shotgun blast deserves either elab...</td>\n",
       "      <td>talk.religion.misc</td>\n",
       "    </tr>\n",
       "    <tr>\n",
       "      <th>19976</th>\n",
       "      <td>mean find ridiculous price rest u supposed con...</td>\n",
       "      <td>talk.religion.misc</td>\n",
       "    </tr>\n",
       "    <tr>\n",
       "      <th>19977</th>\n",
       "      <td>replace \"stephen\" \"david joslin \" since direct...</td>\n",
       "      <td>talk.religion.misc</td>\n",
       "    </tr>\n",
       "    <tr>\n",
       "      <th>19978</th>\n",
       "      <td>article &lt;1993apr20 210651 5687@gn ecn purdue e...</td>\n",
       "      <td>talk.religion.misc</td>\n",
       "    </tr>\n",
       "    <tr>\n",
       "      <th>19979</th>\n",
       "      <td>sound like modifying definition christian anyo...</td>\n",
       "      <td>talk.religion.misc</td>\n",
       "    </tr>\n",
       "    <tr>\n",
       "      <th>19980</th>\n",
       "      <td>-*---- two commandment *are* rule merely rule ...</td>\n",
       "      <td>talk.religion.misc</td>\n",
       "    </tr>\n",
       "    <tr>\n",
       "      <th>19981</th>\n",
       "      <td>fbi say one survivor say set fire given claim ...</td>\n",
       "      <td>talk.religion.misc</td>\n",
       "    </tr>\n",
       "    <tr>\n",
       "      <th>19982</th>\n",
       "      <td>i'm afraid much worse this! jesus said follow ...</td>\n",
       "      <td>talk.religion.misc</td>\n",
       "    </tr>\n",
       "    <tr>\n",
       "      <th>19983</th>\n",
       "      <td>able prove morality objective would correct pr...</td>\n",
       "      <td>talk.religion.misc</td>\n",
       "    </tr>\n",
       "    <tr>\n",
       "      <th>19984</th>\n",
       "      <td>i'm greatly need jurgen moltmann's book god cr...</td>\n",
       "      <td>talk.religion.misc</td>\n",
       "    </tr>\n",
       "    <tr>\n",
       "      <th>19985</th>\n",
       "      <td>: marian catholic high school outside chicago:...</td>\n",
       "      <td>talk.religion.misc</td>\n",
       "    </tr>\n",
       "    <tr>\n",
       "      <th>19986</th>\n",
       "      <td>cockroaches?</td>\n",
       "      <td>talk.religion.misc</td>\n",
       "    </tr>\n",
       "    <tr>\n",
       "      <th>19987</th>\n",
       "      <td>ahhhh see mean example value objective *existe...</td>\n",
       "      <td>talk.religion.misc</td>\n",
       "    </tr>\n",
       "    <tr>\n",
       "      <th>19988</th>\n",
       "      <td>make 20% see poll recently religious adultery?...</td>\n",
       "      <td>talk.religion.misc</td>\n",
       "    </tr>\n",
       "    <tr>\n",
       "      <th>19989</th>\n",
       "      <td>&lt;1qlapk$d7v@morrow stanford edu&gt; salem@pangea ...</td>\n",
       "      <td>talk.religion.misc</td>\n",
       "    </tr>\n",
       "    <tr>\n",
       "      <th>19990</th>\n",
       "      <td>see camel's nose i'm willing take chance winni...</td>\n",
       "      <td>talk.religion.misc</td>\n",
       "    </tr>\n",
       "    <tr>\n",
       "      <th>19991</th>\n",
       "      <td>21-apr-93 re: abortion private pa recently gen...</td>\n",
       "      <td>talk.religion.misc</td>\n",
       "    </tr>\n",
       "    <tr>\n",
       "      <th>19992</th>\n",
       "      <td>yes: one's particular goal land man moon put c...</td>\n",
       "      <td>talk.religion.misc</td>\n",
       "    </tr>\n",
       "    <tr>\n",
       "      <th>19993</th>\n",
       "      <td>fbi claim basis intelligence report bd's plan ...</td>\n",
       "      <td>talk.religion.misc</td>\n",
       "    </tr>\n",
       "    <tr>\n",
       "      <th>19994</th>\n",
       "      <td>-- patrick brosnan &lt;patb@bnr co uk&gt; || !mcsun!...</td>\n",
       "      <td>talk.religion.misc</td>\n",
       "    </tr>\n",
       "    <tr>\n",
       "      <th>19995</th>\n",
       "      <td>guess news reader deleted line 4th amendment d...</td>\n",
       "      <td>talk.religion.misc</td>\n",
       "    </tr>\n",
       "    <tr>\n",
       "      <th>19996</th>\n",
       "      <td>would someone named \"dennis\" stuck paying \"abo...</td>\n",
       "      <td>talk.religion.misc</td>\n",
       "    </tr>\n",
       "    <tr>\n",
       "      <th>19997</th>\n",
       "      <td>so? what's point? maybe me! (in example argue ...</td>\n",
       "      <td>talk.religion.misc</td>\n",
       "    </tr>\n",
       "  </tbody>\n",
       "</table>\n",
       "<p>19998 rows × 2 columns</p>\n",
       "</div>"
      ],
      "text/plain": [
       "                                                document  \\\n",
       "0      lebanese resistance force detonated bomb israe...   \n",
       "1      uh oh! first sign argument without merit--the ...   \n",
       "2               ah c'mon give guy three day see come leo   \n",
       "3      course posting hard evidence fact much difficu...   \n",
       "4      precisely cuba?? not??? hatians ruled thug ele...   \n",
       "5      from: center policy research <cpr> subject: zi...   \n",
       "6       massacre answer: a(1-1/2-1/4-1/11)=280 -> = 1760   \n",
       "7      various contradictory view origin armenian nam...   \n",
       "8      [ stuff deleted ] |> calling name giving title...   \n",
       "9      ignorance hardly characteristic '*ians' sarkis...   \n",
       "10     hell guy david davidian think talk much yo dav...   \n",
       "11     ok already disqualified (who ever are) objecti...   \n",
       "12     dorin let's forget soldier killed murdered dis...   \n",
       "13     account anti-armenian human right violation az...   \n",
       "14     [deleted] noteworthy post west evil etc made i...   \n",
       "15     ^^^^^^^^^^^^^^^^^^^^ funny anyway suppose fact...   \n",
       "16     that's zionist decided zion must gentile-rein ...   \n",
       "17     [ ] henrik] country turk azeri consistantly wa...   \n",
       "18     ^^^^^^^^^^^^^^^^^^^^^^^^^^^^^^^^^^ kind rankin...   \n",
       "19     (forgive inaccuracy deleted original post) per...   \n",
       "20     deposition vitaly nikolayevich danielian [1] b...   \n",
       "21     give u right keep new york? home united nation...   \n",
       "22     well let's delve one level deeper democracy be...   \n",
       "23     completely misunderstood opposed intervention ...   \n",
       "24     reflection bosnia lord owen serb early februar...   \n",
       "25     bm] gimme break capital letter pure nonsense b...   \n",
       "26     mind compulsive liar works? scenario genocide ...   \n",
       "27                                               stupid?   \n",
       "28     ah fire armed folk nasty habit firing back sim...   \n",
       "29     else expect? israel trying portray great democ...   \n",
       "...                                                  ...   \n",
       "19968  belief theory theory make prediction falsi- fi...   \n",
       "19969  live colorado never heard group obviously clai...   \n",
       "19970  make interesting claim i'm challenging mind co...   \n",
       "19971  let u explore interesting paragraph point poin...   \n",
       "19972  faith intelligence tell druggie break house ni...   \n",
       "19973  (deletion) since drivel also crossposted alt a...   \n",
       "19974  well thread started discussion sabin evolved e...   \n",
       "19975  huh ?? kind shotgun blast deserves either elab...   \n",
       "19976  mean find ridiculous price rest u supposed con...   \n",
       "19977  replace \"stephen\" \"david joslin \" since direct...   \n",
       "19978  article <1993apr20 210651 5687@gn ecn purdue e...   \n",
       "19979  sound like modifying definition christian anyo...   \n",
       "19980  -*---- two commandment *are* rule merely rule ...   \n",
       "19981  fbi say one survivor say set fire given claim ...   \n",
       "19982  i'm afraid much worse this! jesus said follow ...   \n",
       "19983  able prove morality objective would correct pr...   \n",
       "19984  i'm greatly need jurgen moltmann's book god cr...   \n",
       "19985  : marian catholic high school outside chicago:...   \n",
       "19986                                       cockroaches?   \n",
       "19987  ahhhh see mean example value objective *existe...   \n",
       "19988  make 20% see poll recently religious adultery?...   \n",
       "19989  <1qlapk$d7v@morrow stanford edu> salem@pangea ...   \n",
       "19990  see camel's nose i'm willing take chance winni...   \n",
       "19991  21-apr-93 re: abortion private pa recently gen...   \n",
       "19992  yes: one's particular goal land man moon put c...   \n",
       "19993  fbi claim basis intelligence report bd's plan ...   \n",
       "19994  -- patrick brosnan <patb@bnr co uk> || !mcsun!...   \n",
       "19995  guess news reader deleted line 4th amendment d...   \n",
       "19996  would someone named \"dennis\" stuck paying \"abo...   \n",
       "19997  so? what's point? maybe me! (in example argue ...   \n",
       "\n",
       "                       class  \n",
       "0      talk.politics.mideast  \n",
       "1      talk.politics.mideast  \n",
       "2      talk.politics.mideast  \n",
       "3      talk.politics.mideast  \n",
       "4      talk.politics.mideast  \n",
       "5      talk.politics.mideast  \n",
       "6      talk.politics.mideast  \n",
       "7      talk.politics.mideast  \n",
       "8      talk.politics.mideast  \n",
       "9      talk.politics.mideast  \n",
       "10     talk.politics.mideast  \n",
       "11     talk.politics.mideast  \n",
       "12     talk.politics.mideast  \n",
       "13     talk.politics.mideast  \n",
       "14     talk.politics.mideast  \n",
       "15     talk.politics.mideast  \n",
       "16     talk.politics.mideast  \n",
       "17     talk.politics.mideast  \n",
       "18     talk.politics.mideast  \n",
       "19     talk.politics.mideast  \n",
       "20     talk.politics.mideast  \n",
       "21     talk.politics.mideast  \n",
       "22     talk.politics.mideast  \n",
       "23     talk.politics.mideast  \n",
       "24     talk.politics.mideast  \n",
       "25     talk.politics.mideast  \n",
       "26     talk.politics.mideast  \n",
       "27     talk.politics.mideast  \n",
       "28     talk.politics.mideast  \n",
       "29     talk.politics.mideast  \n",
       "...                      ...  \n",
       "19968     talk.religion.misc  \n",
       "19969     talk.religion.misc  \n",
       "19970     talk.religion.misc  \n",
       "19971     talk.religion.misc  \n",
       "19972     talk.religion.misc  \n",
       "19973     talk.religion.misc  \n",
       "19974     talk.religion.misc  \n",
       "19975     talk.religion.misc  \n",
       "19976     talk.religion.misc  \n",
       "19977     talk.religion.misc  \n",
       "19978     talk.religion.misc  \n",
       "19979     talk.religion.misc  \n",
       "19980     talk.religion.misc  \n",
       "19981     talk.religion.misc  \n",
       "19982     talk.religion.misc  \n",
       "19983     talk.religion.misc  \n",
       "19984     talk.religion.misc  \n",
       "19985     talk.religion.misc  \n",
       "19986     talk.religion.misc  \n",
       "19987     talk.religion.misc  \n",
       "19988     talk.religion.misc  \n",
       "19989     talk.religion.misc  \n",
       "19990     talk.religion.misc  \n",
       "19991     talk.religion.misc  \n",
       "19992     talk.religion.misc  \n",
       "19993     talk.religion.misc  \n",
       "19994     talk.religion.misc  \n",
       "19995     talk.religion.misc  \n",
       "19996     talk.religion.misc  \n",
       "19997     talk.religion.misc  \n",
       "\n",
       "[19998 rows x 2 columns]"
      ]
     },
     "execution_count": 37,
     "metadata": {},
     "output_type": "execute_result"
    }
   ],
   "source": [
    "df_lemmatization = transform_dict_to_dataframe(files_dict_lemmatization)\n",
    "df_lemmatization"
   ]
  },
  {
   "cell_type": "code",
   "execution_count": 38,
   "metadata": {
    "ExecuteTime": {
     "end_time": "2019-02-20T08:18:04.389190Z",
     "start_time": "2019-02-20T08:18:04.327847Z"
    }
   },
   "outputs": [
    {
     "data": {
      "text/html": [
       "<div>\n",
       "<style scoped>\n",
       "    .dataframe tbody tr th:only-of-type {\n",
       "        vertical-align: middle;\n",
       "    }\n",
       "\n",
       "    .dataframe tbody tr th {\n",
       "        vertical-align: top;\n",
       "    }\n",
       "\n",
       "    .dataframe thead th {\n",
       "        text-align: right;\n",
       "    }\n",
       "</style>\n",
       "<table border=\"1\" class=\"dataframe\">\n",
       "  <thead>\n",
       "    <tr style=\"text-align: right;\">\n",
       "      <th></th>\n",
       "      <th>document</th>\n",
       "      <th>class</th>\n",
       "    </tr>\n",
       "  </thead>\n",
       "  <tbody>\n",
       "    <tr>\n",
       "      <th>count</th>\n",
       "      <td>19998</td>\n",
       "      <td>19998</td>\n",
       "    </tr>\n",
       "    <tr>\n",
       "      <th>unique</th>\n",
       "      <td>19254</td>\n",
       "      <td>20</td>\n",
       "    </tr>\n",
       "    <tr>\n",
       "      <th>top</th>\n",
       "      <td></td>\n",
       "      <td>alt.atheism</td>\n",
       "    </tr>\n",
       "    <tr>\n",
       "      <th>freq</th>\n",
       "      <td>68</td>\n",
       "      <td>1001</td>\n",
       "    </tr>\n",
       "  </tbody>\n",
       "</table>\n",
       "</div>"
      ],
      "text/plain": [
       "       document        class\n",
       "count     19998        19998\n",
       "unique    19254           20\n",
       "top              alt.atheism\n",
       "freq         68         1001"
      ]
     },
     "execution_count": 38,
     "metadata": {},
     "output_type": "execute_result"
    }
   ],
   "source": [
    "df_lemmatization.describe()"
   ]
  },
  {
   "cell_type": "markdown",
   "metadata": {
    "ExecuteTime": {
     "end_time": "2019-02-15T14:02:10.735289Z",
     "start_time": "2019-02-15T14:02:10.731959Z"
    }
   },
   "source": [
    "## Split into training and test"
   ]
  },
  {
   "cell_type": "code",
   "execution_count": 39,
   "metadata": {
    "ExecuteTime": {
     "end_time": "2019-02-20T08:18:04.401929Z",
     "start_time": "2019-02-20T08:18:04.392746Z"
    }
   },
   "outputs": [
    {
     "data": {
      "text/plain": [
       "array(['talk.politics.mideast', 'rec.autos', 'comp.sys.mac.hardware',\n",
       "       'alt.atheism', 'rec.sport.baseball', 'comp.os.ms-windows.misc',\n",
       "       'rec.sport.hockey', 'sci.crypt', 'sci.med', 'talk.politics.misc',\n",
       "       'rec.motorcycles', 'comp.windows.x', 'comp.graphics',\n",
       "       'comp.sys.ibm.pc.hardware', 'sci.electronics',\n",
       "       'talk.politics.guns', 'sci.space', 'soc.religion.christian',\n",
       "       'misc.forsale', 'talk.religion.misc'], dtype=object)"
      ]
     },
     "execution_count": 39,
     "metadata": {},
     "output_type": "execute_result"
    }
   ],
   "source": [
    "class_labels = pd.Series(df_stemming['class']).unique()\n",
    "class_labels"
   ]
  },
  {
   "cell_type": "code",
   "execution_count": 40,
   "metadata": {
    "ExecuteTime": {
     "end_time": "2019-02-20T08:18:04.408987Z",
     "start_time": "2019-02-20T08:18:04.404857Z"
    }
   },
   "outputs": [],
   "source": [
    "from sklearn.model_selection import train_test_split"
   ]
  },
  {
   "cell_type": "markdown",
   "metadata": {},
   "source": [
    "### Stemming"
   ]
  },
  {
   "cell_type": "code",
   "execution_count": 41,
   "metadata": {
    "ExecuteTime": {
     "end_time": "2019-02-20T08:18:04.423755Z",
     "start_time": "2019-02-20T08:18:04.412065Z"
    }
   },
   "outputs": [],
   "source": [
    "X_train_stemm, X_test_stemm, y_train_stemm, y_test_stemm = train_test_split(\n",
    "    df_stemming['document'], df_stemming['class'], test_size=0.3, random_state=42)"
   ]
  },
  {
   "cell_type": "markdown",
   "metadata": {},
   "source": [
    "### Lemmatization"
   ]
  },
  {
   "cell_type": "code",
   "execution_count": 42,
   "metadata": {
    "ExecuteTime": {
     "end_time": "2019-02-20T08:18:04.434463Z",
     "start_time": "2019-02-20T08:18:04.425871Z"
    }
   },
   "outputs": [],
   "source": [
    "X_train_lemm, X_test_lemm, y_train_lemm, y_test_lemm = train_test_split(\n",
    "    df_lemmatization['document'], df_lemmatization['class'], test_size=0.3, random_state=42)"
   ]
  },
  {
   "cell_type": "markdown",
   "metadata": {},
   "source": [
    "## Transform the documents from text to vectors using TF IDF"
   ]
  },
  {
   "cell_type": "code",
   "execution_count": 43,
   "metadata": {
    "ExecuteTime": {
     "end_time": "2019-02-20T08:18:04.451764Z",
     "start_time": "2019-02-20T08:18:04.436856Z"
    }
   },
   "outputs": [],
   "source": [
    "from sklearn.feature_extraction.text import TfidfVectorizer\n",
    "\n",
    "tfidf_vectorizer_stemm = TfidfVectorizer()\n",
    "tfidf_vectorizer_lemm = TfidfVectorizer()"
   ]
  },
  {
   "cell_type": "markdown",
   "metadata": {},
   "source": [
    "### Stemming"
   ]
  },
  {
   "cell_type": "code",
   "execution_count": 44,
   "metadata": {
    "ExecuteTime": {
     "end_time": "2019-02-20T08:18:07.230764Z",
     "start_time": "2019-02-20T08:18:04.469189Z"
    }
   },
   "outputs": [],
   "source": [
    "# Learn vocabulary and idf from training set and return term-document matrix\n",
    "vectors_train_stemm = tfidf_vectorizer_stemm.fit_transform(X_train_stemm)\n",
    "# Transform documents to document-term matrix.\n",
    "vectors_test_stemm = tfidf_vectorizer_stemm.transform(X_test_stemm)"
   ]
  },
  {
   "cell_type": "code",
   "execution_count": 45,
   "metadata": {
    "ExecuteTime": {
     "end_time": "2019-02-20T08:18:07.238137Z",
     "start_time": "2019-02-20T08:18:07.233066Z"
    }
   },
   "outputs": [
    {
     "data": {
      "text/plain": [
       "(13998, 108165)"
      ]
     },
     "execution_count": 45,
     "metadata": {},
     "output_type": "execute_result"
    }
   ],
   "source": [
    "vectors_train_stemm.shape"
   ]
  },
  {
   "cell_type": "markdown",
   "metadata": {},
   "source": [
    "### Lemmatization"
   ]
  },
  {
   "cell_type": "code",
   "execution_count": 46,
   "metadata": {
    "ExecuteTime": {
     "end_time": "2019-02-20T08:18:09.645334Z",
     "start_time": "2019-02-20T08:18:07.240478Z"
    }
   },
   "outputs": [],
   "source": [
    "# Learn vocabulary and idf from training set and return term-document matrix\n",
    "vectors_train_lemm = tfidf_vectorizer_lemm.fit_transform(X_train_lemm)\n",
    "# Transform documents to document-term matrix.\n",
    "vectors_test_lemm = tfidf_vectorizer_lemm.transform(X_test_lemm)"
   ]
  },
  {
   "cell_type": "code",
   "execution_count": 47,
   "metadata": {
    "ExecuteTime": {
     "end_time": "2019-02-20T08:18:09.672648Z",
     "start_time": "2019-02-20T08:18:09.648186Z"
    }
   },
   "outputs": [
    {
     "data": {
      "text/plain": [
       "(13998, 115498)"
      ]
     },
     "execution_count": 47,
     "metadata": {},
     "output_type": "execute_result"
    }
   ],
   "source": [
    "vectors_train_lemm.shape"
   ]
  },
  {
   "cell_type": "markdown",
   "metadata": {
    "ExecuteTime": {
     "end_time": "2019-02-15T14:26:52.373884Z",
     "start_time": "2019-02-15T14:26:52.370872Z"
    }
   },
   "source": [
    "## Train a Naive Bayes model"
   ]
  },
  {
   "cell_type": "code",
   "execution_count": 48,
   "metadata": {
    "ExecuteTime": {
     "end_time": "2019-02-20T08:18:09.693995Z",
     "start_time": "2019-02-20T08:18:09.682279Z"
    }
   },
   "outputs": [],
   "source": [
    "from sklearn.naive_bayes import MultinomialNB\n",
    "from sklearn import metrics\n",
    "from sklearn.metrics import classification_report"
   ]
  },
  {
   "cell_type": "markdown",
   "metadata": {},
   "source": [
    "### Stemming"
   ]
  },
  {
   "cell_type": "code",
   "execution_count": 49,
   "metadata": {
    "ExecuteTime": {
     "end_time": "2019-02-20T08:18:09.995174Z",
     "start_time": "2019-02-20T08:18:09.696083Z"
    }
   },
   "outputs": [
    {
     "data": {
      "text/plain": [
       "MultinomialNB(alpha=0.01, class_prior=None, fit_prior=True)"
      ]
     },
     "execution_count": 49,
     "metadata": {},
     "output_type": "execute_result"
    }
   ],
   "source": [
    "nb_clf_stemm = MultinomialNB(alpha=0.01)\n",
    "nb_clf_stemm.fit(vectors_train_stemm, y_train_stemm)"
   ]
  },
  {
   "cell_type": "markdown",
   "metadata": {},
   "source": [
    "#### Evaluate it's performance on the testing set"
   ]
  },
  {
   "cell_type": "code",
   "execution_count": 50,
   "metadata": {
    "ExecuteTime": {
     "end_time": "2019-02-20T08:18:10.002463Z",
     "start_time": "2019-02-20T08:18:09.997578Z"
    }
   },
   "outputs": [],
   "source": [
    "def evaluate_model(model, vectors_test, y_test, class_labels=class_labels):\n",
    "    \"\"\"\n",
    "    Prints the F1 score and the classification report of the passed model on the training set.\n",
    "    \"\"\"\n",
    "    predictions = model.predict(vectors_test)\n",
    "    print('F1 score:', metrics.f1_score(y_test, predictions, average='macro'))\n",
    "    print()\n",
    "    print('Classification report\\n_____________________')\n",
    "    print(classification_report(y_test, predictions, target_names=class_labels))"
   ]
  },
  {
   "cell_type": "code",
   "execution_count": 51,
   "metadata": {
    "ExecuteTime": {
     "end_time": "2019-02-20T08:18:10.114381Z",
     "start_time": "2019-02-20T08:18:10.005413Z"
    }
   },
   "outputs": [
    {
     "name": "stdout",
     "output_type": "stream",
     "text": [
      "F1 score: 0.7266667624306989\n",
      "\n",
      "Classification report\n",
      "_____________________\n",
      "                          precision    recall  f1-score   support\n",
      "\n",
      "   talk.politics.mideast       0.56      0.53      0.54       304\n",
      "               rec.autos       0.67      0.71      0.69       307\n",
      "   comp.sys.mac.hardware       0.70      0.67      0.68       293\n",
      "             alt.atheism       0.71      0.67      0.69       328\n",
      "      rec.sport.baseball       0.78      0.73      0.76       320\n",
      " comp.os.ms-windows.misc       0.81      0.82      0.81       308\n",
      "        rec.sport.hockey       0.72      0.67      0.70       290\n",
      "               sci.crypt       0.76      0.80      0.78       290\n",
      "                 sci.med       0.85      0.78      0.81       287\n",
      "      talk.politics.misc       0.92      0.91      0.91       297\n",
      "         rec.motorcycles       0.93      0.90      0.92       302\n",
      "          comp.windows.x       0.83      0.82      0.82       309\n",
      "           comp.graphics       0.78      0.69      0.73       302\n",
      "comp.sys.ibm.pc.hardware       0.87      0.83      0.85       310\n",
      "         sci.electronics       0.81      0.80      0.81       287\n",
      "      talk.politics.guns       0.70      0.82      0.75       289\n",
      "               sci.space       0.60      0.72      0.66       304\n",
      "  soc.religion.christian       0.72      0.84      0.78       275\n",
      "            misc.forsale       0.48      0.57      0.52       298\n",
      "      talk.religion.misc       0.36      0.29      0.32       300\n",
      "\n",
      "               micro avg       0.73      0.73      0.73      6000\n",
      "               macro avg       0.73      0.73      0.73      6000\n",
      "            weighted avg       0.73      0.73      0.73      6000\n",
      "\n"
     ]
    }
   ],
   "source": [
    "evaluate_model(nb_clf_stemm, vectors_test_stemm, y_test_stemm)"
   ]
  },
  {
   "cell_type": "markdown",
   "metadata": {
    "ExecuteTime": {
     "end_time": "2019-02-15T15:03:44.749985Z",
     "start_time": "2019-02-15T15:03:44.747200Z"
    },
    "heading_collapsed": true
   },
   "source": [
    "#### Check predictions in other texts"
   ]
  },
  {
   "cell_type": "code",
   "execution_count": 52,
   "metadata": {
    "ExecuteTime": {
     "end_time": "2019-02-20T08:18:10.119225Z",
     "start_time": "2019-02-20T08:18:10.116180Z"
    },
    "hidden": true
   },
   "outputs": [],
   "source": [
    "def predict_class(model, tfidf_vectorizer, text):\n",
    "    \"\"\"\n",
    "    Returns the predicted class of the given text.\n",
    "\n",
    "    Parameters\n",
    "    ----------\n",
    "    text : string\n",
    "        The text whose class is going to be predicted.\n",
    "    \"\"\"\n",
    "    preprocessed_text = stem_words(to_lowercase_and_remove_stopwords(text))\n",
    "    return model.predict(tfidf_vectorizer.transform([preprocessed_text]))[0]"
   ]
  },
  {
   "cell_type": "code",
   "execution_count": 53,
   "metadata": {
    "ExecuteTime": {
     "end_time": "2019-02-20T08:18:10.137758Z",
     "start_time": "2019-02-20T08:18:10.121245Z"
    },
    "hidden": true
   },
   "outputs": [
    {
     "data": {
      "text/plain": [
       "'rec.autos'"
      ]
     },
     "execution_count": 53,
     "metadata": {},
     "output_type": "execute_result"
    }
   ],
   "source": [
    "predict_class(nb_clf_stemm, tfidf_vectorizer_stemm, \"Citroen saxo\") # Well classified"
   ]
  },
  {
   "cell_type": "code",
   "execution_count": 54,
   "metadata": {
    "ExecuteTime": {
     "end_time": "2019-02-20T08:18:10.154064Z",
     "start_time": "2019-02-20T08:18:10.140682Z"
    },
    "hidden": true
   },
   "outputs": [
    {
     "data": {
      "text/plain": [
       "'rec.motorcycles'"
      ]
     },
     "execution_count": 54,
     "metadata": {},
     "output_type": "execute_result"
    }
   ],
   "source": [
    "predict_class(nb_clf_stemm, tfidf_vectorizer_stemm, \"Kawasaki\") # Well classified"
   ]
  },
  {
   "cell_type": "code",
   "execution_count": 55,
   "metadata": {
    "ExecuteTime": {
     "end_time": "2019-02-20T08:18:10.170116Z",
     "start_time": "2019-02-20T08:18:10.156983Z"
    },
    "hidden": true
   },
   "outputs": [
    {
     "data": {
      "text/plain": [
       "'comp.os.ms-windows.misc'"
      ]
     },
     "execution_count": 55,
     "metadata": {},
     "output_type": "execute_result"
    }
   ],
   "source": [
    "predict_class(nb_clf_stemm, tfidf_vectorizer_stemm, \"Macbook Pro\") # Bad classified"
   ]
  },
  {
   "cell_type": "code",
   "execution_count": 56,
   "metadata": {
    "ExecuteTime": {
     "end_time": "2019-02-20T08:18:10.185126Z",
     "start_time": "2019-02-20T08:18:10.172813Z"
    },
    "hidden": true
   },
   "outputs": [
    {
     "data": {
      "text/plain": [
       "'comp.windows.x'"
      ]
     },
     "execution_count": 56,
     "metadata": {},
     "output_type": "execute_result"
    }
   ],
   "source": [
    "predict_class(nb_clf_stemm, tfidf_vectorizer_stemm, \"Windows 10\") # Well classified"
   ]
  },
  {
   "cell_type": "code",
   "execution_count": 57,
   "metadata": {
    "ExecuteTime": {
     "end_time": "2019-02-20T08:18:10.202226Z",
     "start_time": "2019-02-20T08:18:10.188093Z"
    },
    "hidden": true
   },
   "outputs": [
    {
     "data": {
      "text/plain": [
       "'sci.med'"
      ]
     },
     "execution_count": 57,
     "metadata": {},
     "output_type": "execute_result"
    }
   ],
   "source": [
    "predict_class(nb_clf_stemm, tfidf_vectorizer_stemm,\n",
    "    \"Penicillin (PCN or pen) is a group of antibiotics which include penicillin G (intravenous use)\"\n",
    "    \", penicillin V (use by mouth), procaine penicillin, and benzathine penicillin (intramuscular use). \"\n",
    "    \"Penicillin antibiotics were among the first medications to be effective against many bacterial infections \"\n",
    "    \"caused by staphylococci and streptococci. They are still widely used today, though many types of bacteria \"\n",
    "    \"have developed resistance following extensive use.\") # Well classified"
   ]
  },
  {
   "cell_type": "code",
   "execution_count": 58,
   "metadata": {
    "ExecuteTime": {
     "end_time": "2019-02-20T08:18:10.217704Z",
     "start_time": "2019-02-20T08:18:10.205171Z"
    },
    "hidden": true
   },
   "outputs": [
    {
     "data": {
      "text/plain": [
       "'talk.politics.guns'"
      ]
     },
     "execution_count": 58,
     "metadata": {},
     "output_type": "execute_result"
    }
   ],
   "source": [
    "predict_class(nb_clf_stemm, tfidf_vectorizer_stemm, \"It's easy to get killed in the USA.\") # Well classified"
   ]
  },
  {
   "cell_type": "code",
   "execution_count": 59,
   "metadata": {
    "ExecuteTime": {
     "end_time": "2019-02-20T08:18:10.236953Z",
     "start_time": "2019-02-20T08:18:10.220531Z"
    },
    "hidden": true
   },
   "outputs": [
    {
     "data": {
      "text/plain": [
       "'talk.politics.guns'"
      ]
     },
     "execution_count": 59,
     "metadata": {},
     "output_type": "execute_result"
    }
   ],
   "source": [
    "predict_class(nb_clf_stemm, tfidf_vectorizer_stemm,\n",
    "    \"In the days after the Marjory Stoneman Douglas High School massacre, President Trump expressed support \"\n",
    "    \"for universal background checks and raising the age to buy an assault weapon to 21. He even seemed to \"\n",
    "    \"entertain a ban on assault weapons.\\n\\n\"\n",
    "    \n",
    "    \"A year later, on the anniversary of that wrenching tragedy, when 14 students and three faculty members \"\n",
    "    \"lost their lives in Parkland, Fla., the White House released a lengthy statement from Trump offering \"\n",
    "    \"his condolences and listing the ways his administration had “made tremendous strides” in protecting \"\n",
    "    \"students from school violence.\\n\\n\"\n",
    "    \n",
    "    \"Missing from that list is anything to address gun violence, except for his administration’s ban on bump \"\n",
    "    \"stocks, a device that attaches to firearms to make them trigger faster. The only direct reference to gun \"\n",
    "    \"violence comes at the end of his statement: “Melania and I join all Americans in praying for the continued \"\n",
    "    \"healing of those in the Parkland community and all communities where lives have been lost to gun violence.\\n\\n\"\n",
    "    \n",
    "    \"Except hours later, in the image Trump tweeted out about his statement, he changed the reference from 'gun \"\n",
    "    \"violence' to 'school violence', a bizarre and telling tweak.\") # Well classified"
   ]
  },
  {
   "cell_type": "markdown",
   "metadata": {},
   "source": [
    "### Lemmatization"
   ]
  },
  {
   "cell_type": "code",
   "execution_count": 60,
   "metadata": {
    "ExecuteTime": {
     "end_time": "2019-02-20T08:18:10.412970Z",
     "start_time": "2019-02-20T08:18:10.239529Z"
    }
   },
   "outputs": [
    {
     "data": {
      "text/plain": [
       "MultinomialNB(alpha=0.01, class_prior=None, fit_prior=True)"
      ]
     },
     "execution_count": 60,
     "metadata": {},
     "output_type": "execute_result"
    }
   ],
   "source": [
    "nb_clf_lemm = MultinomialNB(alpha=0.01)\n",
    "nb_clf_lemm.fit(vectors_train_lemm, y_train_lemm)"
   ]
  },
  {
   "cell_type": "markdown",
   "metadata": {},
   "source": [
    "#### Evaluate it's performance on the testing set"
   ]
  },
  {
   "cell_type": "code",
   "execution_count": 61,
   "metadata": {
    "ExecuteTime": {
     "end_time": "2019-02-20T08:18:10.541505Z",
     "start_time": "2019-02-20T08:18:10.415872Z"
    }
   },
   "outputs": [
    {
     "name": "stdout",
     "output_type": "stream",
     "text": [
      "F1 score: 0.7309209669915809\n",
      "\n",
      "Classification report\n",
      "_____________________\n",
      "                          precision    recall  f1-score   support\n",
      "\n",
      "   talk.politics.mideast       0.57      0.54      0.55       304\n",
      "               rec.autos       0.67      0.71      0.69       307\n",
      "   comp.sys.mac.hardware       0.69      0.66      0.68       293\n",
      "             alt.atheism       0.71      0.69      0.70       328\n",
      "      rec.sport.baseball       0.79      0.74      0.76       320\n",
      " comp.os.ms-windows.misc       0.83      0.84      0.83       308\n",
      "        rec.sport.hockey       0.75      0.69      0.72       290\n",
      "               sci.crypt       0.77      0.78      0.77       290\n",
      "                 sci.med       0.82      0.75      0.78       287\n",
      "      talk.politics.misc       0.92      0.91      0.92       297\n",
      "         rec.motorcycles       0.93      0.90      0.92       302\n",
      "          comp.windows.x       0.82      0.83      0.82       309\n",
      "           comp.graphics       0.75      0.70      0.72       302\n",
      "comp.sys.ibm.pc.hardware       0.88      0.83      0.85       310\n",
      "         sci.electronics       0.82      0.82      0.82       287\n",
      "      talk.politics.guns       0.72      0.84      0.78       289\n",
      "               sci.space       0.62      0.72      0.67       304\n",
      "  soc.religion.christian       0.74      0.84      0.79       275\n",
      "            misc.forsale       0.47      0.57      0.52       298\n",
      "      talk.religion.misc       0.37      0.29      0.32       300\n",
      "\n",
      "               micro avg       0.73      0.73      0.73      6000\n",
      "               macro avg       0.73      0.73      0.73      6000\n",
      "            weighted avg       0.73      0.73      0.73      6000\n",
      "\n"
     ]
    }
   ],
   "source": [
    "evaluate_model(nb_clf_lemm, vectors_test_lemm, y_test_lemm)"
   ]
  },
  {
   "cell_type": "markdown",
   "metadata": {
    "ExecuteTime": {
     "end_time": "2019-02-18T07:34:24.513274Z",
     "start_time": "2019-02-18T07:34:24.510647Z"
    }
   },
   "source": [
    "## Train a SVM model"
   ]
  },
  {
   "cell_type": "code",
   "execution_count": 62,
   "metadata": {
    "ExecuteTime": {
     "end_time": "2019-02-20T08:18:10.547168Z",
     "start_time": "2019-02-20T08:18:10.544050Z"
    }
   },
   "outputs": [],
   "source": [
    "from sklearn.svm import LinearSVC"
   ]
  },
  {
   "cell_type": "markdown",
   "metadata": {},
   "source": [
    "### Stemming"
   ]
  },
  {
   "cell_type": "code",
   "execution_count": 63,
   "metadata": {
    "ExecuteTime": {
     "end_time": "2019-02-20T08:18:12.639158Z",
     "start_time": "2019-02-20T08:18:10.549392Z"
    }
   },
   "outputs": [
    {
     "data": {
      "text/plain": [
       "LinearSVC(C=1.0, class_weight=None, dual=True, fit_intercept=True,\n",
       "     intercept_scaling=1, loss='squared_hinge', max_iter=1000,\n",
       "     multi_class='ovr', penalty='l2', random_state=42, tol=0.0001,\n",
       "     verbose=0)"
      ]
     },
     "execution_count": 63,
     "metadata": {},
     "output_type": "execute_result"
    }
   ],
   "source": [
    "svm_clf_stemm = LinearSVC(random_state=42)\n",
    "svm_clf_stemm.fit(vectors_train_stemm, y_train_stemm)"
   ]
  },
  {
   "cell_type": "markdown",
   "metadata": {},
   "source": [
    "#### Evaluate it's performance on the testing set"
   ]
  },
  {
   "cell_type": "code",
   "execution_count": 64,
   "metadata": {
    "ExecuteTime": {
     "end_time": "2019-02-20T08:18:12.763334Z",
     "start_time": "2019-02-20T08:18:12.641348Z"
    }
   },
   "outputs": [
    {
     "name": "stdout",
     "output_type": "stream",
     "text": [
      "F1 score: 0.715033823812251\n",
      "\n",
      "Classification report\n",
      "_____________________\n",
      "                          precision    recall  f1-score   support\n",
      "\n",
      "   talk.politics.mideast       0.57      0.51      0.54       304\n",
      "               rec.autos       0.70      0.67      0.69       307\n",
      "   comp.sys.mac.hardware       0.68      0.73      0.71       293\n",
      "             alt.atheism       0.72      0.66      0.69       328\n",
      "      rec.sport.baseball       0.77      0.72      0.74       320\n",
      " comp.os.ms-windows.misc       0.80      0.81      0.81       308\n",
      "        rec.sport.hockey       0.69      0.74      0.71       290\n",
      "               sci.crypt       0.76      0.77      0.77       290\n",
      "                 sci.med       0.71      0.80      0.75       287\n",
      "      talk.politics.misc       0.88      0.89      0.88       297\n",
      "         rec.motorcycles       0.91      0.88      0.90       302\n",
      "          comp.windows.x       0.85      0.81      0.83       309\n",
      "           comp.graphics       0.71      0.71      0.71       302\n",
      "comp.sys.ibm.pc.hardware       0.79      0.80      0.79       310\n",
      "         sci.electronics       0.80      0.79      0.80       287\n",
      "      talk.politics.guns       0.73      0.82      0.77       289\n",
      "               sci.space       0.61      0.61      0.61       304\n",
      "  soc.religion.christian       0.79      0.81      0.80       275\n",
      "            misc.forsale       0.48      0.51      0.49       298\n",
      "      talk.religion.misc       0.34      0.30      0.32       300\n",
      "\n",
      "               micro avg       0.72      0.72      0.72      6000\n",
      "               macro avg       0.71      0.72      0.72      6000\n",
      "            weighted avg       0.71      0.72      0.71      6000\n",
      "\n"
     ]
    }
   ],
   "source": [
    "evaluate_model(svm_clf_stemm, vectors_test_stemm, y_test_stemm)"
   ]
  },
  {
   "cell_type": "markdown",
   "metadata": {},
   "source": [
    "### Lemmatization"
   ]
  },
  {
   "cell_type": "code",
   "execution_count": 65,
   "metadata": {
    "ExecuteTime": {
     "end_time": "2019-02-20T08:18:14.730716Z",
     "start_time": "2019-02-20T08:18:12.765779Z"
    }
   },
   "outputs": [
    {
     "data": {
      "text/plain": [
       "LinearSVC(C=1.0, class_weight=None, dual=True, fit_intercept=True,\n",
       "     intercept_scaling=1, loss='squared_hinge', max_iter=1000,\n",
       "     multi_class='ovr', penalty='l2', random_state=42, tol=0.0001,\n",
       "     verbose=0)"
      ]
     },
     "execution_count": 65,
     "metadata": {},
     "output_type": "execute_result"
    }
   ],
   "source": [
    "svm_clf_lemm = LinearSVC(random_state=42)\n",
    "svm_clf_lemm.fit(vectors_train_lemm, y_train_lemm)"
   ]
  },
  {
   "cell_type": "markdown",
   "metadata": {},
   "source": [
    "#### Evaluate it's performance on the testing set"
   ]
  },
  {
   "cell_type": "code",
   "execution_count": 66,
   "metadata": {
    "ExecuteTime": {
     "end_time": "2019-02-20T08:18:14.864003Z",
     "start_time": "2019-02-20T08:18:14.732747Z"
    },
    "scrolled": true
   },
   "outputs": [
    {
     "name": "stdout",
     "output_type": "stream",
     "text": [
      "F1 score: 0.7205301845969505\n",
      "\n",
      "Classification report\n",
      "_____________________\n",
      "                          precision    recall  f1-score   support\n",
      "\n",
      "   talk.politics.mideast       0.55      0.52      0.53       304\n",
      "               rec.autos       0.69      0.69      0.69       307\n",
      "   comp.sys.mac.hardware       0.66      0.74      0.70       293\n",
      "             alt.atheism       0.74      0.66      0.70       328\n",
      "      rec.sport.baseball       0.78      0.72      0.75       320\n",
      " comp.os.ms-windows.misc       0.80      0.83      0.82       308\n",
      "        rec.sport.hockey       0.73      0.77      0.75       290\n",
      "               sci.crypt       0.76      0.76      0.76       290\n",
      "                 sci.med       0.71      0.81      0.76       287\n",
      "      talk.politics.misc       0.87      0.88      0.88       297\n",
      "         rec.motorcycles       0.90      0.88      0.89       302\n",
      "          comp.windows.x       0.85      0.81      0.83       309\n",
      "           comp.graphics       0.72      0.70      0.71       302\n",
      "comp.sys.ibm.pc.hardware       0.83      0.82      0.82       310\n",
      "         sci.electronics       0.80      0.78      0.79       287\n",
      "      talk.politics.guns       0.74      0.82      0.78       289\n",
      "               sci.space       0.62      0.62      0.62       304\n",
      "  soc.religion.christian       0.79      0.83      0.80       275\n",
      "            misc.forsale       0.50      0.50      0.50       298\n",
      "      talk.religion.misc       0.36      0.32      0.34       300\n",
      "\n",
      "               micro avg       0.72      0.72      0.72      6000\n",
      "               macro avg       0.72      0.72      0.72      6000\n",
      "            weighted avg       0.72      0.72      0.72      6000\n",
      "\n"
     ]
    }
   ],
   "source": [
    "evaluate_model(svm_clf_lemm, vectors_test_lemm, y_test_lemm)"
   ]
  },
  {
   "cell_type": "markdown",
   "metadata": {},
   "source": [
    "# Check the size of the files"
   ]
  },
  {
   "cell_type": "code",
   "execution_count": 68,
   "metadata": {
    "ExecuteTime": {
     "end_time": "2019-02-20T08:18:15.372875Z",
     "start_time": "2019-02-20T08:18:15.199428Z"
    }
   },
   "outputs": [],
   "source": [
    "# We create a new column with a list of the words in each documen\n",
    "df_lemmatization['num_words'] = df_lemmatization['document'].apply(lambda x: len(x.split()))"
   ]
  },
  {
   "cell_type": "code",
   "execution_count": 90,
   "metadata": {
    "ExecuteTime": {
     "end_time": "2019-02-20T08:31:35.904465Z",
     "start_time": "2019-02-20T08:31:35.883874Z"
    }
   },
   "outputs": [
    {
     "data": {
      "text/html": [
       "<div>\n",
       "<style scoped>\n",
       "    .dataframe tbody tr th:only-of-type {\n",
       "        vertical-align: middle;\n",
       "    }\n",
       "\n",
       "    .dataframe tbody tr th {\n",
       "        vertical-align: top;\n",
       "    }\n",
       "\n",
       "    .dataframe thead th {\n",
       "        text-align: right;\n",
       "    }\n",
       "</style>\n",
       "<table border=\"1\" class=\"dataframe\">\n",
       "  <thead>\n",
       "    <tr style=\"text-align: right;\">\n",
       "      <th></th>\n",
       "      <th>document</th>\n",
       "      <th>class</th>\n",
       "      <th>num_words</th>\n",
       "    </tr>\n",
       "  </thead>\n",
       "  <tbody>\n",
       "    <tr>\n",
       "      <th>0</th>\n",
       "      <td>lebanese resistance force detonated bomb israe...</td>\n",
       "      <td>talk.politics.mideast</td>\n",
       "      <td>97</td>\n",
       "    </tr>\n",
       "    <tr>\n",
       "      <th>1</th>\n",
       "      <td>uh oh! first sign argument without merit--the ...</td>\n",
       "      <td>talk.politics.mideast</td>\n",
       "      <td>18</td>\n",
       "    </tr>\n",
       "    <tr>\n",
       "      <th>2</th>\n",
       "      <td>ah c'mon give guy three day see come leo</td>\n",
       "      <td>talk.politics.mideast</td>\n",
       "      <td>9</td>\n",
       "    </tr>\n",
       "    <tr>\n",
       "      <th>3</th>\n",
       "      <td>course posting hard evidence fact much difficu...</td>\n",
       "      <td>talk.politics.mideast</td>\n",
       "      <td>81</td>\n",
       "    </tr>\n",
       "    <tr>\n",
       "      <th>4</th>\n",
       "      <td>precisely cuba?? not??? hatians ruled thug ele...</td>\n",
       "      <td>talk.politics.mideast</td>\n",
       "      <td>61</td>\n",
       "    </tr>\n",
       "    <tr>\n",
       "      <th>5</th>\n",
       "      <td>from: center policy research &lt;cpr&gt; subject: zi...</td>\n",
       "      <td>talk.politics.mideast</td>\n",
       "      <td>97</td>\n",
       "    </tr>\n",
       "    <tr>\n",
       "      <th>6</th>\n",
       "      <td>massacre answer: a(1-1/2-1/4-1/11)=280 -&gt; = 1760</td>\n",
       "      <td>talk.politics.mideast</td>\n",
       "      <td>6</td>\n",
       "    </tr>\n",
       "    <tr>\n",
       "      <th>7</th>\n",
       "      <td>various contradictory view origin armenian nam...</td>\n",
       "      <td>talk.politics.mideast</td>\n",
       "      <td>509</td>\n",
       "    </tr>\n",
       "    <tr>\n",
       "      <th>8</th>\n",
       "      <td>[ stuff deleted ] |&gt; calling name giving title...</td>\n",
       "      <td>talk.politics.mideast</td>\n",
       "      <td>592</td>\n",
       "    </tr>\n",
       "    <tr>\n",
       "      <th>9</th>\n",
       "      <td>ignorance hardly characteristic '*ians' sarkis...</td>\n",
       "      <td>talk.politics.mideast</td>\n",
       "      <td>257</td>\n",
       "    </tr>\n",
       "    <tr>\n",
       "      <th>10</th>\n",
       "      <td>hell guy david davidian think talk much yo dav...</td>\n",
       "      <td>talk.politics.mideast</td>\n",
       "      <td>29</td>\n",
       "    </tr>\n",
       "    <tr>\n",
       "      <th>11</th>\n",
       "      <td>ok already disqualified (who ever are) objecti...</td>\n",
       "      <td>talk.politics.mideast</td>\n",
       "      <td>70</td>\n",
       "    </tr>\n",
       "    <tr>\n",
       "      <th>12</th>\n",
       "      <td>dorin let's forget soldier killed murdered dis...</td>\n",
       "      <td>talk.politics.mideast</td>\n",
       "      <td>73</td>\n",
       "    </tr>\n",
       "    <tr>\n",
       "      <th>13</th>\n",
       "      <td>account anti-armenian human right violation az...</td>\n",
       "      <td>talk.politics.mideast</td>\n",
       "      <td>545</td>\n",
       "    </tr>\n",
       "    <tr>\n",
       "      <th>14</th>\n",
       "      <td>[deleted] noteworthy post west evil etc made i...</td>\n",
       "      <td>talk.politics.mideast</td>\n",
       "      <td>25</td>\n",
       "    </tr>\n",
       "    <tr>\n",
       "      <th>15</th>\n",
       "      <td>^^^^^^^^^^^^^^^^^^^^ funny anyway suppose fact...</td>\n",
       "      <td>talk.politics.mideast</td>\n",
       "      <td>25</td>\n",
       "    </tr>\n",
       "    <tr>\n",
       "      <th>16</th>\n",
       "      <td>that's zionist decided zion must gentile-rein ...</td>\n",
       "      <td>talk.politics.mideast</td>\n",
       "      <td>34</td>\n",
       "    </tr>\n",
       "    <tr>\n",
       "      <th>17</th>\n",
       "      <td>[ ] henrik] country turk azeri consistantly wa...</td>\n",
       "      <td>talk.politics.mideast</td>\n",
       "      <td>713</td>\n",
       "    </tr>\n",
       "    <tr>\n",
       "      <th>18</th>\n",
       "      <td>^^^^^^^^^^^^^^^^^^^^^^^^^^^^^^^^^^ kind rankin...</td>\n",
       "      <td>talk.politics.mideast</td>\n",
       "      <td>5</td>\n",
       "    </tr>\n",
       "    <tr>\n",
       "      <th>19</th>\n",
       "      <td>(forgive inaccuracy deleted original post) per...</td>\n",
       "      <td>talk.politics.mideast</td>\n",
       "      <td>12</td>\n",
       "    </tr>\n",
       "    <tr>\n",
       "      <th>20</th>\n",
       "      <td>deposition vitaly nikolayevich danielian [1] b...</td>\n",
       "      <td>talk.politics.mideast</td>\n",
       "      <td>1134</td>\n",
       "    </tr>\n",
       "    <tr>\n",
       "      <th>21</th>\n",
       "      <td>give u right keep new york? home united nation...</td>\n",
       "      <td>talk.politics.mideast</td>\n",
       "      <td>77</td>\n",
       "    </tr>\n",
       "    <tr>\n",
       "      <th>22</th>\n",
       "      <td>well let's delve one level deeper democracy be...</td>\n",
       "      <td>talk.politics.mideast</td>\n",
       "      <td>166</td>\n",
       "    </tr>\n",
       "    <tr>\n",
       "      <th>23</th>\n",
       "      <td>completely misunderstood opposed intervention ...</td>\n",
       "      <td>talk.politics.mideast</td>\n",
       "      <td>112</td>\n",
       "    </tr>\n",
       "    <tr>\n",
       "      <th>24</th>\n",
       "      <td>reflection bosnia lord owen serb early februar...</td>\n",
       "      <td>talk.politics.mideast</td>\n",
       "      <td>845</td>\n",
       "    </tr>\n",
       "    <tr>\n",
       "      <th>25</th>\n",
       "      <td>bm] gimme break capital letter pure nonsense b...</td>\n",
       "      <td>talk.politics.mideast</td>\n",
       "      <td>287</td>\n",
       "    </tr>\n",
       "    <tr>\n",
       "      <th>26</th>\n",
       "      <td>mind compulsive liar works? scenario genocide ...</td>\n",
       "      <td>talk.politics.mideast</td>\n",
       "      <td>262</td>\n",
       "    </tr>\n",
       "    <tr>\n",
       "      <th>27</th>\n",
       "      <td>stupid?</td>\n",
       "      <td>talk.politics.mideast</td>\n",
       "      <td>1</td>\n",
       "    </tr>\n",
       "    <tr>\n",
       "      <th>28</th>\n",
       "      <td>ah fire armed folk nasty habit firing back sim...</td>\n",
       "      <td>talk.politics.mideast</td>\n",
       "      <td>14</td>\n",
       "    </tr>\n",
       "    <tr>\n",
       "      <th>29</th>\n",
       "      <td>else expect? israel trying portray great democ...</td>\n",
       "      <td>talk.politics.mideast</td>\n",
       "      <td>21</td>\n",
       "    </tr>\n",
       "    <tr>\n",
       "      <th>...</th>\n",
       "      <td>...</td>\n",
       "      <td>...</td>\n",
       "      <td>...</td>\n",
       "    </tr>\n",
       "    <tr>\n",
       "      <th>19968</th>\n",
       "      <td>belief theory theory make prediction falsi- fi...</td>\n",
       "      <td>talk.religion.misc</td>\n",
       "      <td>32</td>\n",
       "    </tr>\n",
       "    <tr>\n",
       "      <th>19969</th>\n",
       "      <td>live colorado never heard group obviously clai...</td>\n",
       "      <td>talk.religion.misc</td>\n",
       "      <td>92</td>\n",
       "    </tr>\n",
       "    <tr>\n",
       "      <th>19970</th>\n",
       "      <td>make interesting claim i'm challenging mind co...</td>\n",
       "      <td>talk.religion.misc</td>\n",
       "      <td>16</td>\n",
       "    </tr>\n",
       "    <tr>\n",
       "      <th>19971</th>\n",
       "      <td>let u explore interesting paragraph point poin...</td>\n",
       "      <td>talk.religion.misc</td>\n",
       "      <td>247</td>\n",
       "    </tr>\n",
       "    <tr>\n",
       "      <th>19972</th>\n",
       "      <td>faith intelligence tell druggie break house ni...</td>\n",
       "      <td>talk.religion.misc</td>\n",
       "      <td>15</td>\n",
       "    </tr>\n",
       "    <tr>\n",
       "      <th>19973</th>\n",
       "      <td>(deletion) since drivel also crossposted alt a...</td>\n",
       "      <td>talk.religion.misc</td>\n",
       "      <td>23</td>\n",
       "    </tr>\n",
       "    <tr>\n",
       "      <th>19974</th>\n",
       "      <td>well thread started discussion sabin evolved e...</td>\n",
       "      <td>talk.religion.misc</td>\n",
       "      <td>15</td>\n",
       "    </tr>\n",
       "    <tr>\n",
       "      <th>19975</th>\n",
       "      <td>huh ?? kind shotgun blast deserves either elab...</td>\n",
       "      <td>talk.religion.misc</td>\n",
       "      <td>147</td>\n",
       "    </tr>\n",
       "    <tr>\n",
       "      <th>19976</th>\n",
       "      <td>mean find ridiculous price rest u supposed con...</td>\n",
       "      <td>talk.religion.misc</td>\n",
       "      <td>12</td>\n",
       "    </tr>\n",
       "    <tr>\n",
       "      <th>19977</th>\n",
       "      <td>replace \"stephen\" \"david joslin \" since direct...</td>\n",
       "      <td>talk.religion.misc</td>\n",
       "      <td>143</td>\n",
       "    </tr>\n",
       "    <tr>\n",
       "      <th>19978</th>\n",
       "      <td>article &lt;1993apr20 210651 5687@gn ecn purdue e...</td>\n",
       "      <td>talk.religion.misc</td>\n",
       "      <td>275</td>\n",
       "    </tr>\n",
       "    <tr>\n",
       "      <th>19979</th>\n",
       "      <td>sound like modifying definition christian anyo...</td>\n",
       "      <td>talk.religion.misc</td>\n",
       "      <td>36</td>\n",
       "    </tr>\n",
       "    <tr>\n",
       "      <th>19980</th>\n",
       "      <td>-*---- two commandment *are* rule merely rule ...</td>\n",
       "      <td>talk.religion.misc</td>\n",
       "      <td>345</td>\n",
       "    </tr>\n",
       "    <tr>\n",
       "      <th>19981</th>\n",
       "      <td>fbi say one survivor say set fire given claim ...</td>\n",
       "      <td>talk.religion.misc</td>\n",
       "      <td>23</td>\n",
       "    </tr>\n",
       "    <tr>\n",
       "      <th>19982</th>\n",
       "      <td>i'm afraid much worse this! jesus said follow ...</td>\n",
       "      <td>talk.religion.misc</td>\n",
       "      <td>66</td>\n",
       "    </tr>\n",
       "    <tr>\n",
       "      <th>19983</th>\n",
       "      <td>able prove morality objective would correct pr...</td>\n",
       "      <td>talk.religion.misc</td>\n",
       "      <td>35</td>\n",
       "    </tr>\n",
       "    <tr>\n",
       "      <th>19984</th>\n",
       "      <td>i'm greatly need jurgen moltmann's book god cr...</td>\n",
       "      <td>talk.religion.misc</td>\n",
       "      <td>24</td>\n",
       "    </tr>\n",
       "    <tr>\n",
       "      <th>19985</th>\n",
       "      <td>: marian catholic high school outside chicago:...</td>\n",
       "      <td>talk.religion.misc</td>\n",
       "      <td>19</td>\n",
       "    </tr>\n",
       "    <tr>\n",
       "      <th>19986</th>\n",
       "      <td>cockroaches?</td>\n",
       "      <td>talk.religion.misc</td>\n",
       "      <td>1</td>\n",
       "    </tr>\n",
       "    <tr>\n",
       "      <th>19987</th>\n",
       "      <td>ahhhh see mean example value objective *existe...</td>\n",
       "      <td>talk.religion.misc</td>\n",
       "      <td>171</td>\n",
       "    </tr>\n",
       "    <tr>\n",
       "      <th>19988</th>\n",
       "      <td>make 20% see poll recently religious adultery?...</td>\n",
       "      <td>talk.religion.misc</td>\n",
       "      <td>11</td>\n",
       "    </tr>\n",
       "    <tr>\n",
       "      <th>19989</th>\n",
       "      <td>&lt;1qlapk$d7v@morrow stanford edu&gt; salem@pangea ...</td>\n",
       "      <td>talk.religion.misc</td>\n",
       "      <td>56</td>\n",
       "    </tr>\n",
       "    <tr>\n",
       "      <th>19990</th>\n",
       "      <td>see camel's nose i'm willing take chance winni...</td>\n",
       "      <td>talk.religion.misc</td>\n",
       "      <td>12</td>\n",
       "    </tr>\n",
       "    <tr>\n",
       "      <th>19991</th>\n",
       "      <td>21-apr-93 re: abortion private pa recently gen...</td>\n",
       "      <td>talk.religion.misc</td>\n",
       "      <td>12</td>\n",
       "    </tr>\n",
       "    <tr>\n",
       "      <th>19992</th>\n",
       "      <td>yes: one's particular goal land man moon put c...</td>\n",
       "      <td>talk.religion.misc</td>\n",
       "      <td>38</td>\n",
       "    </tr>\n",
       "    <tr>\n",
       "      <th>19993</th>\n",
       "      <td>fbi claim basis intelligence report bd's plan ...</td>\n",
       "      <td>talk.religion.misc</td>\n",
       "      <td>50</td>\n",
       "    </tr>\n",
       "    <tr>\n",
       "      <th>19994</th>\n",
       "      <td>-- patrick brosnan &lt;patb@bnr co uk&gt; || !mcsun!...</td>\n",
       "      <td>talk.religion.misc</td>\n",
       "      <td>38</td>\n",
       "    </tr>\n",
       "    <tr>\n",
       "      <th>19995</th>\n",
       "      <td>guess news reader deleted line 4th amendment d...</td>\n",
       "      <td>talk.religion.misc</td>\n",
       "      <td>25</td>\n",
       "    </tr>\n",
       "    <tr>\n",
       "      <th>19996</th>\n",
       "      <td>would someone named \"dennis\" stuck paying \"abo...</td>\n",
       "      <td>talk.religion.misc</td>\n",
       "      <td>135</td>\n",
       "    </tr>\n",
       "    <tr>\n",
       "      <th>19997</th>\n",
       "      <td>so? what's point? maybe me! (in example argue ...</td>\n",
       "      <td>talk.religion.misc</td>\n",
       "      <td>225</td>\n",
       "    </tr>\n",
       "  </tbody>\n",
       "</table>\n",
       "<p>19998 rows × 3 columns</p>\n",
       "</div>"
      ],
      "text/plain": [
       "                                                document  \\\n",
       "0      lebanese resistance force detonated bomb israe...   \n",
       "1      uh oh! first sign argument without merit--the ...   \n",
       "2               ah c'mon give guy three day see come leo   \n",
       "3      course posting hard evidence fact much difficu...   \n",
       "4      precisely cuba?? not??? hatians ruled thug ele...   \n",
       "5      from: center policy research <cpr> subject: zi...   \n",
       "6       massacre answer: a(1-1/2-1/4-1/11)=280 -> = 1760   \n",
       "7      various contradictory view origin armenian nam...   \n",
       "8      [ stuff deleted ] |> calling name giving title...   \n",
       "9      ignorance hardly characteristic '*ians' sarkis...   \n",
       "10     hell guy david davidian think talk much yo dav...   \n",
       "11     ok already disqualified (who ever are) objecti...   \n",
       "12     dorin let's forget soldier killed murdered dis...   \n",
       "13     account anti-armenian human right violation az...   \n",
       "14     [deleted] noteworthy post west evil etc made i...   \n",
       "15     ^^^^^^^^^^^^^^^^^^^^ funny anyway suppose fact...   \n",
       "16     that's zionist decided zion must gentile-rein ...   \n",
       "17     [ ] henrik] country turk azeri consistantly wa...   \n",
       "18     ^^^^^^^^^^^^^^^^^^^^^^^^^^^^^^^^^^ kind rankin...   \n",
       "19     (forgive inaccuracy deleted original post) per...   \n",
       "20     deposition vitaly nikolayevich danielian [1] b...   \n",
       "21     give u right keep new york? home united nation...   \n",
       "22     well let's delve one level deeper democracy be...   \n",
       "23     completely misunderstood opposed intervention ...   \n",
       "24     reflection bosnia lord owen serb early februar...   \n",
       "25     bm] gimme break capital letter pure nonsense b...   \n",
       "26     mind compulsive liar works? scenario genocide ...   \n",
       "27                                               stupid?   \n",
       "28     ah fire armed folk nasty habit firing back sim...   \n",
       "29     else expect? israel trying portray great democ...   \n",
       "...                                                  ...   \n",
       "19968  belief theory theory make prediction falsi- fi...   \n",
       "19969  live colorado never heard group obviously clai...   \n",
       "19970  make interesting claim i'm challenging mind co...   \n",
       "19971  let u explore interesting paragraph point poin...   \n",
       "19972  faith intelligence tell druggie break house ni...   \n",
       "19973  (deletion) since drivel also crossposted alt a...   \n",
       "19974  well thread started discussion sabin evolved e...   \n",
       "19975  huh ?? kind shotgun blast deserves either elab...   \n",
       "19976  mean find ridiculous price rest u supposed con...   \n",
       "19977  replace \"stephen\" \"david joslin \" since direct...   \n",
       "19978  article <1993apr20 210651 5687@gn ecn purdue e...   \n",
       "19979  sound like modifying definition christian anyo...   \n",
       "19980  -*---- two commandment *are* rule merely rule ...   \n",
       "19981  fbi say one survivor say set fire given claim ...   \n",
       "19982  i'm afraid much worse this! jesus said follow ...   \n",
       "19983  able prove morality objective would correct pr...   \n",
       "19984  i'm greatly need jurgen moltmann's book god cr...   \n",
       "19985  : marian catholic high school outside chicago:...   \n",
       "19986                                       cockroaches?   \n",
       "19987  ahhhh see mean example value objective *existe...   \n",
       "19988  make 20% see poll recently religious adultery?...   \n",
       "19989  <1qlapk$d7v@morrow stanford edu> salem@pangea ...   \n",
       "19990  see camel's nose i'm willing take chance winni...   \n",
       "19991  21-apr-93 re: abortion private pa recently gen...   \n",
       "19992  yes: one's particular goal land man moon put c...   \n",
       "19993  fbi claim basis intelligence report bd's plan ...   \n",
       "19994  -- patrick brosnan <patb@bnr co uk> || !mcsun!...   \n",
       "19995  guess news reader deleted line 4th amendment d...   \n",
       "19996  would someone named \"dennis\" stuck paying \"abo...   \n",
       "19997  so? what's point? maybe me! (in example argue ...   \n",
       "\n",
       "                       class  num_words  \n",
       "0      talk.politics.mideast         97  \n",
       "1      talk.politics.mideast         18  \n",
       "2      talk.politics.mideast          9  \n",
       "3      talk.politics.mideast         81  \n",
       "4      talk.politics.mideast         61  \n",
       "5      talk.politics.mideast         97  \n",
       "6      talk.politics.mideast          6  \n",
       "7      talk.politics.mideast        509  \n",
       "8      talk.politics.mideast        592  \n",
       "9      talk.politics.mideast        257  \n",
       "10     talk.politics.mideast         29  \n",
       "11     talk.politics.mideast         70  \n",
       "12     talk.politics.mideast         73  \n",
       "13     talk.politics.mideast        545  \n",
       "14     talk.politics.mideast         25  \n",
       "15     talk.politics.mideast         25  \n",
       "16     talk.politics.mideast         34  \n",
       "17     talk.politics.mideast        713  \n",
       "18     talk.politics.mideast          5  \n",
       "19     talk.politics.mideast         12  \n",
       "20     talk.politics.mideast       1134  \n",
       "21     talk.politics.mideast         77  \n",
       "22     talk.politics.mideast        166  \n",
       "23     talk.politics.mideast        112  \n",
       "24     talk.politics.mideast        845  \n",
       "25     talk.politics.mideast        287  \n",
       "26     talk.politics.mideast        262  \n",
       "27     talk.politics.mideast          1  \n",
       "28     talk.politics.mideast         14  \n",
       "29     talk.politics.mideast         21  \n",
       "...                      ...        ...  \n",
       "19968     talk.religion.misc         32  \n",
       "19969     talk.religion.misc         92  \n",
       "19970     talk.religion.misc         16  \n",
       "19971     talk.religion.misc        247  \n",
       "19972     talk.religion.misc         15  \n",
       "19973     talk.religion.misc         23  \n",
       "19974     talk.religion.misc         15  \n",
       "19975     talk.religion.misc        147  \n",
       "19976     talk.religion.misc         12  \n",
       "19977     talk.religion.misc        143  \n",
       "19978     talk.religion.misc        275  \n",
       "19979     talk.religion.misc         36  \n",
       "19980     talk.religion.misc        345  \n",
       "19981     talk.religion.misc         23  \n",
       "19982     talk.religion.misc         66  \n",
       "19983     talk.religion.misc         35  \n",
       "19984     talk.religion.misc         24  \n",
       "19985     talk.religion.misc         19  \n",
       "19986     talk.religion.misc          1  \n",
       "19987     talk.religion.misc        171  \n",
       "19988     talk.religion.misc         11  \n",
       "19989     talk.religion.misc         56  \n",
       "19990     talk.religion.misc         12  \n",
       "19991     talk.religion.misc         12  \n",
       "19992     talk.religion.misc         38  \n",
       "19993     talk.religion.misc         50  \n",
       "19994     talk.religion.misc         38  \n",
       "19995     talk.religion.misc         25  \n",
       "19996     talk.religion.misc        135  \n",
       "19997     talk.religion.misc        225  \n",
       "\n",
       "[19998 rows x 3 columns]"
      ]
     },
     "execution_count": 90,
     "metadata": {},
     "output_type": "execute_result"
    }
   ],
   "source": [
    "df_lemmatization"
   ]
  },
  {
   "cell_type": "code",
   "execution_count": 91,
   "metadata": {
    "ExecuteTime": {
     "end_time": "2019-02-20T08:32:01.721617Z",
     "start_time": "2019-02-20T08:32:01.716520Z"
    }
   },
   "outputs": [
    {
     "data": {
      "text/plain": [
       "81"
      ]
     },
     "execution_count": 91,
     "metadata": {},
     "output_type": "execute_result"
    }
   ],
   "source": [
    "len(df_lemmatization['document'][3].split())"
   ]
  },
  {
   "cell_type": "code",
   "execution_count": 97,
   "metadata": {
    "ExecuteTime": {
     "end_time": "2019-02-20T08:34:17.021799Z",
     "start_time": "2019-02-20T08:34:17.016741Z"
    }
   },
   "outputs": [
    {
     "data": {
      "text/plain": [
       "1134"
      ]
     },
     "execution_count": 97,
     "metadata": {},
     "output_type": "execute_result"
    }
   ],
   "source": [
    "len(df_lemmatization['document'][20].split())"
   ]
  },
  {
   "cell_type": "code",
   "execution_count": 98,
   "metadata": {
    "ExecuteTime": {
     "end_time": "2019-02-20T08:34:22.177589Z",
     "start_time": "2019-02-20T08:34:22.172320Z"
    }
   },
   "outputs": [
    {
     "data": {
      "text/plain": [
       "'deposition vitaly nikolayevich danielian [1] born 1972 attended 9th grade middle school 17 resident building 4/2 apartment 25 microdistrict 3 sumgait [azerbaijan] really people town know happening february 27 came home school 12 o\\'clock excused leave last period order go baku left everything town fine life usual group people discussing thing soccer thing got sumgait bus bound baku first cousin\\'s birthday father mother spent day baku 28th somewhere around 6:00 p got bus home figuring i\\'d enough time homework next day entering town near 12-story high-rise bus stopped large crowd crowd demanded armenian get bus driver say armenian board everyone bus begin shout armenian board group come door bus people get one one checking passport going way people look get bus taken armenian set direction home first going go old building knew there\\'d place hide whole road packed group people way block 41 8th microdistrict group emptying people\\'s pocket checking passport people passport beaten well decided go home instead near 12-story high-rise saw burning car great many people standing around driveway yelling \"death armenians\" written car came courtyard--we live l-shaped building--it still quiet went upstairs turn light tried call baku warn relative due arrive wednesday come knock door neighbor advised u come stay place went place led u basement live first floor basement enter across balcony sat basement armenian woman beaten--she ran away naked neighbors\\' daughter said that\\'s right that\\'s armenian deserve stepanakert allegedly people killed 11 girl agdam raped stay long basement tried support one another best could looking small window iron grating papa watched said thing said fire near building 5 probably car fire one group approached driveway demanded shown apartment armenian lived neighbor said armenian group set wing building appeared 5/2 side building later found woman murdered woman ran away naked died yuri avakian killed crowd left neighbor said could go home went back place turn light started gather thing order leave sumgait tried call relative lived sumgait answer decided already left sat home phone rang caller asked speak father called phone jeykhun mamedov father\\'s work brigade said disgusted happening town asked address promised get car help u get city quite honest papa want give address mother got phone told 15 minute call crowd ran entryway bursting building broke door came apartment came straight apartment knew exactly armenian came place tried resist nothing could one took parents\\' passport began read read surname \"danielian \" turned page read \"armenian \" alone enough doom u said moved quickly courtyard would done u another standing next pushed key piano said \"your death tolled \" knife steel truncheon knife hand unfortunately use knew give knife thing would much worse struck parent said put knife piano one commanded taken outside one person giving order taken outdoors went middle mother behind someone started push she\\'d walk faster let go ahead fell behind tried push hit moment began beating parent realized resistance completely useless taken courtyard neighbor standing balcony see happen next crowd surround u first strike i\\'m knocked come beat lose consciousness often see hear parent since first one hit cold come try pick lying next crowd gone people around watching balcony that\\'s try pick can\\'t left arm broken start toward drive wanting tell neighbor call ambulance body parent still warm attacked around 9 o\\'clock regain consciousness 11 try make stair home knock neighbors\\' door push back tell go away go third floor neighbor put damp cloth head say call ambulance sends son one take apartment often look window see ambulance arrived can\\'t see far result blow seems parent already taken away calm try convince taken away everything ok still later 8 morning found ambulance picked already dead received attention time possible would still alive later around 12 o\\'clock 29th policeman civilian clothing come house \"assistants \" call ambulance 20 minute later arrives taken sumgait emergency hospital stitch wound head rebind arm 3 o\\'clock armenian hospital sent ambulance baku ward sumgait hospital five people armenian hospital nearly overflowing armenian azerbaijani whose car flipped event 27th semashko hospital baku 38 day released 40th day found parent dead first told moscow treated later found dead father\\'s older brother told father\\'s name nikolai artemovich danielian born 1938 mother born 1937 seda osipovna danielian papa worked pmk-20 leader roofing brigade mamma compressor operator also beaten head coroner\\'s report stated head smashed open bled profusely confrontation met jeykhun mamedov called turned later one tipped crowd called specifically find home find exact address dispatch group knew phone number know address event never seen often spoken phone would ask speak father knew name denies one answered phone saying father answered denies called public phone saying called home also true heard noise sound automobile later found earlier convicted never served time--he received suspended sentence 20 year old know since confessed sure one tipped crowd one-hundred percent sure parent karabagh father village badar two year old family moved baku elder brother go school student naval school never graduated went work virgin land [one gigantic agricultural project instituted khrushchev ] returned lived baku later moved sumgait helping town\\'s construction mamma village dagdagan also karabagh worked sumgait first bookstore later construction site sister older life husband karabagh always loved parent went 9th grade dream would continue study finished 8th grade wanted enter baku nautical school military school later changed mind rather parent got recon- sider saying would better finish 10th grade join naval school planning navy almost whole life long--since childhood dreamed sailor father wanted anything always recollected youth telling school always said made big mistake leaving live karabagh never plan leave stay home grandfather ancestor till end day hospital baku learned fate many others suffered well like ishkhan [trdatov] managed hold [at residence microdistrict 3 building 6/2 apartment 6 ] long time lost father [gabriel] miracle managed survive also learned uncle sasha building 5/2 whose daughter raped besides valery--i forgot last name--was hospital year younger went school 14 riding parent car people throwing rock hit parent brought hospital ward even came friend seen around town hospital got know one another better learned fate others died befallen misfortune today suren harutunian first secretary communist party armenia shown television honest glad armenia agreed recognize nagorno karabagh part armenian soviet socialist republic repelled revolted hear baku announcer read decision azerbaijani supreme soviet presidium karabagh becoming part armenia event sumgait baku best solution give karabagh armenia return armenia since people want live peacefully azerbaijani everything right arrived karabagh april 11 felt bad constant headache strength returned older sister suzanna took think justice prevail people demanding due can\\'t take away due parent often spoke nagorno karabagh often visited here--spent almost vacation even decided karabagh would made part armenia would move sure always said armenian people suffered much done 1921--removing nagorno karabagh armenia--was wrong sooner later mistake corrected order correct mistake must repeated fate nagorno karabagh lie hand government june 13 1988 stepanakert'"
      ]
     },
     "execution_count": 98,
     "metadata": {},
     "output_type": "execute_result"
    }
   ],
   "source": [
    "df_lemmatization['document'][20]"
   ]
  },
  {
   "cell_type": "markdown",
   "metadata": {},
   "source": [
    "## Obtain statistics on the number of words in each document"
   ]
  },
  {
   "cell_type": "code",
   "execution_count": 87,
   "metadata": {
    "ExecuteTime": {
     "end_time": "2019-02-20T08:27:50.010403Z",
     "start_time": "2019-02-20T08:27:49.998801Z"
    },
    "scrolled": false
   },
   "outputs": [
    {
     "data": {
      "text/plain": [
       "count    19998.000000\n",
       "mean       109.957446\n",
       "std        338.118798\n",
       "min          0.000000\n",
       "25%         23.000000\n",
       "50%         47.000000\n",
       "75%         94.000000\n",
       "max      11324.000000\n",
       "Name: num_words, dtype: float64"
      ]
     },
     "execution_count": 87,
     "metadata": {},
     "output_type": "execute_result"
    }
   ],
   "source": [
    "df_lemmatization['num_words'].describe()"
   ]
  },
  {
   "cell_type": "code",
   "execution_count": 110,
   "metadata": {
    "ExecuteTime": {
     "end_time": "2019-02-20T08:49:09.377651Z",
     "start_time": "2019-02-20T08:49:09.367149Z"
    }
   },
   "outputs": [
    {
     "name": "stdout",
     "output_type": "stream",
     "text": [
      "80th percentile:  113.0\n",
      "85th percentile:  139.0\n",
      "90th percentile:  188.0\n",
      "95th percentile:  322.0\n"
     ]
    }
   ],
   "source": [
    "# Print percentiles\n",
    "print('80th percentile: ', df_lemmatization['num_words'].quantile(0.80))\n",
    "print('85th percentile: ', df_lemmatization['num_words'].quantile(0.85))\n",
    "print('90th percentile: ', df_lemmatization['num_words'].quantile(0.90))\n",
    "print('95th percentile: ', df_lemmatization['num_words'].quantile(0.95))"
   ]
  },
  {
   "cell_type": "code",
   "execution_count": 88,
   "metadata": {
    "ExecuteTime": {
     "end_time": "2019-02-20T08:28:07.803179Z",
     "start_time": "2019-02-20T08:28:07.467832Z"
    }
   },
   "outputs": [],
   "source": [
    "import seaborn as sns"
   ]
  },
  {
   "cell_type": "code",
   "execution_count": 104,
   "metadata": {
    "ExecuteTime": {
     "end_time": "2019-02-20T08:47:09.074102Z",
     "start_time": "2019-02-20T08:47:08.924421Z"
    }
   },
   "outputs": [
    {
     "data": {
      "text/plain": [
       "<matplotlib.axes._subplots.AxesSubplot at 0x1a32d21f60>"
      ]
     },
     "execution_count": 104,
     "metadata": {},
     "output_type": "execute_result"
    },
    {
     "data": {
      "image/png": "[encoded data removed]",
      "text/plain": [
       "<Figure size 432x288 with 1 Axes>"
      ]
     },
     "metadata": {},
     "output_type": "display_data"
    }
   ],
   "source": [
    "sns.set(style=\"whitegrid\")\n",
    "sns.boxplot(x=df_lemmatization['num_words'])"
   ]
  }
 ],
 "metadata": {
  "hide_input": false,
  "kernelspec": {
   "display_name": "Python 3",
   "language": "python",
   "name": "python3"
  },
  "language_info": {
   "codemirror_mode": {
    "name": "ipython",
    "version": 3
   },
   "file_extension": ".py",
   "mimetype": "text/x-python",
   "name": "python",
   "nbconvert_exporter": "python",
   "pygments_lexer": "ipython3",
   "version": "3.6.7"
  },
  "toc": {
   "base_numbering": 1,
   "nav_menu": {},
   "number_sections": true,
   "sideBar": true,
   "skip_h1_title": false,
   "title_cell": "Table of Contents",
   "title_sidebar": "Contents",
   "toc_cell": false,
   "toc_position": {
    "height": "calc(100% - 180px)",
    "left": "10px",
    "top": "150px",
    "width": "387.5px"
   },
   "toc_section_display": true,
   "toc_window_display": true
  },
  "varInspector": {
   "cols": {
    "lenName": 16,
    "lenType": 16,
    "lenVar": 40
   },
   "kernels_config": {
    "python": {
     "delete_cmd_postfix": "",
     "delete_cmd_prefix": "del ",
     "library": "var_list.py",
     "varRefreshCmd": "print(var_dic_list())"
    },
    "r": {
     "delete_cmd_postfix": ") ",
     "delete_cmd_prefix": "rm(",
     "library": "var_list.r",
     "varRefreshCmd": "cat(var_dic_list()) "
    }
   },
   "oldHeight": 389,
   "position": {
    "height": "40px",
    "left": "1240.046875px",
    "right": "15.953125px",
    "top": "111.09375px",
    "width": "424px"
   },
   "types_to_exclude": [
    "module",
    "function",
    "builtin_function_or_method",
    "instance",
    "_Feature"
   ],
   "varInspector_section_display": "none",
   "window_display": false
  }
 },
 "nbformat": 4,
 "nbformat_minor": 2
}

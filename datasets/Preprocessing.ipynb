{
 "cells": [
  {
   "cell_type": "markdown",
   "metadata": {},
   "source": [
    "# Preprocessing"
   ]
  },
  {
   "cell_type": "code",
   "execution_count": 1,
   "metadata": {
    "ExecuteTime": {
     "end_time": "2019-03-01T22:41:48.900586Z",
     "start_time": "2019-03-01T22:41:48.886161Z"
    }
   },
   "outputs": [],
   "source": [
    "from tqdm import tqdm"
   ]
  },
  {
   "cell_type": "markdown",
   "metadata": {},
   "source": [
    "## Obtain the data"
   ]
  },
  {
   "cell_type": "code",
   "execution_count": 2,
   "metadata": {
    "ExecuteTime": {
     "end_time": "2019-03-01T22:41:49.054411Z",
     "start_time": "2019-03-01T22:41:48.903561Z"
    }
   },
   "outputs": [
    {
     "name": "stdout",
     "output_type": "stream",
     "text": [
      "curl: option -: is unknown\r\n",
      "curl: try 'curl --help' or 'curl --manual' for more information\r\n"
     ]
    }
   ],
   "source": [
    "# Download the tar.gz file\n",
    "!curl - O https://archive.ics.uci.edu/ml/machine-learning-databases/20newsgroups-mld/20_newsgroups.tar.gz"
   ]
  },
  {
   "cell_type": "code",
   "execution_count": 3,
   "metadata": {
    "ExecuteTime": {
     "end_time": "2019-03-01T22:41:49.183243Z",
     "start_time": "2019-03-01T22:41:49.058787Z"
    }
   },
   "outputs": [
    {
     "name": "stdout",
     "output_type": "stream",
     "text": [
      "tar: Error opening archive: Failed to open '20_newsgroups.tar.gz'\r\n"
     ]
    }
   ],
   "source": [
    "# Uncompress the file\n",
    "!tar xzf 20_newsgroups.tar.gz"
   ]
  },
  {
   "cell_type": "code",
   "execution_count": 4,
   "metadata": {
    "ExecuteTime": {
     "end_time": "2019-03-01T22:41:49.306586Z",
     "start_time": "2019-03-01T22:41:49.186407Z"
    }
   },
   "outputs": [
    {
     "name": "stdout",
     "output_type": "stream",
     "text": [
      "rm: 20_newsgroups.tar.gz: No such file or directory\r\n"
     ]
    }
   ],
   "source": [
    "# Remove the compressed file\n",
    "!rm 20_newsgroups.tar.gz"
   ]
  },
  {
   "cell_type": "markdown",
   "metadata": {},
   "source": [
    "## Load the data"
   ]
  },
  {
   "cell_type": "code",
   "execution_count": 5,
   "metadata": {
    "ExecuteTime": {
     "end_time": "2019-03-01T22:41:49.329201Z",
     "start_time": "2019-03-01T22:41:49.309352Z"
    }
   },
   "outputs": [
    {
     "data": {
      "text/plain": [
       "['talk.politics.mideast',\n",
       " '.DS_Store',\n",
       " 'rec.autos',\n",
       " 'comp.sys.mac.hardware',\n",
       " 'alt.atheism',\n",
       " 'rec.sport.baseball',\n",
       " 'comp.os.ms-windows.misc',\n",
       " 'rec.sport.hockey',\n",
       " 'sci.crypt',\n",
       " 'sci.med',\n",
       " 'talk.politics.misc',\n",
       " 'rec.motorcycles',\n",
       " 'comp.windows.x',\n",
       " 'comp.graphics',\n",
       " 'comp.sys.ibm.pc.hardware',\n",
       " 'sci.electronics',\n",
       " 'talk.politics.guns',\n",
       " 'sci.space',\n",
       " 'soc.religion.christian',\n",
       " 'misc.forsale',\n",
       " 'talk.religion.misc']"
      ]
     },
     "execution_count": 5,
     "metadata": {},
     "output_type": "execute_result"
    }
   ],
   "source": [
    "import os\n",
    "\n",
    "files_list = os.listdir(\"20_newsgroups\")\n",
    "files_list"
   ]
  },
  {
   "cell_type": "code",
   "execution_count": 6,
   "metadata": {
    "ExecuteTime": {
     "end_time": "2019-03-01T22:41:49.351802Z",
     "start_time": "2019-03-01T22:41:49.332003Z"
    }
   },
   "outputs": [],
   "source": [
    "def get_file_content(filename, encoding):\n",
    "    with open(filename, encoding=encoding) as f:\n",
    "        return f.read()\n",
    "\n",
    "\n",
    "def load_20_newsgroups_files():\n",
    "    \"\"\"\n",
    "    Returns a dict with the keys being the class to predict, and the values being a list of strings,\n",
    "    where each string is a file of that class.\n",
    "    \"\"\"\n",
    "    !rm 20_newsgroups/.DS_Store  # Removing Mac file\n",
    "\n",
    "    files_dict = {}\n",
    "\n",
    "    for directory in os.listdir('20_newsgroups'):\n",
    "        files_dict[directory] = []\n",
    "\n",
    "        for file in os.listdir('20_newsgroups/' + directory):\n",
    "            file_content = get_file_content(\n",
    "                '20_newsgroups/' + directory + '/' + file, 'latin1')\n",
    "            files_dict[directory].append(file_content)\n",
    "\n",
    "    return files_dict\n",
    "\n",
    "\n",
    "def print_some_files(files_dict):\n",
    "    \"\"\"\n",
    "    Prints some text files from the corpus.\n",
    "    \"\"\"\n",
    "    print('File 1\\n_______\\n')\n",
    "    print(files_dict['sci.med'][1])\n",
    "    print('\\n\\nFile 2\\n_______\\n')\n",
    "    print(files_dict['sci.electronics'][0])\n",
    "    print('\\n\\nFile 3\\n_______\\n')\n",
    "    print(files_dict['rec.autos'][16])"
   ]
  },
  {
   "cell_type": "code",
   "execution_count": 7,
   "metadata": {
    "ExecuteTime": {
     "end_time": "2019-03-01T22:41:54.139313Z",
     "start_time": "2019-03-01T22:41:49.354683Z"
    }
   },
   "outputs": [],
   "source": [
    "files_dict = load_20_newsgroups_files()"
   ]
  },
  {
   "cell_type": "code",
   "execution_count": 8,
   "metadata": {
    "ExecuteTime": {
     "end_time": "2019-03-01T22:41:54.148748Z",
     "start_time": "2019-03-01T22:41:54.141383Z"
    }
   },
   "outputs": [
    {
     "data": {
      "text/plain": [
       "dict_keys(['talk.politics.mideast', 'rec.autos', 'comp.sys.mac.hardware', 'alt.atheism', 'rec.sport.baseball', 'comp.os.ms-windows.misc', 'rec.sport.hockey', 'sci.crypt', 'sci.med', 'talk.politics.misc', 'rec.motorcycles', 'comp.windows.x', 'comp.graphics', 'comp.sys.ibm.pc.hardware', 'sci.electronics', 'talk.politics.guns', 'sci.space', 'soc.religion.christian', 'misc.forsale', 'talk.religion.misc'])"
      ]
     },
     "execution_count": 8,
     "metadata": {},
     "output_type": "execute_result"
    }
   ],
   "source": [
    "files_dict.keys()"
   ]
  },
  {
   "cell_type": "code",
   "execution_count": 9,
   "metadata": {
    "ExecuteTime": {
     "end_time": "2019-03-01T22:41:54.159093Z",
     "start_time": "2019-03-01T22:41:54.151471Z"
    },
    "scrolled": false
   },
   "outputs": [
    {
     "name": "stdout",
     "output_type": "stream",
     "text": [
      "File 1\n",
      "_______\n",
      "\n",
      "Path: cantaloupe.srv.cs.cmu.edu!crabapple.srv.cs.cmu.edu!fs7.ece.cmu.edu!europa.eng.gtefsd.com!howland.reston.ans.net!zaphod.mps.ohio-state.edu!saimiri.primate.wisc.edu!zazen!uwec.edu!nyeda\n",
      "From: nyeda@cnsvax.uwec.edu (David Nye)\n",
      "Newsgroups: sci.med\n",
      "Subject: Re: seizures ( infantile spasms )\n",
      "Message-ID: <1993Apr20.191250.6144@cnsvax.uwec.edu>\n",
      "Date: 20 Apr 93 19:12:50 -0600\n",
      "Organization: University of Wisconsin Eau Claire\n",
      "Lines: 19\n",
      "\n",
      "[reply to dufault@lftfld.enet.dec.com (MD)]\n",
      " \n",
      ">After many metabolic tests, body structure tests, and infection/virus\n",
      ">tests the doctors still do not know quite what type of siezures he is\n",
      ">having (although they do have alot of evidence that it is now pointing\n",
      ">to infantile spasms ).  This is where we stand right now....As I know\n",
      ">now, these particular types of disorders are still not really well\n",
      ">understood by the medical community.\n",
      " \n",
      "Infantile spasms have been well understood for quite some time now.  You\n",
      "are seeing a pediatric neurologist, aren't you?  If not, I strongly\n",
      "recommend it.  There is a new anticonvulsant about to be released called\n",
      "felbamate which may be particularly helpful for infantile spasms.  As\n",
      "for learning more about seizures, ask your doctor or his nurse about a\n",
      "local support group.\n",
      " \n",
      "David Nye (nyeda@cnsvax.uwec.edu).  Midelfort Clinic, Eau Claire WI\n",
      "This is patently absurd; but whoever wishes to become a philosopher\n",
      "must learn not to be frightened by absurdities. -- Bertrand Russell\n",
      "\n",
      "\n",
      "\n",
      "File 2\n",
      "_______\n",
      "\n",
      "Path: cantaloupe.srv.cs.cmu.edu!crabapple.srv.cs.cmu.edu!fs7.ece.cmu.edu!europa.eng.gtefsd.com!howland.reston.ans.net!noc.near.net!uunet!news.mentorg.com!sdl!usenet\n",
      "From: garyg@warren.mentorg.com (Gary Gendel)\n",
      "Newsgroups: sci.electronics\n",
      "Subject: Re: Need to find out number to a phone lin\n",
      "Date: 19 Apr 1993 18:08:33 GMT\n",
      "Organization: Mentor Graphics Corp. -- IC Group\n",
      "Lines: 32\n",
      "Distribution: world\n",
      "Message-ID: <1qupr1$1v8@sdl.Warren.MENTORG.COM>\n",
      "References: <1qub4mINN7r3@rave.larc.nasa.gov>\n",
      "Reply-To: garyg@warren.mentorg.com\n",
      "NNTP-Posting-Host: garyg.warren.mentorg.com\n",
      "\n",
      "In article 1qub4mINN7r3@rave.larc.nasa.gov, kludge@grissom.larc.nasa.gov (Scott Dorsey) writes:\n",
      ">In article <20756.2bd16dea@ecs.umass.edu> alee@ecs.umass.edu writes:\n",
      ">>\n",
      ">>Greetings!\n",
      ">>      \n",
      ">>        Situation:  I have a phone jack mounted on a wall.  I don't\n",
      ">>                    know the number of the line.  And I don't want\n",
      ">>                    to call up the operator to place a trace on it.\n",
      ">>\n",
      ">>        Question:   Is there a certain device out there that I can\n",
      ">>                    use to find out the number to the line?\n",
      ">\n",
      ">\n",
      ">Call a friend long distance, collect.  Ask to speak with yourself.  When\n",
      ">the operator asks for you, you won't be there, so ask the operator to leave\n",
      ">your number.  She'll read it out in the clear.\n",
      ">--scott\n",
      "\n",
      "Even easier, my area supports 311.  Dial this and a recording recites your number.\n",
      "Phone techs use it to verify an installed line.\n",
      "---\n",
      "\t\t\tGary Gendel\n",
      "Vice President:\t\t\t\tCurrent consulting assignment:\n",
      "Genashor Corp\t\t\t\tMentor Graphics Corporation\n",
      "9 Piney Woods Drive\t\t\t15 Independence Boulevard\n",
      "Belle Mead, NJ 08502\t\t\tWarren, NJ 07059\n",
      "\n",
      "phone:\t(908) 281-0164\t\t\tphone:\t(908) 604-0883\n",
      "fax:\t(908) 281-9607\t\t\temail:\tgaryg@warren.mentorg.com\n",
      "\n",
      "\n",
      "\n",
      "\n",
      "\n",
      "\n",
      "File 3\n",
      "_______\n",
      "\n",
      "Newsgroups: rec.autos\n",
      "Path: cantaloupe.srv.cs.cmu.edu!das-news.harvard.edu!noc.near.net!uunet!infonode!naomi!ljbartel\n",
      "From: ljbartel@naomi.b23b.ingr.com (Les Bartel)\n",
      "Subject: Re: Aftermarket air-conditioners\n",
      "Message-ID: <1993Apr15.141331.25832@infonode.ingr.com>\n",
      "Sender: usenet@infonode.ingr.com (Usenet Administrator)\n",
      "Reply-To: ljbartel@naomi.b23b.ingr.com\n",
      "Organization: Intergraph Corporation\n",
      "Date: Thu, 15 Apr 1993 14:13:31 GMT\n",
      "Lines: 30\n",
      "\n",
      "In article <1qcaueINNmt8@axon.cs.unc.edu> Andrew Brandt writes:\n",
      "|> I looked into getting a/c installed on my 1987 Honda CRX Si.\n",
      "|> The unit is $875 plus shipping, installation is like 5 1/2 hours on\n",
      "|> top of that.  This is a hunk of change.\n",
      "|> \n",
      "|> Does anyone know *any* place that does aftermarket a/c installation\n",
      "|> (not with a Honda a/c unit, but some third party unit).\n",
      "|> \n",
      "|> I cannot seem to find anyone who can put a third party a/c unit in a\n",
      "|> Honda.  I am in No Carolina, so I would prefer some place nearby, but\n",
      "|> any references would be handy.\n",
      "|>\n",
      "|> Thx, Andy (brandt@cs.unc.edu)\n",
      "\n",
      "Sorry I can't help you with your question, but I do have a comment to\n",
      "make concerning aftermarket A/C units.  I have a Frost-King or Frost-Temp\n",
      "(forget which) aftermarket unit on my Cavalier, and am quite unhappy with\n",
      "it.  The fan is noisy, and doesn't put out much air.  I will never have\n",
      "an aftermarket A/C installed in any of my vehicles again.  I just can't\n",
      "trust the quality and performance after this experience.\n",
      "\n",
      " - les\n",
      "\n",
      "-- \n",
      "Les Bartel\t\t\tI'm going to live forever\n",
      "Intergraph Corporation\t\t... or die trying\n",
      "Electronics Division\t\t\n",
      "ljbartel@ingr.com\n",
      "or ljbartel@naomi.b23b.ingr.com\n",
      "(205) 730-8537\n",
      "\n"
     ]
    }
   ],
   "source": [
    "print_some_files(files_dict)"
   ]
  },
  {
   "cell_type": "markdown",
   "metadata": {},
   "source": [
    "## Preprocess the data"
   ]
  },
  {
   "cell_type": "code",
   "execution_count": 10,
   "metadata": {
    "ExecuteTime": {
     "end_time": "2019-03-01T22:41:54.167594Z",
     "start_time": "2019-03-01T22:41:54.162222Z"
    }
   },
   "outputs": [],
   "source": [
    "def apply_function_to_files(files_dict, function):\n",
    "    \"\"\"\n",
    "    Applies the given function to each of the text files in the given corpus,\n",
    "    and returns a copy of it, without modifying the given one.\n",
    "\n",
    "    Parameters\n",
    "    ----------\n",
    "    function : function\n",
    "        The function to be applied to each text file.\n",
    "        \n",
    "    Returns\n",
    "    -------\n",
    "    files_dict: A copy of the given files_dict with the given function applied to each text in it.\n",
    "    \"\"\"\n",
    "    new_files_dict = dict(files_dict)\n",
    "    for files_class in new_files_dict:\n",
    "        new_files_dict[files_class] = [function(file)\n",
    "                                   for file in new_files_dict[files_class]]\n",
    "    return new_files_dict"
   ]
  },
  {
   "cell_type": "markdown",
   "metadata": {},
   "source": [
    "### Remove the header of each file"
   ]
  },
  {
   "cell_type": "code",
   "execution_count": 11,
   "metadata": {
    "ExecuteTime": {
     "end_time": "2019-03-01T22:41:54.175741Z",
     "start_time": "2019-03-01T22:41:54.171369Z"
    }
   },
   "outputs": [],
   "source": [
    "def strip_header(file_text):\n",
    "    \"\"\"\n",
    "    Returns the file with the header removed.\n",
    "    The header is the text before the first blank line.\n",
    "    \"\"\"\n",
    "    _before, _blankline, after = file_text.partition('\\n\\n')\n",
    "    return after"
   ]
  },
  {
   "cell_type": "code",
   "execution_count": 12,
   "metadata": {
    "ExecuteTime": {
     "end_time": "2019-03-01T22:41:54.274985Z",
     "start_time": "2019-03-01T22:41:54.180664Z"
    }
   },
   "outputs": [],
   "source": [
    "files_dict = apply_function_to_files(files_dict, strip_header)"
   ]
  },
  {
   "cell_type": "code",
   "execution_count": 13,
   "metadata": {
    "ExecuteTime": {
     "end_time": "2019-03-01T22:41:54.301924Z",
     "start_time": "2019-03-01T22:41:54.289854Z"
    },
    "scrolled": true
   },
   "outputs": [
    {
     "name": "stdout",
     "output_type": "stream",
     "text": [
      "File 1\n",
      "_______\n",
      "\n",
      "[reply to dufault@lftfld.enet.dec.com (MD)]\n",
      " \n",
      ">After many metabolic tests, body structure tests, and infection/virus\n",
      ">tests the doctors still do not know quite what type of siezures he is\n",
      ">having (although they do have alot of evidence that it is now pointing\n",
      ">to infantile spasms ).  This is where we stand right now....As I know\n",
      ">now, these particular types of disorders are still not really well\n",
      ">understood by the medical community.\n",
      " \n",
      "Infantile spasms have been well understood for quite some time now.  You\n",
      "are seeing a pediatric neurologist, aren't you?  If not, I strongly\n",
      "recommend it.  There is a new anticonvulsant about to be released called\n",
      "felbamate which may be particularly helpful for infantile spasms.  As\n",
      "for learning more about seizures, ask your doctor or his nurse about a\n",
      "local support group.\n",
      " \n",
      "David Nye (nyeda@cnsvax.uwec.edu).  Midelfort Clinic, Eau Claire WI\n",
      "This is patently absurd; but whoever wishes to become a philosopher\n",
      "must learn not to be frightened by absurdities. -- Bertrand Russell\n",
      "\n",
      "\n",
      "\n",
      "File 2\n",
      "_______\n",
      "\n",
      "In article 1qub4mINN7r3@rave.larc.nasa.gov, kludge@grissom.larc.nasa.gov (Scott Dorsey) writes:\n",
      ">In article <20756.2bd16dea@ecs.umass.edu> alee@ecs.umass.edu writes:\n",
      ">>\n",
      ">>Greetings!\n",
      ">>      \n",
      ">>        Situation:  I have a phone jack mounted on a wall.  I don't\n",
      ">>                    know the number of the line.  And I don't want\n",
      ">>                    to call up the operator to place a trace on it.\n",
      ">>\n",
      ">>        Question:   Is there a certain device out there that I can\n",
      ">>                    use to find out the number to the line?\n",
      ">\n",
      ">\n",
      ">Call a friend long distance, collect.  Ask to speak with yourself.  When\n",
      ">the operator asks for you, you won't be there, so ask the operator to leave\n",
      ">your number.  She'll read it out in the clear.\n",
      ">--scott\n",
      "\n",
      "Even easier, my area supports 311.  Dial this and a recording recites your number.\n",
      "Phone techs use it to verify an installed line.\n",
      "---\n",
      "\t\t\tGary Gendel\n",
      "Vice President:\t\t\t\tCurrent consulting assignment:\n",
      "Genashor Corp\t\t\t\tMentor Graphics Corporation\n",
      "9 Piney Woods Drive\t\t\t15 Independence Boulevard\n",
      "Belle Mead, NJ 08502\t\t\tWarren, NJ 07059\n",
      "\n",
      "phone:\t(908) 281-0164\t\t\tphone:\t(908) 604-0883\n",
      "fax:\t(908) 281-9607\t\t\temail:\tgaryg@warren.mentorg.com\n",
      "\n",
      "\n",
      "\n",
      "\n",
      "\n",
      "\n",
      "File 3\n",
      "_______\n",
      "\n",
      "In article <1qcaueINNmt8@axon.cs.unc.edu> Andrew Brandt writes:\n",
      "|> I looked into getting a/c installed on my 1987 Honda CRX Si.\n",
      "|> The unit is $875 plus shipping, installation is like 5 1/2 hours on\n",
      "|> top of that.  This is a hunk of change.\n",
      "|> \n",
      "|> Does anyone know *any* place that does aftermarket a/c installation\n",
      "|> (not with a Honda a/c unit, but some third party unit).\n",
      "|> \n",
      "|> I cannot seem to find anyone who can put a third party a/c unit in a\n",
      "|> Honda.  I am in No Carolina, so I would prefer some place nearby, but\n",
      "|> any references would be handy.\n",
      "|>\n",
      "|> Thx, Andy (brandt@cs.unc.edu)\n",
      "\n",
      "Sorry I can't help you with your question, but I do have a comment to\n",
      "make concerning aftermarket A/C units.  I have a Frost-King or Frost-Temp\n",
      "(forget which) aftermarket unit on my Cavalier, and am quite unhappy with\n",
      "it.  The fan is noisy, and doesn't put out much air.  I will never have\n",
      "an aftermarket A/C installed in any of my vehicles again.  I just can't\n",
      "trust the quality and performance after this experience.\n",
      "\n",
      " - les\n",
      "\n",
      "-- \n",
      "Les Bartel\t\t\tI'm going to live forever\n",
      "Intergraph Corporation\t\t... or die trying\n",
      "Electronics Division\t\t\n",
      "ljbartel@ingr.com\n",
      "or ljbartel@naomi.b23b.ingr.com\n",
      "(205) 730-8537\n",
      "\n"
     ]
    }
   ],
   "source": [
    "print_some_files(files_dict)"
   ]
  },
  {
   "cell_type": "markdown",
   "metadata": {},
   "source": [
    "### Remove quotes"
   ]
  },
  {
   "cell_type": "code",
   "execution_count": 14,
   "metadata": {
    "ExecuteTime": {
     "end_time": "2019-03-01T22:41:54.364639Z",
     "start_time": "2019-03-01T22:41:54.332894Z"
    }
   },
   "outputs": [],
   "source": [
    "import re\n",
    "\n",
    "_QUOTE_RE = re.compile(\n",
    "    r'(writes in|writes:|wrote:|says:|said:|^In article|^Quoted from|^\\||^>)')\n",
    "\n",
    "\n",
    "def strip_quotes(file_text):\n",
    "    \"\"\"\n",
    "    Returns the file with the quotes removed:\n",
    "    Lines beginning with the quote characters > or |\n",
    "    and lines that commonly introduce quoted sections.\n",
    "    \"\"\"\n",
    "    good_lines = [line for line in file_text.split('\\n')\n",
    "                  if not _QUOTE_RE.search(line)]\n",
    "    return '\\n'.join(good_lines)"
   ]
  },
  {
   "cell_type": "code",
   "execution_count": 15,
   "metadata": {
    "ExecuteTime": {
     "end_time": "2019-03-01T22:41:56.229346Z",
     "start_time": "2019-03-01T22:41:54.366854Z"
    }
   },
   "outputs": [],
   "source": [
    "files_dict = apply_function_to_files(files_dict, strip_quotes)"
   ]
  },
  {
   "cell_type": "code",
   "execution_count": 16,
   "metadata": {
    "ExecuteTime": {
     "end_time": "2019-03-01T22:41:56.236028Z",
     "start_time": "2019-03-01T22:41:56.231659Z"
    },
    "scrolled": true
   },
   "outputs": [
    {
     "name": "stdout",
     "output_type": "stream",
     "text": [
      "File 1\n",
      "_______\n",
      "\n",
      "[reply to dufault@lftfld.enet.dec.com (MD)]\n",
      " \n",
      " \n",
      "Infantile spasms have been well understood for quite some time now.  You\n",
      "are seeing a pediatric neurologist, aren't you?  If not, I strongly\n",
      "recommend it.  There is a new anticonvulsant about to be released called\n",
      "felbamate which may be particularly helpful for infantile spasms.  As\n",
      "for learning more about seizures, ask your doctor or his nurse about a\n",
      "local support group.\n",
      " \n",
      "David Nye (nyeda@cnsvax.uwec.edu).  Midelfort Clinic, Eau Claire WI\n",
      "This is patently absurd; but whoever wishes to become a philosopher\n",
      "must learn not to be frightened by absurdities. -- Bertrand Russell\n",
      "\n",
      "\n",
      "\n",
      "File 2\n",
      "_______\n",
      "\n",
      "\n",
      "Even easier, my area supports 311.  Dial this and a recording recites your number.\n",
      "Phone techs use it to verify an installed line.\n",
      "---\n",
      "\t\t\tGary Gendel\n",
      "Vice President:\t\t\t\tCurrent consulting assignment:\n",
      "Genashor Corp\t\t\t\tMentor Graphics Corporation\n",
      "9 Piney Woods Drive\t\t\t15 Independence Boulevard\n",
      "Belle Mead, NJ 08502\t\t\tWarren, NJ 07059\n",
      "\n",
      "phone:\t(908) 281-0164\t\t\tphone:\t(908) 604-0883\n",
      "fax:\t(908) 281-9607\t\t\temail:\tgaryg@warren.mentorg.com\n",
      "\n",
      "\n",
      "\n",
      "\n",
      "\n",
      "\n",
      "File 3\n",
      "_______\n",
      "\n",
      "\n",
      "Sorry I can't help you with your question, but I do have a comment to\n",
      "make concerning aftermarket A/C units.  I have a Frost-King or Frost-Temp\n",
      "(forget which) aftermarket unit on my Cavalier, and am quite unhappy with\n",
      "it.  The fan is noisy, and doesn't put out much air.  I will never have\n",
      "an aftermarket A/C installed in any of my vehicles again.  I just can't\n",
      "trust the quality and performance after this experience.\n",
      "\n",
      " - les\n",
      "\n",
      "-- \n",
      "Les Bartel\t\t\tI'm going to live forever\n",
      "Intergraph Corporation\t\t... or die trying\n",
      "Electronics Division\t\t\n",
      "ljbartel@ingr.com\n",
      "or ljbartel@naomi.b23b.ingr.com\n",
      "(205) 730-8537\n",
      "\n"
     ]
    }
   ],
   "source": [
    "print_some_files(files_dict)"
   ]
  },
  {
   "cell_type": "markdown",
   "metadata": {
    "ExecuteTime": {
     "end_time": "2019-02-15T11:47:43.554309Z",
     "start_time": "2019-02-15T11:47:43.550806Z"
    }
   },
   "source": [
    "### Remove signature footer"
   ]
  },
  {
   "cell_type": "code",
   "execution_count": 17,
   "metadata": {
    "ExecuteTime": {
     "end_time": "2019-03-01T22:41:56.244649Z",
     "start_time": "2019-03-01T22:41:56.238946Z"
    }
   },
   "outputs": [],
   "source": [
    "def strip_footer(file_text):\n",
    "    \"\"\"\n",
    "    Returns the file with the signature block removed:\n",
    "    We assume that signatures are at the end of the text,\n",
    "    separated by a blank line or a line made of -.\n",
    "    \"\"\"\n",
    "    lines = file_text.strip().split('\\n')\n",
    "    for line_num in range(len(lines) - 1, -1, -1):\n",
    "        line = lines[line_num]\n",
    "        if line.strip().strip('-') == '':\n",
    "            break\n",
    "\n",
    "    if line_num > 0:\n",
    "        return '\\n'.join(lines[:line_num])\n",
    "    else:\n",
    "        return file_text"
   ]
  },
  {
   "cell_type": "code",
   "execution_count": 18,
   "metadata": {
    "ExecuteTime": {
     "end_time": "2019-03-01T22:41:56.363314Z",
     "start_time": "2019-03-01T22:41:56.246883Z"
    }
   },
   "outputs": [],
   "source": [
    "files_dict = apply_function_to_files(files_dict, strip_footer)"
   ]
  },
  {
   "cell_type": "code",
   "execution_count": 19,
   "metadata": {
    "ExecuteTime": {
     "end_time": "2019-03-01T22:41:56.368329Z",
     "start_time": "2019-03-01T22:41:56.365353Z"
    },
    "scrolled": true
   },
   "outputs": [
    {
     "name": "stdout",
     "output_type": "stream",
     "text": [
      "File 1\n",
      "_______\n",
      "\n",
      "[reply to dufault@lftfld.enet.dec.com (MD)]\n",
      " \n",
      " \n",
      "Infantile spasms have been well understood for quite some time now.  You\n",
      "are seeing a pediatric neurologist, aren't you?  If not, I strongly\n",
      "recommend it.  There is a new anticonvulsant about to be released called\n",
      "felbamate which may be particularly helpful for infantile spasms.  As\n",
      "for learning more about seizures, ask your doctor or his nurse about a\n",
      "local support group.\n",
      "\n",
      "\n",
      "File 2\n",
      "_______\n",
      "\n",
      "Even easier, my area supports 311.  Dial this and a recording recites your number.\n",
      "Phone techs use it to verify an installed line.\n",
      "---\n",
      "\t\t\tGary Gendel\n",
      "Vice President:\t\t\t\tCurrent consulting assignment:\n",
      "Genashor Corp\t\t\t\tMentor Graphics Corporation\n",
      "9 Piney Woods Drive\t\t\t15 Independence Boulevard\n",
      "Belle Mead, NJ 08502\t\t\tWarren, NJ 07059\n",
      "\n",
      "\n",
      "File 3\n",
      "_______\n",
      "\n",
      "Sorry I can't help you with your question, but I do have a comment to\n",
      "make concerning aftermarket A/C units.  I have a Frost-King or Frost-Temp\n",
      "(forget which) aftermarket unit on my Cavalier, and am quite unhappy with\n",
      "it.  The fan is noisy, and doesn't put out much air.  I will never have\n",
      "an aftermarket A/C installed in any of my vehicles again.  I just can't\n",
      "trust the quality and performance after this experience.\n",
      "\n",
      " - les\n",
      "\n"
     ]
    }
   ],
   "source": [
    "print_some_files(files_dict)"
   ]
  },
  {
   "cell_type": "markdown",
   "metadata": {},
   "source": [
    "### Remove stopwords"
   ]
  },
  {
   "cell_type": "code",
   "execution_count": 20,
   "metadata": {
    "ExecuteTime": {
     "end_time": "2019-03-01T22:41:58.772694Z",
     "start_time": "2019-03-01T22:41:56.371531Z"
    }
   },
   "outputs": [
    {
     "name": "stdout",
     "output_type": "stream",
     "text": [
      "[nltk_data] Downloading package stopwords to\n",
      "[nltk_data]     /Users/carlos/nltk_data...\n",
      "[nltk_data]   Package stopwords is already up-to-date!\n"
     ]
    }
   ],
   "source": [
    "import nltk\n",
    "nltk.download('stopwords')\n",
    "from nltk.corpus import stopwords"
   ]
  },
  {
   "cell_type": "code",
   "execution_count": 21,
   "metadata": {
    "ExecuteTime": {
     "end_time": "2019-03-01T22:41:58.799339Z",
     "start_time": "2019-03-01T22:41:58.777463Z"
    }
   },
   "outputs": [],
   "source": [
    "STOPWORDS = set(stopwords.words('english'))"
   ]
  },
  {
   "cell_type": "code",
   "execution_count": 22,
   "metadata": {
    "ExecuteTime": {
     "end_time": "2019-03-01T22:41:58.814781Z",
     "start_time": "2019-03-01T22:41:58.805525Z"
    }
   },
   "outputs": [],
   "source": [
    "__PUNCTUATION_RE = re.compile('[ºª#$€%&*+-_.·,;:<=>@/¡!¿?^¨`´\\'\\\"(){|}~[\\\\]]')\n",
    "\n",
    "\n",
    "def to_lowercase_and_remove_stopwords(text_file):\n",
    "    \"\"\"\n",
    "    Returns the file with the al characters in lowercase\n",
    "    and with the stopwords removed.\n",
    "    \"\"\"\n",
    "    text_file = text_file.lower()\n",
    "    text_file = __PUNCTUATION_RE.sub(' ', text_file)\n",
    "    text_file = ' '.join(word for word in text_file.split()\n",
    "                         if word not in STOPWORDS)\n",
    "    return text_file"
   ]
  },
  {
   "cell_type": "code",
   "execution_count": 23,
   "metadata": {
    "ExecuteTime": {
     "end_time": "2019-03-01T22:42:00.342385Z",
     "start_time": "2019-03-01T22:41:58.820933Z"
    }
   },
   "outputs": [],
   "source": [
    "files_dict = apply_function_to_files(files_dict, to_lowercase_and_remove_stopwords)"
   ]
  },
  {
   "cell_type": "code",
   "execution_count": 24,
   "metadata": {
    "ExecuteTime": {
     "end_time": "2019-03-01T22:42:00.360079Z",
     "start_time": "2019-03-01T22:42:00.345310Z"
    }
   },
   "outputs": [
    {
     "name": "stdout",
     "output_type": "stream",
     "text": [
      "File 1\n",
      "_______\n",
      "\n",
      "reply dufault lftfld enet dec com md infantile spasms well understood quite time seeing pediatric neurologist strongly recommend new anticonvulsant released called felbamate may particularly helpful infantile spasms learning seizures ask doctor nurse local support group\n",
      "\n",
      "\n",
      "File 2\n",
      "_______\n",
      "\n",
      "even easier area supports dial recording recites number phone techs use verify installed line gary gendel vice president current consulting assignment genashor corp mentor graphics corporation piney woods drive independence boulevard belle mead nj warren nj\n",
      "\n",
      "\n",
      "File 3\n",
      "_______\n",
      "\n",
      "sorry help question comment make concerning aftermarket c units frost king frost temp forget aftermarket unit cavalier quite unhappy fan noisy put much air never aftermarket c installed vehicles trust quality performance experience les\n"
     ]
    }
   ],
   "source": [
    "print_some_files(files_dict)"
   ]
  },
  {
   "cell_type": "markdown",
   "metadata": {},
   "source": [
    "### Stemming vs Lemmatization"
   ]
  },
  {
   "cell_type": "markdown",
   "metadata": {},
   "source": [
    "#### Stemming"
   ]
  },
  {
   "cell_type": "code",
   "execution_count": 25,
   "metadata": {
    "ExecuteTime": {
     "end_time": "2019-03-01T22:42:00.374399Z",
     "start_time": "2019-03-01T22:42:00.365629Z"
    }
   },
   "outputs": [],
   "source": [
    "from nltk.stem import PorterStemmer"
   ]
  },
  {
   "cell_type": "code",
   "execution_count": 26,
   "metadata": {
    "ExecuteTime": {
     "end_time": "2019-03-01T22:42:00.412491Z",
     "start_time": "2019-03-01T22:42:00.378358Z"
    }
   },
   "outputs": [],
   "source": [
    "def stem_words(text_file):\n",
    "    \"\"\"\n",
    "    Given a string, it applies the Porter Stemmer to each word of the string.\n",
    "    \"\"\"\n",
    "    porter_stemmer = PorterStemmer()\n",
    "    return ' '.join(porter_stemmer.stem(word) for word in text_file.split())"
   ]
  },
  {
   "cell_type": "code",
   "execution_count": 27,
   "metadata": {
    "ExecuteTime": {
     "end_time": "2019-03-01T22:42:39.735172Z",
     "start_time": "2019-03-01T22:42:00.423824Z"
    }
   },
   "outputs": [],
   "source": [
    "files_dict_stemming = apply_function_to_files(files_dict, stem_words)"
   ]
  },
  {
   "cell_type": "code",
   "execution_count": 28,
   "metadata": {
    "ExecuteTime": {
     "end_time": "2019-03-01T22:42:39.743354Z",
     "start_time": "2019-03-01T22:42:39.737018Z"
    },
    "scrolled": false
   },
   "outputs": [
    {
     "name": "stdout",
     "output_type": "stream",
     "text": [
      "File 1\n",
      "_______\n",
      "\n",
      "repli dufault lftfld enet dec com md infantil spasm well understood quit time see pediatr neurologist strongli recommend new anticonvuls releas call felbam may particularli help infantil spasm learn seizur ask doctor nurs local support group\n",
      "\n",
      "\n",
      "File 2\n",
      "_______\n",
      "\n",
      "even easier area support dial record recit number phone tech use verifi instal line gari gendel vice presid current consult assign genashor corp mentor graphic corpor piney wood drive independ boulevard bell mead nj warren nj\n",
      "\n",
      "\n",
      "File 3\n",
      "_______\n",
      "\n",
      "sorri help question comment make concern aftermarket c unit frost king frost temp forget aftermarket unit cavali quit unhappi fan noisi put much air never aftermarket c instal vehicl trust qualiti perform experi le\n"
     ]
    }
   ],
   "source": [
    "print_some_files(files_dict_stemming)"
   ]
  },
  {
   "cell_type": "markdown",
   "metadata": {},
   "source": [
    "#### Lemmatization"
   ]
  },
  {
   "cell_type": "code",
   "execution_count": 29,
   "metadata": {
    "ExecuteTime": {
     "end_time": "2019-03-01T22:42:39.780108Z",
     "start_time": "2019-03-01T22:42:39.746321Z"
    }
   },
   "outputs": [
    {
     "name": "stdout",
     "output_type": "stream",
     "text": [
      "[nltk_data] Downloading package wordnet to /Users/carlos/nltk_data...\n",
      "[nltk_data]   Package wordnet is already up-to-date!\n"
     ]
    }
   ],
   "source": [
    "nltk.download('wordnet')\n",
    "from nltk.stem import WordNetLemmatizer"
   ]
  },
  {
   "cell_type": "code",
   "execution_count": 30,
   "metadata": {
    "ExecuteTime": {
     "end_time": "2019-03-01T22:42:39.786539Z",
     "start_time": "2019-03-01T22:42:39.782356Z"
    }
   },
   "outputs": [],
   "source": [
    "def lemmatize_words(text_file):\n",
    "    \"\"\"\n",
    "    Given a string, it applies the WordNet Lemmatizer to each word of the string.\n",
    "    \"\"\"\n",
    "    wordnet_lemmatizer = WordNetLemmatizer()\n",
    "    return ' '.join(wordnet_lemmatizer.lemmatize(word) for word in text_file.split())"
   ]
  },
  {
   "cell_type": "code",
   "execution_count": 31,
   "metadata": {
    "ExecuteTime": {
     "end_time": "2019-03-01T22:42:50.297332Z",
     "start_time": "2019-03-01T22:42:39.789260Z"
    }
   },
   "outputs": [],
   "source": [
    "files_dict_lemmatization = apply_function_to_files(files_dict, lemmatize_words)"
   ]
  },
  {
   "cell_type": "code",
   "execution_count": 32,
   "metadata": {
    "ExecuteTime": {
     "end_time": "2019-03-01T22:42:50.304379Z",
     "start_time": "2019-03-01T22:42:50.299219Z"
    }
   },
   "outputs": [
    {
     "name": "stdout",
     "output_type": "stream",
     "text": [
      "File 1\n",
      "_______\n",
      "\n",
      "reply dufault lftfld enet dec com md infantile spasm well understood quite time seeing pediatric neurologist strongly recommend new anticonvulsant released called felbamate may particularly helpful infantile spasm learning seizure ask doctor nurse local support group\n",
      "\n",
      "\n",
      "File 2\n",
      "_______\n",
      "\n",
      "even easier area support dial recording recites number phone tech use verify installed line gary gendel vice president current consulting assignment genashor corp mentor graphic corporation piney wood drive independence boulevard belle mead nj warren nj\n",
      "\n",
      "\n",
      "File 3\n",
      "_______\n",
      "\n",
      "sorry help question comment make concerning aftermarket c unit frost king frost temp forget aftermarket unit cavalier quite unhappy fan noisy put much air never aftermarket c installed vehicle trust quality performance experience le\n"
     ]
    }
   ],
   "source": [
    "print_some_files(files_dict_lemmatization)"
   ]
  },
  {
   "cell_type": "markdown",
   "metadata": {},
   "source": [
    "# Creating models"
   ]
  },
  {
   "cell_type": "markdown",
   "metadata": {},
   "source": [
    "## Transform the data to a pandas DataFrame"
   ]
  },
  {
   "cell_type": "code",
   "execution_count": 33,
   "metadata": {
    "ExecuteTime": {
     "end_time": "2019-03-01T22:42:50.938025Z",
     "start_time": "2019-03-01T22:42:50.307878Z"
    }
   },
   "outputs": [],
   "source": [
    "import pandas as pd"
   ]
  },
  {
   "cell_type": "code",
   "execution_count": 34,
   "metadata": {
    "ExecuteTime": {
     "end_time": "2019-03-01T22:42:50.950765Z",
     "start_time": "2019-03-01T22:42:50.941040Z"
    }
   },
   "outputs": [],
   "source": [
    "def transform_dict_to_dataframe(files_dict):\n",
    "    \"\"\"\n",
    "    Transforms the files_dict created before to a pandas DataFrame.\n",
    "    \"\"\"\n",
    "    i = 0\n",
    "    dataframe_dict = {}\n",
    "    for file_class, files_list in files_dict.items():\n",
    "        for file in files_list:\n",
    "            dataframe_dict[i] = [file, file_class]\n",
    "            i += 1\n",
    "\n",
    "    return pd.DataFrame.from_dict(dataframe_dict, orient='index', columns=['document', 'class'])"
   ]
  },
  {
   "cell_type": "markdown",
   "metadata": {},
   "source": [
    "### Stemming"
   ]
  },
  {
   "cell_type": "code",
   "execution_count": 35,
   "metadata": {
    "ExecuteTime": {
     "end_time": "2019-03-01T22:42:51.006942Z",
     "start_time": "2019-03-01T22:42:50.954701Z"
    },
    "scrolled": true
   },
   "outputs": [
    {
     "data": {
      "text/html": [
       "<div>\n",
       "<style scoped>\n",
       "    .dataframe tbody tr th:only-of-type {\n",
       "        vertical-align: middle;\n",
       "    }\n",
       "\n",
       "    .dataframe tbody tr th {\n",
       "        vertical-align: top;\n",
       "    }\n",
       "\n",
       "    .dataframe thead th {\n",
       "        text-align: right;\n",
       "    }\n",
       "</style>\n",
       "<table border=\"1\" class=\"dataframe\">\n",
       "  <thead>\n",
       "    <tr style=\"text-align: right;\">\n",
       "      <th></th>\n",
       "      <th>document</th>\n",
       "      <th>class</th>\n",
       "    </tr>\n",
       "  </thead>\n",
       "  <tbody>\n",
       "    <tr>\n",
       "      <th>0</th>\n",
       "      <td>lebanes resist forc deton bomb isra occup patr...</td>\n",
       "      <td>talk.politics.mideast</td>\n",
       "    </tr>\n",
       "    <tr>\n",
       "      <th>1</th>\n",
       "      <td>uh oh first sign argument without merit state ...</td>\n",
       "      <td>talk.politics.mideast</td>\n",
       "    </tr>\n",
       "    <tr>\n",
       "      <th>2</th>\n",
       "      <td>ah c mon give guy three day see come leo</td>\n",
       "      <td>talk.politics.mideast</td>\n",
       "    </tr>\n",
       "    <tr>\n",
       "      <th>3</th>\n",
       "      <td>cours post hard evid fact much difficult bothe...</td>\n",
       "      <td>talk.politics.mideast</td>\n",
       "    </tr>\n",
       "    <tr>\n",
       "      <th>4</th>\n",
       "      <td>precis cuba hatian rule thug elect leader ask ...</td>\n",
       "      <td>talk.politics.mideast</td>\n",
       "    </tr>\n",
       "    <tr>\n",
       "      <th>5</th>\n",
       "      <td>center polici research cpr subject zionism rac...</td>\n",
       "      <td>talk.politics.mideast</td>\n",
       "    </tr>\n",
       "    <tr>\n",
       "      <th>6</th>\n",
       "      <td>massacr answer</td>\n",
       "      <td>talk.politics.mideast</td>\n",
       "    </tr>\n",
       "    <tr>\n",
       "      <th>7</th>\n",
       "      <td>variou contradictori view origin armenian name...</td>\n",
       "      <td>talk.politics.mideast</td>\n",
       "    </tr>\n",
       "    <tr>\n",
       "      <th>8</th>\n",
       "      <td>stuff delet call name give titl first read par...</td>\n",
       "      <td>talk.politics.mideast</td>\n",
       "    </tr>\n",
       "    <tr>\n",
       "      <th>9</th>\n",
       "      <td>ignor hardli characterist ian sarki atamian ex...</td>\n",
       "      <td>talk.politics.mideast</td>\n",
       "    </tr>\n",
       "    <tr>\n",
       "      <th>10</th>\n",
       "      <td>hell guy david davidian think talk much yo dav...</td>\n",
       "      <td>talk.politics.mideast</td>\n",
       "    </tr>\n",
       "    <tr>\n",
       "      <th>11</th>\n",
       "      <td>ok alreadi disqualifi ever object jew peopl co...</td>\n",
       "      <td>talk.politics.mideast</td>\n",
       "    </tr>\n",
       "    <tr>\n",
       "      <th>12</th>\n",
       "      <td>dorin let forget soldier kill murder distinct ...</td>\n",
       "      <td>talk.politics.mideast</td>\n",
       "    </tr>\n",
       "    <tr>\n",
       "      <th>13</th>\n",
       "      <td>account anti armenian human right violat azerb...</td>\n",
       "      <td>talk.politics.mideast</td>\n",
       "    </tr>\n",
       "    <tr>\n",
       "      <th>14</th>\n",
       "      <td>delet noteworthi post west evil etc made islam...</td>\n",
       "      <td>talk.politics.mideast</td>\n",
       "    </tr>\n",
       "    <tr>\n",
       "      <th>15</th>\n",
       "      <td>funni anyway suppos fact israel didnot attack ...</td>\n",
       "      <td>talk.politics.mideast</td>\n",
       "    </tr>\n",
       "    <tr>\n",
       "      <th>16</th>\n",
       "      <td>zionist decid zion must gentil rein mean tell ...</td>\n",
       "      <td>talk.politics.mideast</td>\n",
       "    </tr>\n",
       "    <tr>\n",
       "      <th>17</th>\n",
       "      <td>henrik countri turk azeri consistantli want dr...</td>\n",
       "      <td>talk.politics.mideast</td>\n",
       "    </tr>\n",
       "    <tr>\n",
       "      <th>18</th>\n",
       "      <td>kind rank system use</td>\n",
       "      <td>talk.politics.mideast</td>\n",
       "    </tr>\n",
       "    <tr>\n",
       "      <th>19</th>\n",
       "      <td>forgiv inaccuraci delet origin post person wro...</td>\n",
       "      <td>talk.politics.mideast</td>\n",
       "    </tr>\n",
       "    <tr>\n",
       "      <th>20</th>\n",
       "      <td>deposit vitali nikolayevich danielian born att...</td>\n",
       "      <td>talk.politics.mideast</td>\n",
       "    </tr>\n",
       "    <tr>\n",
       "      <th>21</th>\n",
       "      <td>give us right keep new york home unit nation w...</td>\n",
       "      <td>talk.politics.mideast</td>\n",
       "    </tr>\n",
       "    <tr>\n",
       "      <th>22</th>\n",
       "      <td>well let delv one level deeper democraci bette...</td>\n",
       "      <td>talk.politics.mideast</td>\n",
       "    </tr>\n",
       "    <tr>\n",
       "      <th>23</th>\n",
       "      <td>complet misunderstood oppos intervent somalia ...</td>\n",
       "      <td>talk.politics.mideast</td>\n",
       "    </tr>\n",
       "    <tr>\n",
       "      <th>24</th>\n",
       "      <td>reflect bosnia lord owen serb earli februari l...</td>\n",
       "      <td>talk.politics.mideast</td>\n",
       "    </tr>\n",
       "    <tr>\n",
       "      <th>25</th>\n",
       "      <td>bm gimm break capit letter pure nonsens bm see...</td>\n",
       "      <td>talk.politics.mideast</td>\n",
       "    </tr>\n",
       "    <tr>\n",
       "      <th>26</th>\n",
       "      <td>mind compuls liar work scenario genocid stage ...</td>\n",
       "      <td>talk.politics.mideast</td>\n",
       "    </tr>\n",
       "    <tr>\n",
       "      <th>27</th>\n",
       "      <td>stupid</td>\n",
       "      <td>talk.politics.mideast</td>\n",
       "    </tr>\n",
       "    <tr>\n",
       "      <th>28</th>\n",
       "      <td>ah fire arm folk nasti habit fire back simpl t...</td>\n",
       "      <td>talk.politics.mideast</td>\n",
       "    </tr>\n",
       "    <tr>\n",
       "      <th>29</th>\n",
       "      <td>els expect israel tri portray great democraci ...</td>\n",
       "      <td>talk.politics.mideast</td>\n",
       "    </tr>\n",
       "    <tr>\n",
       "      <th>...</th>\n",
       "      <td>...</td>\n",
       "      <td>...</td>\n",
       "    </tr>\n",
       "    <tr>\n",
       "      <th>19968</th>\n",
       "      <td>belief theori theori make predict falsi fiabl ...</td>\n",
       "      <td>talk.religion.misc</td>\n",
       "    </tr>\n",
       "    <tr>\n",
       "      <th>19969</th>\n",
       "      <td>live colorado never heard group obvious claim ...</td>\n",
       "      <td>talk.religion.misc</td>\n",
       "    </tr>\n",
       "    <tr>\n",
       "      <th>19970</th>\n",
       "      <td>make interest claim challeng mind could provid...</td>\n",
       "      <td>talk.religion.misc</td>\n",
       "    </tr>\n",
       "    <tr>\n",
       "      <th>19971</th>\n",
       "      <td>let us explor interest paragraph point point s...</td>\n",
       "      <td>talk.religion.misc</td>\n",
       "    </tr>\n",
       "    <tr>\n",
       "      <th>19972</th>\n",
       "      <td>faith intellig tell druggi break hous night kn...</td>\n",
       "      <td>talk.religion.misc</td>\n",
       "    </tr>\n",
       "    <tr>\n",
       "      <th>19973</th>\n",
       "      <td>delet sinc drivel also crosspost alt atheism r...</td>\n",
       "      <td>talk.religion.misc</td>\n",
       "    </tr>\n",
       "    <tr>\n",
       "      <th>19974</th>\n",
       "      <td>well thread start discuss sabin evolv entir di...</td>\n",
       "      <td>talk.religion.misc</td>\n",
       "    </tr>\n",
       "    <tr>\n",
       "      <th>19975</th>\n",
       "      <td>huh kind shotgun blast deserv either elabor up...</td>\n",
       "      <td>talk.religion.misc</td>\n",
       "    </tr>\n",
       "    <tr>\n",
       "      <th>19976</th>\n",
       "      <td>mean find ridicul price rest us suppos conclud...</td>\n",
       "      <td>talk.religion.misc</td>\n",
       "    </tr>\n",
       "    <tr>\n",
       "      <th>19977</th>\n",
       "      <td>replac stephen david joslin sinc direct r robe...</td>\n",
       "      <td>talk.religion.misc</td>\n",
       "    </tr>\n",
       "    <tr>\n",
       "      <th>19978</th>\n",
       "      <td>articl apr gn ecn purdu edu mechala gn ecn pur...</td>\n",
       "      <td>talk.religion.misc</td>\n",
       "    </tr>\n",
       "    <tr>\n",
       "      <th>19979</th>\n",
       "      <td>sound like modifi definit christian anyon stri...</td>\n",
       "      <td>talk.religion.misc</td>\n",
       "    </tr>\n",
       "    <tr>\n",
       "      <th>19980</th>\n",
       "      <td>two command rule mere rule vagu practic devoid...</td>\n",
       "      <td>talk.religion.misc</td>\n",
       "    </tr>\n",
       "    <tr>\n",
       "      <th>19981</th>\n",
       "      <td>fbi say one survivor say set fire given claim ...</td>\n",
       "      <td>talk.religion.misc</td>\n",
       "    </tr>\n",
       "    <tr>\n",
       "      <th>19982</th>\n",
       "      <td>afraid much wors jesu said follow ten command ...</td>\n",
       "      <td>talk.religion.misc</td>\n",
       "    </tr>\n",
       "    <tr>\n",
       "      <th>19983</th>\n",
       "      <td>abl prove moral object would correct problem m...</td>\n",
       "      <td>talk.religion.misc</td>\n",
       "    </tr>\n",
       "    <tr>\n",
       "      <th>19984</th>\n",
       "      <td>greatli need jurgen moltmann book god creation...</td>\n",
       "      <td>talk.religion.misc</td>\n",
       "    </tr>\n",
       "    <tr>\n",
       "      <th>19985</th>\n",
       "      <td>marian cathol high school outsid chicago south...</td>\n",
       "      <td>talk.religion.misc</td>\n",
       "    </tr>\n",
       "    <tr>\n",
       "      <th>19986</th>\n",
       "      <td>cockroach</td>\n",
       "      <td>talk.religion.misc</td>\n",
       "    </tr>\n",
       "    <tr>\n",
       "      <th>19987</th>\n",
       "      <td>ahhhh see mean exampl valu object exist valu l...</td>\n",
       "      <td>talk.religion.misc</td>\n",
       "    </tr>\n",
       "    <tr>\n",
       "      <th>19988</th>\n",
       "      <td>make see poll recent religi adulteri newsgroup...</td>\n",
       "      <td>talk.religion.misc</td>\n",
       "    </tr>\n",
       "    <tr>\n",
       "      <th>19989</th>\n",
       "      <td>qlapk v morrow stanford edu salem pangea stanf...</td>\n",
       "      <td>talk.religion.misc</td>\n",
       "    </tr>\n",
       "    <tr>\n",
       "      <th>19990</th>\n",
       "      <td>see camel nose will take chanc win whole thing...</td>\n",
       "      <td>talk.religion.misc</td>\n",
       "    </tr>\n",
       "    <tr>\n",
       "      <th>19991</th>\n",
       "      <td>apr abort privat pa recent gender inequ auto i...</td>\n",
       "      <td>talk.religion.misc</td>\n",
       "    </tr>\n",
       "    <tr>\n",
       "      <th>19992</th>\n",
       "      <td>ye one particular goal land man moon put commu...</td>\n",
       "      <td>talk.religion.misc</td>\n",
       "    </tr>\n",
       "    <tr>\n",
       "      <th>19993</th>\n",
       "      <td>fbi claim basi intellig report bd plan commit ...</td>\n",
       "      <td>talk.religion.misc</td>\n",
       "    </tr>\n",
       "    <tr>\n",
       "      <th>19994</th>\n",
       "      <td>patrick brosnan patb bnr co uk mcsun ukc stc p...</td>\n",
       "      <td>talk.religion.misc</td>\n",
       "    </tr>\n",
       "    <tr>\n",
       "      <th>19995</th>\n",
       "      <td>guess news reader delet line th amend deal kno...</td>\n",
       "      <td>talk.religion.misc</td>\n",
       "    </tr>\n",
       "    <tr>\n",
       "      <th>19996</th>\n",
       "      <td>would someon name denni stuck pay abort covera...</td>\n",
       "      <td>talk.religion.misc</td>\n",
       "    </tr>\n",
       "    <tr>\n",
       "      <th>19997</th>\n",
       "      <td>point mayb exampl argu even true necessarili s...</td>\n",
       "      <td>talk.religion.misc</td>\n",
       "    </tr>\n",
       "  </tbody>\n",
       "</table>\n",
       "<p>19998 rows × 2 columns</p>\n",
       "</div>"
      ],
      "text/plain": [
       "                                                document  \\\n",
       "0      lebanes resist forc deton bomb isra occup patr...   \n",
       "1      uh oh first sign argument without merit state ...   \n",
       "2               ah c mon give guy three day see come leo   \n",
       "3      cours post hard evid fact much difficult bothe...   \n",
       "4      precis cuba hatian rule thug elect leader ask ...   \n",
       "5      center polici research cpr subject zionism rac...   \n",
       "6                                         massacr answer   \n",
       "7      variou contradictori view origin armenian name...   \n",
       "8      stuff delet call name give titl first read par...   \n",
       "9      ignor hardli characterist ian sarki atamian ex...   \n",
       "10     hell guy david davidian think talk much yo dav...   \n",
       "11     ok alreadi disqualifi ever object jew peopl co...   \n",
       "12     dorin let forget soldier kill murder distinct ...   \n",
       "13     account anti armenian human right violat azerb...   \n",
       "14     delet noteworthi post west evil etc made islam...   \n",
       "15     funni anyway suppos fact israel didnot attack ...   \n",
       "16     zionist decid zion must gentil rein mean tell ...   \n",
       "17     henrik countri turk azeri consistantli want dr...   \n",
       "18                                  kind rank system use   \n",
       "19     forgiv inaccuraci delet origin post person wro...   \n",
       "20     deposit vitali nikolayevich danielian born att...   \n",
       "21     give us right keep new york home unit nation w...   \n",
       "22     well let delv one level deeper democraci bette...   \n",
       "23     complet misunderstood oppos intervent somalia ...   \n",
       "24     reflect bosnia lord owen serb earli februari l...   \n",
       "25     bm gimm break capit letter pure nonsens bm see...   \n",
       "26     mind compuls liar work scenario genocid stage ...   \n",
       "27                                                stupid   \n",
       "28     ah fire arm folk nasti habit fire back simpl t...   \n",
       "29     els expect israel tri portray great democraci ...   \n",
       "...                                                  ...   \n",
       "19968  belief theori theori make predict falsi fiabl ...   \n",
       "19969  live colorado never heard group obvious claim ...   \n",
       "19970  make interest claim challeng mind could provid...   \n",
       "19971  let us explor interest paragraph point point s...   \n",
       "19972  faith intellig tell druggi break hous night kn...   \n",
       "19973  delet sinc drivel also crosspost alt atheism r...   \n",
       "19974  well thread start discuss sabin evolv entir di...   \n",
       "19975  huh kind shotgun blast deserv either elabor up...   \n",
       "19976  mean find ridicul price rest us suppos conclud...   \n",
       "19977  replac stephen david joslin sinc direct r robe...   \n",
       "19978  articl apr gn ecn purdu edu mechala gn ecn pur...   \n",
       "19979  sound like modifi definit christian anyon stri...   \n",
       "19980  two command rule mere rule vagu practic devoid...   \n",
       "19981  fbi say one survivor say set fire given claim ...   \n",
       "19982  afraid much wors jesu said follow ten command ...   \n",
       "19983  abl prove moral object would correct problem m...   \n",
       "19984  greatli need jurgen moltmann book god creation...   \n",
       "19985  marian cathol high school outsid chicago south...   \n",
       "19986                                          cockroach   \n",
       "19987  ahhhh see mean exampl valu object exist valu l...   \n",
       "19988  make see poll recent religi adulteri newsgroup...   \n",
       "19989  qlapk v morrow stanford edu salem pangea stanf...   \n",
       "19990  see camel nose will take chanc win whole thing...   \n",
       "19991  apr abort privat pa recent gender inequ auto i...   \n",
       "19992  ye one particular goal land man moon put commu...   \n",
       "19993  fbi claim basi intellig report bd plan commit ...   \n",
       "19994  patrick brosnan patb bnr co uk mcsun ukc stc p...   \n",
       "19995  guess news reader delet line th amend deal kno...   \n",
       "19996  would someon name denni stuck pay abort covera...   \n",
       "19997  point mayb exampl argu even true necessarili s...   \n",
       "\n",
       "                       class  \n",
       "0      talk.politics.mideast  \n",
       "1      talk.politics.mideast  \n",
       "2      talk.politics.mideast  \n",
       "3      talk.politics.mideast  \n",
       "4      talk.politics.mideast  \n",
       "5      talk.politics.mideast  \n",
       "6      talk.politics.mideast  \n",
       "7      talk.politics.mideast  \n",
       "8      talk.politics.mideast  \n",
       "9      talk.politics.mideast  \n",
       "10     talk.politics.mideast  \n",
       "11     talk.politics.mideast  \n",
       "12     talk.politics.mideast  \n",
       "13     talk.politics.mideast  \n",
       "14     talk.politics.mideast  \n",
       "15     talk.politics.mideast  \n",
       "16     talk.politics.mideast  \n",
       "17     talk.politics.mideast  \n",
       "18     talk.politics.mideast  \n",
       "19     talk.politics.mideast  \n",
       "20     talk.politics.mideast  \n",
       "21     talk.politics.mideast  \n",
       "22     talk.politics.mideast  \n",
       "23     talk.politics.mideast  \n",
       "24     talk.politics.mideast  \n",
       "25     talk.politics.mideast  \n",
       "26     talk.politics.mideast  \n",
       "27     talk.politics.mideast  \n",
       "28     talk.politics.mideast  \n",
       "29     talk.politics.mideast  \n",
       "...                      ...  \n",
       "19968     talk.religion.misc  \n",
       "19969     talk.religion.misc  \n",
       "19970     talk.religion.misc  \n",
       "19971     talk.religion.misc  \n",
       "19972     talk.religion.misc  \n",
       "19973     talk.religion.misc  \n",
       "19974     talk.religion.misc  \n",
       "19975     talk.religion.misc  \n",
       "19976     talk.religion.misc  \n",
       "19977     talk.religion.misc  \n",
       "19978     talk.religion.misc  \n",
       "19979     talk.religion.misc  \n",
       "19980     talk.religion.misc  \n",
       "19981     talk.religion.misc  \n",
       "19982     talk.religion.misc  \n",
       "19983     talk.religion.misc  \n",
       "19984     talk.religion.misc  \n",
       "19985     talk.religion.misc  \n",
       "19986     talk.religion.misc  \n",
       "19987     talk.religion.misc  \n",
       "19988     talk.religion.misc  \n",
       "19989     talk.religion.misc  \n",
       "19990     talk.religion.misc  \n",
       "19991     talk.religion.misc  \n",
       "19992     talk.religion.misc  \n",
       "19993     talk.religion.misc  \n",
       "19994     talk.religion.misc  \n",
       "19995     talk.religion.misc  \n",
       "19996     talk.religion.misc  \n",
       "19997     talk.religion.misc  \n",
       "\n",
       "[19998 rows x 2 columns]"
      ]
     },
     "execution_count": 35,
     "metadata": {},
     "output_type": "execute_result"
    }
   ],
   "source": [
    "df_stemming = transform_dict_to_dataframe(files_dict_stemming)\n",
    "df_stemming"
   ]
  },
  {
   "cell_type": "code",
   "execution_count": 36,
   "metadata": {
    "ExecuteTime": {
     "end_time": "2019-03-01T22:42:51.074756Z",
     "start_time": "2019-03-01T22:42:51.009502Z"
    }
   },
   "outputs": [
    {
     "data": {
      "text/html": [
       "<div>\n",
       "<style scoped>\n",
       "    .dataframe tbody tr th:only-of-type {\n",
       "        vertical-align: middle;\n",
       "    }\n",
       "\n",
       "    .dataframe tbody tr th {\n",
       "        vertical-align: top;\n",
       "    }\n",
       "\n",
       "    .dataframe thead th {\n",
       "        text-align: right;\n",
       "    }\n",
       "</style>\n",
       "<table border=\"1\" class=\"dataframe\">\n",
       "  <thead>\n",
       "    <tr style=\"text-align: right;\">\n",
       "      <th></th>\n",
       "      <th>document</th>\n",
       "      <th>class</th>\n",
       "    </tr>\n",
       "  </thead>\n",
       "  <tbody>\n",
       "    <tr>\n",
       "      <th>count</th>\n",
       "      <td>19998</td>\n",
       "      <td>19998</td>\n",
       "    </tr>\n",
       "    <tr>\n",
       "      <th>unique</th>\n",
       "      <td>19215</td>\n",
       "      <td>20</td>\n",
       "    </tr>\n",
       "    <tr>\n",
       "      <th>top</th>\n",
       "      <td></td>\n",
       "      <td>alt.atheism</td>\n",
       "    </tr>\n",
       "    <tr>\n",
       "      <th>freq</th>\n",
       "      <td>92</td>\n",
       "      <td>1001</td>\n",
       "    </tr>\n",
       "  </tbody>\n",
       "</table>\n",
       "</div>"
      ],
      "text/plain": [
       "       document        class\n",
       "count     19998        19998\n",
       "unique    19215           20\n",
       "top              alt.atheism\n",
       "freq         92         1001"
      ]
     },
     "execution_count": 36,
     "metadata": {},
     "output_type": "execute_result"
    }
   ],
   "source": [
    "df_stemming.describe()"
   ]
  },
  {
   "cell_type": "markdown",
   "metadata": {},
   "source": [
    "### Lemmatization"
   ]
  },
  {
   "cell_type": "code",
   "execution_count": 37,
   "metadata": {
    "ExecuteTime": {
     "end_time": "2019-03-01T22:42:51.118148Z",
     "start_time": "2019-03-01T22:42:51.078336Z"
    },
    "scrolled": true
   },
   "outputs": [
    {
     "data": {
      "text/html": [
       "<div>\n",
       "<style scoped>\n",
       "    .dataframe tbody tr th:only-of-type {\n",
       "        vertical-align: middle;\n",
       "    }\n",
       "\n",
       "    .dataframe tbody tr th {\n",
       "        vertical-align: top;\n",
       "    }\n",
       "\n",
       "    .dataframe thead th {\n",
       "        text-align: right;\n",
       "    }\n",
       "</style>\n",
       "<table border=\"1\" class=\"dataframe\">\n",
       "  <thead>\n",
       "    <tr style=\"text-align: right;\">\n",
       "      <th></th>\n",
       "      <th>document</th>\n",
       "      <th>class</th>\n",
       "    </tr>\n",
       "  </thead>\n",
       "  <tbody>\n",
       "    <tr>\n",
       "      <th>0</th>\n",
       "      <td>lebanese resistance force detonated bomb israe...</td>\n",
       "      <td>talk.politics.mideast</td>\n",
       "    </tr>\n",
       "    <tr>\n",
       "      <th>1</th>\n",
       "      <td>uh oh first sign argument without merit statin...</td>\n",
       "      <td>talk.politics.mideast</td>\n",
       "    </tr>\n",
       "    <tr>\n",
       "      <th>2</th>\n",
       "      <td>ah c mon give guy three day see come leo</td>\n",
       "      <td>talk.politics.mideast</td>\n",
       "    </tr>\n",
       "    <tr>\n",
       "      <th>3</th>\n",
       "      <td>course posting hard evidence fact much difficu...</td>\n",
       "      <td>talk.politics.mideast</td>\n",
       "    </tr>\n",
       "    <tr>\n",
       "      <th>4</th>\n",
       "      <td>precisely cuba hatians ruled thug elected lead...</td>\n",
       "      <td>talk.politics.mideast</td>\n",
       "    </tr>\n",
       "    <tr>\n",
       "      <th>5</th>\n",
       "      <td>center policy research cpr subject zionism rac...</td>\n",
       "      <td>talk.politics.mideast</td>\n",
       "    </tr>\n",
       "    <tr>\n",
       "      <th>6</th>\n",
       "      <td>massacre answer</td>\n",
       "      <td>talk.politics.mideast</td>\n",
       "    </tr>\n",
       "    <tr>\n",
       "      <th>7</th>\n",
       "      <td>various contradictory view origin armenian nam...</td>\n",
       "      <td>talk.politics.mideast</td>\n",
       "    </tr>\n",
       "    <tr>\n",
       "      <th>8</th>\n",
       "      <td>stuff deleted calling name giving title first ...</td>\n",
       "      <td>talk.politics.mideast</td>\n",
       "    </tr>\n",
       "    <tr>\n",
       "      <th>9</th>\n",
       "      <td>ignorance hardly characteristic ians sarkis at...</td>\n",
       "      <td>talk.politics.mideast</td>\n",
       "    </tr>\n",
       "    <tr>\n",
       "      <th>10</th>\n",
       "      <td>hell guy david davidian think talk much yo dav...</td>\n",
       "      <td>talk.politics.mideast</td>\n",
       "    </tr>\n",
       "    <tr>\n",
       "      <th>11</th>\n",
       "      <td>ok already disqualified ever objective jew peo...</td>\n",
       "      <td>talk.politics.mideast</td>\n",
       "    </tr>\n",
       "    <tr>\n",
       "      <th>12</th>\n",
       "      <td>dorin let forget soldier killed murdered disti...</td>\n",
       "      <td>talk.politics.mideast</td>\n",
       "    </tr>\n",
       "    <tr>\n",
       "      <th>13</th>\n",
       "      <td>account anti armenian human right violation az...</td>\n",
       "      <td>talk.politics.mideast</td>\n",
       "    </tr>\n",
       "    <tr>\n",
       "      <th>14</th>\n",
       "      <td>deleted noteworthy post west evil etc made isl...</td>\n",
       "      <td>talk.politics.mideast</td>\n",
       "    </tr>\n",
       "    <tr>\n",
       "      <th>15</th>\n",
       "      <td>funny anyway suppose fact israel didnot attack...</td>\n",
       "      <td>talk.politics.mideast</td>\n",
       "    </tr>\n",
       "    <tr>\n",
       "      <th>16</th>\n",
       "      <td>zionist decided zion must gentile rein mean te...</td>\n",
       "      <td>talk.politics.mideast</td>\n",
       "    </tr>\n",
       "    <tr>\n",
       "      <th>17</th>\n",
       "      <td>henrik country turk azeri consistantly want dr...</td>\n",
       "      <td>talk.politics.mideast</td>\n",
       "    </tr>\n",
       "    <tr>\n",
       "      <th>18</th>\n",
       "      <td>kind ranking system used</td>\n",
       "      <td>talk.politics.mideast</td>\n",
       "    </tr>\n",
       "    <tr>\n",
       "      <th>19</th>\n",
       "      <td>forgive inaccuracy deleted original post perso...</td>\n",
       "      <td>talk.politics.mideast</td>\n",
       "    </tr>\n",
       "    <tr>\n",
       "      <th>20</th>\n",
       "      <td>deposition vitaly nikolayevich danielian born ...</td>\n",
       "      <td>talk.politics.mideast</td>\n",
       "    </tr>\n",
       "    <tr>\n",
       "      <th>21</th>\n",
       "      <td>give u right keep new york home united nation ...</td>\n",
       "      <td>talk.politics.mideast</td>\n",
       "    </tr>\n",
       "    <tr>\n",
       "      <th>22</th>\n",
       "      <td>well let delve one level deeper democracy bett...</td>\n",
       "      <td>talk.politics.mideast</td>\n",
       "    </tr>\n",
       "    <tr>\n",
       "      <th>23</th>\n",
       "      <td>completely misunderstood opposed intervention ...</td>\n",
       "      <td>talk.politics.mideast</td>\n",
       "    </tr>\n",
       "    <tr>\n",
       "      <th>24</th>\n",
       "      <td>reflection bosnia lord owen serb early februar...</td>\n",
       "      <td>talk.politics.mideast</td>\n",
       "    </tr>\n",
       "    <tr>\n",
       "      <th>25</th>\n",
       "      <td>bm gimme break capital letter pure nonsense bm...</td>\n",
       "      <td>talk.politics.mideast</td>\n",
       "    </tr>\n",
       "    <tr>\n",
       "      <th>26</th>\n",
       "      <td>mind compulsive liar work scenario genocide st...</td>\n",
       "      <td>talk.politics.mideast</td>\n",
       "    </tr>\n",
       "    <tr>\n",
       "      <th>27</th>\n",
       "      <td>stupid</td>\n",
       "      <td>talk.politics.mideast</td>\n",
       "    </tr>\n",
       "    <tr>\n",
       "      <th>28</th>\n",
       "      <td>ah fire armed folk nasty habit firing back sim...</td>\n",
       "      <td>talk.politics.mideast</td>\n",
       "    </tr>\n",
       "    <tr>\n",
       "      <th>29</th>\n",
       "      <td>else expect israel trying portray great democr...</td>\n",
       "      <td>talk.politics.mideast</td>\n",
       "    </tr>\n",
       "    <tr>\n",
       "      <th>...</th>\n",
       "      <td>...</td>\n",
       "      <td>...</td>\n",
       "    </tr>\n",
       "    <tr>\n",
       "      <th>19968</th>\n",
       "      <td>belief theory theory make prediction falsi fia...</td>\n",
       "      <td>talk.religion.misc</td>\n",
       "    </tr>\n",
       "    <tr>\n",
       "      <th>19969</th>\n",
       "      <td>live colorado never heard group obviously clai...</td>\n",
       "      <td>talk.religion.misc</td>\n",
       "    </tr>\n",
       "    <tr>\n",
       "      <th>19970</th>\n",
       "      <td>make interesting claim challenging mind could ...</td>\n",
       "      <td>talk.religion.misc</td>\n",
       "    </tr>\n",
       "    <tr>\n",
       "      <th>19971</th>\n",
       "      <td>let u explore interesting paragraph point poin...</td>\n",
       "      <td>talk.religion.misc</td>\n",
       "    </tr>\n",
       "    <tr>\n",
       "      <th>19972</th>\n",
       "      <td>faith intelligence tell druggie break house ni...</td>\n",
       "      <td>talk.religion.misc</td>\n",
       "    </tr>\n",
       "    <tr>\n",
       "      <th>19973</th>\n",
       "      <td>deletion since drivel also crossposted alt ath...</td>\n",
       "      <td>talk.religion.misc</td>\n",
       "    </tr>\n",
       "    <tr>\n",
       "      <th>19974</th>\n",
       "      <td>well thread started discussion sabin evolved e...</td>\n",
       "      <td>talk.religion.misc</td>\n",
       "    </tr>\n",
       "    <tr>\n",
       "      <th>19975</th>\n",
       "      <td>huh kind shotgun blast deserves either elabora...</td>\n",
       "      <td>talk.religion.misc</td>\n",
       "    </tr>\n",
       "    <tr>\n",
       "      <th>19976</th>\n",
       "      <td>mean find ridiculous price rest u supposed con...</td>\n",
       "      <td>talk.religion.misc</td>\n",
       "    </tr>\n",
       "    <tr>\n",
       "      <th>19977</th>\n",
       "      <td>replace stephen david joslin since directed r ...</td>\n",
       "      <td>talk.religion.misc</td>\n",
       "    </tr>\n",
       "    <tr>\n",
       "      <th>19978</th>\n",
       "      <td>article apr gn ecn purdue edu mechalas gn ecn ...</td>\n",
       "      <td>talk.religion.misc</td>\n",
       "    </tr>\n",
       "    <tr>\n",
       "      <th>19979</th>\n",
       "      <td>sound like modifying definition christian anyo...</td>\n",
       "      <td>talk.religion.misc</td>\n",
       "    </tr>\n",
       "    <tr>\n",
       "      <th>19980</th>\n",
       "      <td>two commandment rule merely rule vague practic...</td>\n",
       "      <td>talk.religion.misc</td>\n",
       "    </tr>\n",
       "    <tr>\n",
       "      <th>19981</th>\n",
       "      <td>fbi say one survivor say set fire given claim ...</td>\n",
       "      <td>talk.religion.misc</td>\n",
       "    </tr>\n",
       "    <tr>\n",
       "      <th>19982</th>\n",
       "      <td>afraid much worse jesus said follow ten comman...</td>\n",
       "      <td>talk.religion.misc</td>\n",
       "    </tr>\n",
       "    <tr>\n",
       "      <th>19983</th>\n",
       "      <td>able prove morality objective would correct pr...</td>\n",
       "      <td>talk.religion.misc</td>\n",
       "    </tr>\n",
       "    <tr>\n",
       "      <th>19984</th>\n",
       "      <td>greatly need jurgen moltmann book god creation...</td>\n",
       "      <td>talk.religion.misc</td>\n",
       "    </tr>\n",
       "    <tr>\n",
       "      <th>19985</th>\n",
       "      <td>marian catholic high school outside chicago so...</td>\n",
       "      <td>talk.religion.misc</td>\n",
       "    </tr>\n",
       "    <tr>\n",
       "      <th>19986</th>\n",
       "      <td>cockroach</td>\n",
       "      <td>talk.religion.misc</td>\n",
       "    </tr>\n",
       "    <tr>\n",
       "      <th>19987</th>\n",
       "      <td>ahhhh see mean example value objective existen...</td>\n",
       "      <td>talk.religion.misc</td>\n",
       "    </tr>\n",
       "    <tr>\n",
       "      <th>19988</th>\n",
       "      <td>make see poll recently religious adultery news...</td>\n",
       "      <td>talk.religion.misc</td>\n",
       "    </tr>\n",
       "    <tr>\n",
       "      <th>19989</th>\n",
       "      <td>qlapk v morrow stanford edu salem pangea stanf...</td>\n",
       "      <td>talk.religion.misc</td>\n",
       "    </tr>\n",
       "    <tr>\n",
       "      <th>19990</th>\n",
       "      <td>see camel nose willing take chance winning who...</td>\n",
       "      <td>talk.religion.misc</td>\n",
       "    </tr>\n",
       "    <tr>\n",
       "      <th>19991</th>\n",
       "      <td>apr abortion private pa recently gender inequi...</td>\n",
       "      <td>talk.religion.misc</td>\n",
       "    </tr>\n",
       "    <tr>\n",
       "      <th>19992</th>\n",
       "      <td>yes one particular goal land man moon put comm...</td>\n",
       "      <td>talk.religion.misc</td>\n",
       "    </tr>\n",
       "    <tr>\n",
       "      <th>19993</th>\n",
       "      <td>fbi claim basis intelligence report bd plan co...</td>\n",
       "      <td>talk.religion.misc</td>\n",
       "    </tr>\n",
       "    <tr>\n",
       "      <th>19994</th>\n",
       "      <td>patrick brosnan patb bnr co uk mcsun ukc stc p...</td>\n",
       "      <td>talk.religion.misc</td>\n",
       "    </tr>\n",
       "    <tr>\n",
       "      <th>19995</th>\n",
       "      <td>guess news reader deleted line th amendment de...</td>\n",
       "      <td>talk.religion.misc</td>\n",
       "    </tr>\n",
       "    <tr>\n",
       "      <th>19996</th>\n",
       "      <td>would someone named dennis stuck paying aborti...</td>\n",
       "      <td>talk.religion.misc</td>\n",
       "    </tr>\n",
       "    <tr>\n",
       "      <th>19997</th>\n",
       "      <td>point maybe example argue even true necessaril...</td>\n",
       "      <td>talk.religion.misc</td>\n",
       "    </tr>\n",
       "  </tbody>\n",
       "</table>\n",
       "<p>19998 rows × 2 columns</p>\n",
       "</div>"
      ],
      "text/plain": [
       "                                                document  \\\n",
       "0      lebanese resistance force detonated bomb israe...   \n",
       "1      uh oh first sign argument without merit statin...   \n",
       "2               ah c mon give guy three day see come leo   \n",
       "3      course posting hard evidence fact much difficu...   \n",
       "4      precisely cuba hatians ruled thug elected lead...   \n",
       "5      center policy research cpr subject zionism rac...   \n",
       "6                                        massacre answer   \n",
       "7      various contradictory view origin armenian nam...   \n",
       "8      stuff deleted calling name giving title first ...   \n",
       "9      ignorance hardly characteristic ians sarkis at...   \n",
       "10     hell guy david davidian think talk much yo dav...   \n",
       "11     ok already disqualified ever objective jew peo...   \n",
       "12     dorin let forget soldier killed murdered disti...   \n",
       "13     account anti armenian human right violation az...   \n",
       "14     deleted noteworthy post west evil etc made isl...   \n",
       "15     funny anyway suppose fact israel didnot attack...   \n",
       "16     zionist decided zion must gentile rein mean te...   \n",
       "17     henrik country turk azeri consistantly want dr...   \n",
       "18                              kind ranking system used   \n",
       "19     forgive inaccuracy deleted original post perso...   \n",
       "20     deposition vitaly nikolayevich danielian born ...   \n",
       "21     give u right keep new york home united nation ...   \n",
       "22     well let delve one level deeper democracy bett...   \n",
       "23     completely misunderstood opposed intervention ...   \n",
       "24     reflection bosnia lord owen serb early februar...   \n",
       "25     bm gimme break capital letter pure nonsense bm...   \n",
       "26     mind compulsive liar work scenario genocide st...   \n",
       "27                                                stupid   \n",
       "28     ah fire armed folk nasty habit firing back sim...   \n",
       "29     else expect israel trying portray great democr...   \n",
       "...                                                  ...   \n",
       "19968  belief theory theory make prediction falsi fia...   \n",
       "19969  live colorado never heard group obviously clai...   \n",
       "19970  make interesting claim challenging mind could ...   \n",
       "19971  let u explore interesting paragraph point poin...   \n",
       "19972  faith intelligence tell druggie break house ni...   \n",
       "19973  deletion since drivel also crossposted alt ath...   \n",
       "19974  well thread started discussion sabin evolved e...   \n",
       "19975  huh kind shotgun blast deserves either elabora...   \n",
       "19976  mean find ridiculous price rest u supposed con...   \n",
       "19977  replace stephen david joslin since directed r ...   \n",
       "19978  article apr gn ecn purdue edu mechalas gn ecn ...   \n",
       "19979  sound like modifying definition christian anyo...   \n",
       "19980  two commandment rule merely rule vague practic...   \n",
       "19981  fbi say one survivor say set fire given claim ...   \n",
       "19982  afraid much worse jesus said follow ten comman...   \n",
       "19983  able prove morality objective would correct pr...   \n",
       "19984  greatly need jurgen moltmann book god creation...   \n",
       "19985  marian catholic high school outside chicago so...   \n",
       "19986                                          cockroach   \n",
       "19987  ahhhh see mean example value objective existen...   \n",
       "19988  make see poll recently religious adultery news...   \n",
       "19989  qlapk v morrow stanford edu salem pangea stanf...   \n",
       "19990  see camel nose willing take chance winning who...   \n",
       "19991  apr abortion private pa recently gender inequi...   \n",
       "19992  yes one particular goal land man moon put comm...   \n",
       "19993  fbi claim basis intelligence report bd plan co...   \n",
       "19994  patrick brosnan patb bnr co uk mcsun ukc stc p...   \n",
       "19995  guess news reader deleted line th amendment de...   \n",
       "19996  would someone named dennis stuck paying aborti...   \n",
       "19997  point maybe example argue even true necessaril...   \n",
       "\n",
       "                       class  \n",
       "0      talk.politics.mideast  \n",
       "1      talk.politics.mideast  \n",
       "2      talk.politics.mideast  \n",
       "3      talk.politics.mideast  \n",
       "4      talk.politics.mideast  \n",
       "5      talk.politics.mideast  \n",
       "6      talk.politics.mideast  \n",
       "7      talk.politics.mideast  \n",
       "8      talk.politics.mideast  \n",
       "9      talk.politics.mideast  \n",
       "10     talk.politics.mideast  \n",
       "11     talk.politics.mideast  \n",
       "12     talk.politics.mideast  \n",
       "13     talk.politics.mideast  \n",
       "14     talk.politics.mideast  \n",
       "15     talk.politics.mideast  \n",
       "16     talk.politics.mideast  \n",
       "17     talk.politics.mideast  \n",
       "18     talk.politics.mideast  \n",
       "19     talk.politics.mideast  \n",
       "20     talk.politics.mideast  \n",
       "21     talk.politics.mideast  \n",
       "22     talk.politics.mideast  \n",
       "23     talk.politics.mideast  \n",
       "24     talk.politics.mideast  \n",
       "25     talk.politics.mideast  \n",
       "26     talk.politics.mideast  \n",
       "27     talk.politics.mideast  \n",
       "28     talk.politics.mideast  \n",
       "29     talk.politics.mideast  \n",
       "...                      ...  \n",
       "19968     talk.religion.misc  \n",
       "19969     talk.religion.misc  \n",
       "19970     talk.religion.misc  \n",
       "19971     talk.religion.misc  \n",
       "19972     talk.religion.misc  \n",
       "19973     talk.religion.misc  \n",
       "19974     talk.religion.misc  \n",
       "19975     talk.religion.misc  \n",
       "19976     talk.religion.misc  \n",
       "19977     talk.religion.misc  \n",
       "19978     talk.religion.misc  \n",
       "19979     talk.religion.misc  \n",
       "19980     talk.religion.misc  \n",
       "19981     talk.religion.misc  \n",
       "19982     talk.religion.misc  \n",
       "19983     talk.religion.misc  \n",
       "19984     talk.religion.misc  \n",
       "19985     talk.religion.misc  \n",
       "19986     talk.religion.misc  \n",
       "19987     talk.religion.misc  \n",
       "19988     talk.religion.misc  \n",
       "19989     talk.religion.misc  \n",
       "19990     talk.religion.misc  \n",
       "19991     talk.religion.misc  \n",
       "19992     talk.religion.misc  \n",
       "19993     talk.religion.misc  \n",
       "19994     talk.religion.misc  \n",
       "19995     talk.religion.misc  \n",
       "19996     talk.religion.misc  \n",
       "19997     talk.religion.misc  \n",
       "\n",
       "[19998 rows x 2 columns]"
      ]
     },
     "execution_count": 37,
     "metadata": {},
     "output_type": "execute_result"
    }
   ],
   "source": [
    "df_lemmatization = transform_dict_to_dataframe(files_dict_lemmatization)\n",
    "df_lemmatization"
   ]
  },
  {
   "cell_type": "code",
   "execution_count": 38,
   "metadata": {
    "ExecuteTime": {
     "end_time": "2019-03-01T22:42:51.166163Z",
     "start_time": "2019-03-01T22:42:51.120364Z"
    }
   },
   "outputs": [
    {
     "data": {
      "text/html": [
       "<div>\n",
       "<style scoped>\n",
       "    .dataframe tbody tr th:only-of-type {\n",
       "        vertical-align: middle;\n",
       "    }\n",
       "\n",
       "    .dataframe tbody tr th {\n",
       "        vertical-align: top;\n",
       "    }\n",
       "\n",
       "    .dataframe thead th {\n",
       "        text-align: right;\n",
       "    }\n",
       "</style>\n",
       "<table border=\"1\" class=\"dataframe\">\n",
       "  <thead>\n",
       "    <tr style=\"text-align: right;\">\n",
       "      <th></th>\n",
       "      <th>document</th>\n",
       "      <th>class</th>\n",
       "    </tr>\n",
       "  </thead>\n",
       "  <tbody>\n",
       "    <tr>\n",
       "      <th>count</th>\n",
       "      <td>19998</td>\n",
       "      <td>19998</td>\n",
       "    </tr>\n",
       "    <tr>\n",
       "      <th>unique</th>\n",
       "      <td>19216</td>\n",
       "      <td>20</td>\n",
       "    </tr>\n",
       "    <tr>\n",
       "      <th>top</th>\n",
       "      <td></td>\n",
       "      <td>alt.atheism</td>\n",
       "    </tr>\n",
       "    <tr>\n",
       "      <th>freq</th>\n",
       "      <td>92</td>\n",
       "      <td>1001</td>\n",
       "    </tr>\n",
       "  </tbody>\n",
       "</table>\n",
       "</div>"
      ],
      "text/plain": [
       "       document        class\n",
       "count     19998        19998\n",
       "unique    19216           20\n",
       "top              alt.atheism\n",
       "freq         92         1001"
      ]
     },
     "execution_count": 38,
     "metadata": {},
     "output_type": "execute_result"
    }
   ],
   "source": [
    "df_lemmatization.describe()"
   ]
  },
  {
   "cell_type": "markdown",
   "metadata": {
    "ExecuteTime": {
     "end_time": "2019-02-15T14:02:10.735289Z",
     "start_time": "2019-02-15T14:02:10.731959Z"
    }
   },
   "source": [
    "## Split into training and test"
   ]
  },
  {
   "cell_type": "code",
   "execution_count": 39,
   "metadata": {
    "ExecuteTime": {
     "end_time": "2019-03-01T22:42:51.176769Z",
     "start_time": "2019-03-01T22:42:51.168273Z"
    }
   },
   "outputs": [
    {
     "data": {
      "text/plain": [
       "array(['talk.politics.mideast', 'rec.autos', 'comp.sys.mac.hardware',\n",
       "       'alt.atheism', 'rec.sport.baseball', 'comp.os.ms-windows.misc',\n",
       "       'rec.sport.hockey', 'sci.crypt', 'sci.med', 'talk.politics.misc',\n",
       "       'rec.motorcycles', 'comp.windows.x', 'comp.graphics',\n",
       "       'comp.sys.ibm.pc.hardware', 'sci.electronics',\n",
       "       'talk.politics.guns', 'sci.space', 'soc.religion.christian',\n",
       "       'misc.forsale', 'talk.religion.misc'], dtype=object)"
      ]
     },
     "execution_count": 39,
     "metadata": {},
     "output_type": "execute_result"
    }
   ],
   "source": [
    "class_labels = pd.Series(df_stemming['class']).unique()\n",
    "class_labels"
   ]
  },
  {
   "cell_type": "code",
   "execution_count": 40,
   "metadata": {
    "ExecuteTime": {
     "end_time": "2019-03-01T22:42:51.183771Z",
     "start_time": "2019-03-01T22:42:51.179524Z"
    }
   },
   "outputs": [],
   "source": [
    "from sklearn.model_selection import train_test_split"
   ]
  },
  {
   "cell_type": "markdown",
   "metadata": {},
   "source": [
    "### Stemming"
   ]
  },
  {
   "cell_type": "code",
   "execution_count": 41,
   "metadata": {
    "ExecuteTime": {
     "end_time": "2019-03-01T22:42:51.197456Z",
     "start_time": "2019-03-01T22:42:51.185675Z"
    }
   },
   "outputs": [],
   "source": [
    "X_train_stemm, X_test_stemm, y_train_stemm, y_test_stemm = train_test_split(\n",
    "    df_stemming['document'], df_stemming['class'], test_size=0.3, random_state=42)"
   ]
  },
  {
   "cell_type": "markdown",
   "metadata": {},
   "source": [
    "### Lemmatization"
   ]
  },
  {
   "cell_type": "code",
   "execution_count": 42,
   "metadata": {
    "ExecuteTime": {
     "end_time": "2019-03-01T22:42:51.209507Z",
     "start_time": "2019-03-01T22:42:51.200406Z"
    }
   },
   "outputs": [],
   "source": [
    "X_train_lemm, X_test_lemm, y_train_lemm, y_test_lemm = train_test_split(\n",
    "    df_lemmatization['document'], df_lemmatization['class'], test_size=0.3, random_state=42)"
   ]
  },
  {
   "cell_type": "markdown",
   "metadata": {},
   "source": [
    "## Transform the documents from text to vectors using TF IDF"
   ]
  },
  {
   "cell_type": "code",
   "execution_count": 43,
   "metadata": {
    "ExecuteTime": {
     "end_time": "2019-03-01T22:42:51.216097Z",
     "start_time": "2019-03-01T22:42:51.211571Z"
    }
   },
   "outputs": [],
   "source": [
    "from sklearn.feature_extraction.text import TfidfVectorizer\n",
    "\n",
    "tfidf_vectorizer_stemm = TfidfVectorizer()\n",
    "tfidf_vectorizer_lemm = TfidfVectorizer()"
   ]
  },
  {
   "cell_type": "markdown",
   "metadata": {},
   "source": [
    "### Stemming"
   ]
  },
  {
   "cell_type": "code",
   "execution_count": 44,
   "metadata": {
    "ExecuteTime": {
     "end_time": "2019-03-01T22:42:53.104731Z",
     "start_time": "2019-03-01T22:42:51.218760Z"
    }
   },
   "outputs": [],
   "source": [
    "# Learn vocabulary and idf from training set and return term-document matrix\n",
    "vectors_train_stemm = tfidf_vectorizer_stemm.fit_transform(X_train_stemm)\n",
    "# Transform documents to document-term matrix.\n",
    "vectors_test_stemm = tfidf_vectorizer_stemm.transform(X_test_stemm)"
   ]
  },
  {
   "cell_type": "code",
   "execution_count": 45,
   "metadata": {
    "ExecuteTime": {
     "end_time": "2019-03-01T22:42:53.111733Z",
     "start_time": "2019-03-01T22:42:53.106623Z"
    }
   },
   "outputs": [
    {
     "data": {
      "text/plain": [
       "(13998, 63957)"
      ]
     },
     "execution_count": 45,
     "metadata": {},
     "output_type": "execute_result"
    }
   ],
   "source": [
    "vectors_train_stemm.shape"
   ]
  },
  {
   "cell_type": "markdown",
   "metadata": {},
   "source": [
    "### Lemmatization"
   ]
  },
  {
   "cell_type": "code",
   "execution_count": 46,
   "metadata": {
    "ExecuteTime": {
     "end_time": "2019-03-01T22:42:55.049823Z",
     "start_time": "2019-03-01T22:42:53.114535Z"
    }
   },
   "outputs": [],
   "source": [
    "# Learn vocabulary and idf from training set and return term-document matrix\n",
    "vectors_train_lemm = tfidf_vectorizer_lemm.fit_transform(X_train_lemm)\n",
    "# Transform documents to document-term matrix.\n",
    "vectors_test_lemm = tfidf_vectorizer_lemm.transform(X_test_lemm)"
   ]
  },
  {
   "cell_type": "code",
   "execution_count": 47,
   "metadata": {
    "ExecuteTime": {
     "end_time": "2019-03-01T22:42:55.057154Z",
     "start_time": "2019-03-01T22:42:55.051923Z"
    }
   },
   "outputs": [
    {
     "data": {
      "text/plain": [
       "(13998, 77196)"
      ]
     },
     "execution_count": 47,
     "metadata": {},
     "output_type": "execute_result"
    }
   ],
   "source": [
    "vectors_train_lemm.shape"
   ]
  },
  {
   "cell_type": "markdown",
   "metadata": {
    "ExecuteTime": {
     "end_time": "2019-02-15T14:26:52.373884Z",
     "start_time": "2019-02-15T14:26:52.370872Z"
    }
   },
   "source": [
    "## Train a Naive Bayes model"
   ]
  },
  {
   "cell_type": "code",
   "execution_count": 48,
   "metadata": {
    "ExecuteTime": {
     "end_time": "2019-03-01T22:42:55.063859Z",
     "start_time": "2019-03-01T22:42:55.059091Z"
    }
   },
   "outputs": [],
   "source": [
    "from sklearn.naive_bayes import MultinomialNB\n",
    "from sklearn.metrics import classification_report, confusion_matrix, accuracy_score, f1_score"
   ]
  },
  {
   "cell_type": "markdown",
   "metadata": {},
   "source": [
    "### Stemming"
   ]
  },
  {
   "cell_type": "code",
   "execution_count": 49,
   "metadata": {
    "ExecuteTime": {
     "end_time": "2019-03-01T22:42:55.175537Z",
     "start_time": "2019-03-01T22:42:55.066097Z"
    }
   },
   "outputs": [
    {
     "data": {
      "text/plain": [
       "MultinomialNB(alpha=0.01, class_prior=None, fit_prior=True)"
      ]
     },
     "execution_count": 49,
     "metadata": {},
     "output_type": "execute_result"
    }
   ],
   "source": [
    "nb_clf_stemm = MultinomialNB(alpha=0.01)\n",
    "nb_clf_stemm.fit(vectors_train_stemm, y_train_stemm)"
   ]
  },
  {
   "cell_type": "markdown",
   "metadata": {},
   "source": [
    "#### Evaluate it's performance on the testing set"
   ]
  },
  {
   "cell_type": "code",
   "execution_count": 50,
   "metadata": {
    "ExecuteTime": {
     "end_time": "2019-03-01T22:42:55.183872Z",
     "start_time": "2019-03-01T22:42:55.177813Z"
    }
   },
   "outputs": [],
   "source": [
    "def evaluate_model(model, vectors_test, y_test, class_labels=class_labels):\n",
    "    \"\"\"\n",
    "    Prints the accuracy, the F1 score, the classification report and \n",
    "    the confusion matrix of the passed model on the training set.\n",
    "    \"\"\"\n",
    "    predictions = model.predict(vectors_test)\n",
    "    print('Accuracy:', accuracy_score(y_test, predictions))\n",
    "    print('F1 score:', f1_score(y_test, predictions, average='macro'))\n",
    "    print()\n",
    "    print('Classification report\\n_____________________')\n",
    "    print(classification_report(y_test, predictions, target_names=class_labels))\n",
    "    print(\"Confusion matrix\\n__________________\")\n",
    "    print(confusion_matrix(y_test, predictions))"
   ]
  },
  {
   "cell_type": "code",
   "execution_count": 51,
   "metadata": {
    "ExecuteTime": {
     "end_time": "2019-03-01T22:42:55.311817Z",
     "start_time": "2019-03-01T22:42:55.187057Z"
    }
   },
   "outputs": [
    {
     "name": "stdout",
     "output_type": "stream",
     "text": [
      "Accuracy: 0.7255\n",
      "F1 score: 0.7243677176983817\n",
      "\n",
      "Classification report\n",
      "_____________________\n",
      "                          precision    recall  f1-score   support\n",
      "\n",
      "   talk.politics.mideast       0.55      0.54      0.54       304\n",
      "               rec.autos       0.68      0.70      0.69       307\n",
      "   comp.sys.mac.hardware       0.68      0.68      0.68       293\n",
      "             alt.atheism       0.68      0.66      0.67       328\n",
      "      rec.sport.baseball       0.75      0.72      0.74       320\n",
      " comp.os.ms-windows.misc       0.84      0.83      0.83       308\n",
      "        rec.sport.hockey       0.73      0.64      0.68       290\n",
      "               sci.crypt       0.77      0.78      0.78       290\n",
      "                 sci.med       0.82      0.77      0.79       287\n",
      "      talk.politics.misc       0.92      0.92      0.92       297\n",
      "         rec.motorcycles       0.93      0.90      0.92       302\n",
      "          comp.windows.x       0.82      0.83      0.82       309\n",
      "           comp.graphics       0.77      0.69      0.73       302\n",
      "comp.sys.ibm.pc.hardware       0.88      0.83      0.85       310\n",
      "         sci.electronics       0.79      0.80      0.80       287\n",
      "      talk.politics.guns       0.71      0.83      0.76       289\n",
      "               sci.space       0.60      0.73      0.66       304\n",
      "  soc.religion.christian       0.74      0.85      0.79       275\n",
      "            misc.forsale       0.48      0.56      0.52       298\n",
      "      talk.religion.misc       0.37      0.27      0.31       300\n",
      "\n",
      "               micro avg       0.73      0.73      0.73      6000\n",
      "               macro avg       0.73      0.73      0.72      6000\n",
      "            weighted avg       0.73      0.73      0.72      6000\n",
      "\n",
      "Confusion matrix\n",
      "__________________\n",
      "[[163   1   0   0   0   3   2   3   3   2   0   1   1   2   1  24   6   8\n",
      "   11  73]\n",
      " [  2 215  18  15   8  18   2   1   0   2   1   9   6   0   7   0   0   2\n",
      "    1   0]\n",
      " [  2  21 198  24  14  13   4   0   2   0   0   6   1   1   1   0   0   3\n",
      "    3   0]\n",
      " [  0  10  34 217  27   6  12   1   0   0   1   0  12   0   2   1   2   3\n",
      "    0   0]\n",
      " [  2  11   7  23 232   3   9   4   2   0   0   2   9   3   6   1   1   4\n",
      "    0   1]\n",
      " [  0  23  13   2   3 255   0   1   0   0   0   3   2   1   2   0   0   3\n",
      "    0   0]\n",
      " [  0   3   7  22  13   1 185  16   2   1   1   3  14   1   8   0   1   7\n",
      "    4   1]\n",
      " [  1   2   0   1   2   0   6 226  21   2   0   3   6   1   2   1   3   1\n",
      "   10   2]\n",
      " [  2   1   0   1   2   1   8  18 221   6   3   1   2   2   0   4   5   2\n",
      "    7   1]\n",
      " [  2   1   0   1   0   1   1   0   1 272   5   3   0   1   0   1   2   4\n",
      "    2   0]\n",
      " [  2   0   2   0   1   0   1   2   2   6 272   2   1   4   1   1   0   1\n",
      "    4   0]\n",
      " [  1   3   2   1   1   2   0   2   0   1   2 255   1   1   2   2   8   4\n",
      "   16   5]\n",
      " [  0  12   6  11   4   1  16   7   3   1   1  10 209   5   6   1   4   2\n",
      "    3   0]\n",
      " [  8   7   0   1   0   0   0   2   2   0   1   0   6 257   9   0   4   6\n",
      "    6   1]\n",
      " [  7   5   1   0   1   0   4   4   3   0   0   1   0   6 231   0   8   3\n",
      "   10   3]\n",
      " [ 16   0   1   0   0   0   1   0   0   1   0   0   0   1   2 240   6   1\n",
      "    4  16]\n",
      " [  1   0   0   1   0   0   1   1   1   2   1   4   2   1   4   2 221   4\n",
      "   46  12]\n",
      " [  9   0   1   0   0   0   0   0   2   0   2   2   0   0   0   7   2 234\n",
      "   16   0]\n",
      " [  9   1   0   0   0   0   1   3   3   1   1   2   0   3   2   6  54  17\n",
      "  168  27]\n",
      " [ 70   1   1   0   0   1   0   1   2   0   0   3   1   3   5  48  39   7\n",
      "   36  82]]\n"
     ]
    }
   ],
   "source": [
    "evaluate_model(nb_clf_stemm, vectors_test_stemm, y_test_stemm)"
   ]
  },
  {
   "cell_type": "markdown",
   "metadata": {
    "ExecuteTime": {
     "end_time": "2019-02-15T15:03:44.749985Z",
     "start_time": "2019-02-15T15:03:44.747200Z"
    },
    "heading_collapsed": true
   },
   "source": [
    "#### Check predictions in other texts"
   ]
  },
  {
   "cell_type": "code",
   "execution_count": 52,
   "metadata": {
    "ExecuteTime": {
     "end_time": "2019-03-01T22:42:55.324516Z",
     "start_time": "2019-03-01T22:42:55.317416Z"
    },
    "hidden": true
   },
   "outputs": [],
   "source": [
    "def predict_class(model, tfidf_vectorizer, text):\n",
    "    \"\"\"\n",
    "    Returns the predicted class of the given text.\n",
    "\n",
    "    Parameters\n",
    "    ----------\n",
    "    text : string\n",
    "        The text whose class is going to be predicted.\n",
    "    \"\"\"\n",
    "    preprocessed_text = stem_words(to_lowercase_and_remove_stopwords(text))\n",
    "    return model.predict(tfidf_vectorizer.transform([preprocessed_text]))[0]"
   ]
  },
  {
   "cell_type": "code",
   "execution_count": 53,
   "metadata": {
    "ExecuteTime": {
     "end_time": "2019-03-01T22:42:55.336001Z",
     "start_time": "2019-03-01T22:42:55.326201Z"
    },
    "hidden": true
   },
   "outputs": [
    {
     "data": {
      "text/plain": [
       "'rec.autos'"
      ]
     },
     "execution_count": 53,
     "metadata": {},
     "output_type": "execute_result"
    }
   ],
   "source": [
    "predict_class(nb_clf_stemm, tfidf_vectorizer_stemm, \"Citroen saxo\") # Well classified"
   ]
  },
  {
   "cell_type": "code",
   "execution_count": 54,
   "metadata": {
    "ExecuteTime": {
     "end_time": "2019-03-01T22:42:55.348319Z",
     "start_time": "2019-03-01T22:42:55.338333Z"
    },
    "hidden": true
   },
   "outputs": [
    {
     "data": {
      "text/plain": [
       "'rec.motorcycles'"
      ]
     },
     "execution_count": 54,
     "metadata": {},
     "output_type": "execute_result"
    }
   ],
   "source": [
    "predict_class(nb_clf_stemm, tfidf_vectorizer_stemm, \"Kawasaki\") # Well classified"
   ]
  },
  {
   "cell_type": "code",
   "execution_count": 55,
   "metadata": {
    "ExecuteTime": {
     "end_time": "2019-03-01T22:42:55.360897Z",
     "start_time": "2019-03-01T22:42:55.350532Z"
    },
    "hidden": true
   },
   "outputs": [
    {
     "data": {
      "text/plain": [
       "'comp.os.ms-windows.misc'"
      ]
     },
     "execution_count": 55,
     "metadata": {},
     "output_type": "execute_result"
    }
   ],
   "source": [
    "predict_class(nb_clf_stemm, tfidf_vectorizer_stemm, \"Macbook Pro\") # Bad classified"
   ]
  },
  {
   "cell_type": "code",
   "execution_count": 56,
   "metadata": {
    "ExecuteTime": {
     "end_time": "2019-03-01T22:42:55.373890Z",
     "start_time": "2019-03-01T22:42:55.362921Z"
    },
    "hidden": true
   },
   "outputs": [
    {
     "data": {
      "text/plain": [
       "'comp.os.ms-windows.misc'"
      ]
     },
     "execution_count": 56,
     "metadata": {},
     "output_type": "execute_result"
    }
   ],
   "source": [
    "predict_class(nb_clf_stemm, tfidf_vectorizer_stemm, \"Windows 10\") # Well classified"
   ]
  },
  {
   "cell_type": "code",
   "execution_count": 57,
   "metadata": {
    "ExecuteTime": {
     "end_time": "2019-03-01T22:42:55.388470Z",
     "start_time": "2019-03-01T22:42:55.376962Z"
    },
    "hidden": true
   },
   "outputs": [
    {
     "data": {
      "text/plain": [
       "'sci.med'"
      ]
     },
     "execution_count": 57,
     "metadata": {},
     "output_type": "execute_result"
    }
   ],
   "source": [
    "predict_class(nb_clf_stemm, tfidf_vectorizer_stemm,\n",
    "    \"Penicillin (PCN or pen) is a group of antibiotics which include penicillin G (intravenous use)\"\n",
    "    \", penicillin V (use by mouth), procaine penicillin, and benzathine penicillin (intramuscular use). \"\n",
    "    \"Penicillin antibiotics were among the first medications to be effective against many bacterial infections \"\n",
    "    \"caused by staphylococci and streptococci. They are still widely used today, though many types of bacteria \"\n",
    "    \"have developed resistance following extensive use.\") # Well classified"
   ]
  },
  {
   "cell_type": "code",
   "execution_count": 58,
   "metadata": {
    "ExecuteTime": {
     "end_time": "2019-03-01T22:42:55.401394Z",
     "start_time": "2019-03-01T22:42:55.390569Z"
    },
    "hidden": true
   },
   "outputs": [
    {
     "data": {
      "text/plain": [
       "'talk.politics.guns'"
      ]
     },
     "execution_count": 58,
     "metadata": {},
     "output_type": "execute_result"
    }
   ],
   "source": [
    "predict_class(nb_clf_stemm, tfidf_vectorizer_stemm, \"It's easy to get killed in the USA.\") # Well classified"
   ]
  },
  {
   "cell_type": "code",
   "execution_count": 59,
   "metadata": {
    "ExecuteTime": {
     "end_time": "2019-03-01T22:42:55.419492Z",
     "start_time": "2019-03-01T22:42:55.403976Z"
    },
    "hidden": true
   },
   "outputs": [
    {
     "data": {
      "text/plain": [
       "'talk.politics.guns'"
      ]
     },
     "execution_count": 59,
     "metadata": {},
     "output_type": "execute_result"
    }
   ],
   "source": [
    "predict_class(nb_clf_stemm, tfidf_vectorizer_stemm,\n",
    "    \"In the days after the Marjory Stoneman Douglas High School massacre, President Trump expressed support \"\n",
    "    \"for universal background checks and raising the age to buy an assault weapon to 21. He even seemed to \"\n",
    "    \"entertain a ban on assault weapons.\\n\\n\"\n",
    "    \n",
    "    \"A year later, on the anniversary of that wrenching tragedy, when 14 students and three faculty members \"\n",
    "    \"lost their lives in Parkland, Fla., the White House released a lengthy statement from Trump offering \"\n",
    "    \"his condolences and listing the ways his administration had “made tremendous strides” in protecting \"\n",
    "    \"students from school violence.\\n\\n\"\n",
    "    \n",
    "    \"Missing from that list is anything to address gun violence, except for his administration’s ban on bump \"\n",
    "    \"stocks, a device that attaches to firearms to make them trigger faster. The only direct reference to gun \"\n",
    "    \"violence comes at the end of his statement: “Melania and I join all Americans in praying for the continued \"\n",
    "    \"healing of those in the Parkland community and all communities where lives have been lost to gun violence.\\n\\n\"\n",
    "    \n",
    "    \"Except hours later, in the image Trump tweeted out about his statement, he changed the reference from 'gun \"\n",
    "    \"violence' to 'school violence', a bizarre and telling tweak.\") # Well classified"
   ]
  },
  {
   "cell_type": "markdown",
   "metadata": {},
   "source": [
    "### Lemmatization"
   ]
  },
  {
   "cell_type": "code",
   "execution_count": 60,
   "metadata": {
    "ExecuteTime": {
     "end_time": "2019-03-01T22:42:55.539068Z",
     "start_time": "2019-03-01T22:42:55.422207Z"
    }
   },
   "outputs": [
    {
     "data": {
      "text/plain": [
       "MultinomialNB(alpha=0.01, class_prior=None, fit_prior=True)"
      ]
     },
     "execution_count": 60,
     "metadata": {},
     "output_type": "execute_result"
    }
   ],
   "source": [
    "nb_clf_lemm = MultinomialNB(alpha=0.01)\n",
    "nb_clf_lemm.fit(vectors_train_lemm, y_train_lemm)"
   ]
  },
  {
   "cell_type": "markdown",
   "metadata": {},
   "source": [
    "#### Evaluate it's performance on the testing set"
   ]
  },
  {
   "cell_type": "code",
   "execution_count": 61,
   "metadata": {
    "ExecuteTime": {
     "end_time": "2019-03-01T22:42:55.671073Z",
     "start_time": "2019-03-01T22:42:55.541549Z"
    }
   },
   "outputs": [
    {
     "name": "stdout",
     "output_type": "stream",
     "text": [
      "Accuracy: 0.7286666666666667\n",
      "F1 score: 0.7276761900361011\n",
      "\n",
      "Classification report\n",
      "_____________________\n",
      "                          precision    recall  f1-score   support\n",
      "\n",
      "   talk.politics.mideast       0.55      0.54      0.55       304\n",
      "               rec.autos       0.68      0.70      0.69       307\n",
      "   comp.sys.mac.hardware       0.67      0.66      0.66       293\n",
      "             alt.atheism       0.69      0.67      0.68       328\n",
      "      rec.sport.baseball       0.78      0.74      0.76       320\n",
      " comp.os.ms-windows.misc       0.82      0.85      0.83       308\n",
      "        rec.sport.hockey       0.74      0.65      0.69       290\n",
      "               sci.crypt       0.77      0.77      0.77       290\n",
      "                 sci.med       0.80      0.76      0.78       287\n",
      "      talk.politics.misc       0.93      0.92      0.92       297\n",
      "         rec.motorcycles       0.93      0.90      0.92       302\n",
      "          comp.windows.x       0.83      0.83      0.83       309\n",
      "           comp.graphics       0.73      0.68      0.71       302\n",
      "comp.sys.ibm.pc.hardware       0.88      0.82      0.85       310\n",
      "         sci.electronics       0.82      0.82      0.82       287\n",
      "      talk.politics.guns       0.74      0.84      0.78       289\n",
      "               sci.space       0.63      0.72      0.67       304\n",
      "  soc.religion.christian       0.74      0.85      0.79       275\n",
      "            misc.forsale       0.48      0.57      0.52       298\n",
      "      talk.religion.misc       0.38      0.29      0.33       300\n",
      "\n",
      "               micro avg       0.73      0.73      0.73      6000\n",
      "               macro avg       0.73      0.73      0.73      6000\n",
      "            weighted avg       0.73      0.73      0.73      6000\n",
      "\n",
      "Confusion matrix\n",
      "__________________\n",
      "[[165   1   0   0   1   1   0   4   3   1   0   1   2   1   3  20   6  12\n",
      "    9  74]\n",
      " [  3 216  16  14   7  19   2   1   0   0   1  11   5   1   7   0   0   3\n",
      "    1   0]\n",
      " [  2  21 192  26  12  18   4   1   3   0   0   4   1   1   1   0   0   3\n",
      "    4   0]\n",
      " [  0  11  35 220  23   4  14   1   0   0   1   0  14   0   0   0   1   3\n",
      "    1   0]\n",
      " [  2  11   7  20 238   4   8   3   2   0   0   3  12   3   3   0   0   4\n",
      "    0   0]\n",
      " [  0  20  10   2   2 262   1   0   0   0   0   2   3   1   1   0   0   3\n",
      "    0   1]\n",
      " [  0   3   7  20  13   2 189  16   2   1   2   3  16   1   3   0   1   7\n",
      "    4   0]\n",
      " [  3   2   0   0   3   1   8 223  22   1   1   2   5   2   2   0   4   1\n",
      "    9   1]\n",
      " [  1   2   0   2   1   1   6  18 219   5   2   1   2   2   2   5   4   2\n",
      "   10   2]\n",
      " [  3   1   0   0   0   1   1   0   3 272   5   1   0   1   0   2   1   4\n",
      "    2   0]\n",
      " [  2   0   2   0   1   0   0   2   4   5 273   1   2   3   1   1   1   0\n",
      "    4   0]\n",
      " [  2   4   4   0   0   3   0   1   0   1   3 256   1   1   2   1  10   3\n",
      "   15   2]\n",
      " [  0  11   8  13   4   2  16   7   5   1   1   8 205   4   7   1   3   2\n",
      "    3   1]\n",
      " [  6   8   0   1   0   1   0   4   3   0   0   0   5 255   8   0   3   5\n",
      "    9   2]\n",
      " [  4   6   2   0   1   0   3   2   3   0   1   2   2   6 235   0   6   2\n",
      "    8   4]\n",
      " [ 17   0   0   0   1   0   0   1   0   0   1   1   0   1   1 242   6   3\n",
      "    4  11]\n",
      " [  4   0   0   1   0   0   1   2   1   3   0   6   3   1   2   2 219   2\n",
      "   45  12]\n",
      " [  5   1   1   0   0   1   0   0   1   1   1   2   0   1   0   8   1 235\n",
      "   14   3]\n",
      " [  8   1   0   0   0   0   1   3   3   2   2   2   0   3   3   4  50  17\n",
      "  169  30]\n",
      " [ 71   1   1   0   0   1   1   0   0   1   0   2   1   3   4  43  34   6\n",
      "   44  87]]\n"
     ]
    }
   ],
   "source": [
    "evaluate_model(nb_clf_lemm, vectors_test_lemm, y_test_lemm)"
   ]
  },
  {
   "cell_type": "markdown",
   "metadata": {
    "ExecuteTime": {
     "end_time": "2019-02-18T07:34:24.513274Z",
     "start_time": "2019-02-18T07:34:24.510647Z"
    }
   },
   "source": [
    "## Train a SVM model"
   ]
  },
  {
   "cell_type": "code",
   "execution_count": 62,
   "metadata": {
    "ExecuteTime": {
     "end_time": "2019-03-01T22:42:55.676885Z",
     "start_time": "2019-03-01T22:42:55.673513Z"
    }
   },
   "outputs": [],
   "source": [
    "from sklearn.svm import LinearSVC"
   ]
  },
  {
   "cell_type": "markdown",
   "metadata": {},
   "source": [
    "### Stemming"
   ]
  },
  {
   "cell_type": "code",
   "execution_count": 63,
   "metadata": {
    "ExecuteTime": {
     "end_time": "2019-03-01T22:42:57.021190Z",
     "start_time": "2019-03-01T22:42:55.697395Z"
    }
   },
   "outputs": [
    {
     "data": {
      "text/plain": [
       "LinearSVC(C=1.0, class_weight=None, dual=True, fit_intercept=True,\n",
       "     intercept_scaling=1, loss='squared_hinge', max_iter=1000,\n",
       "     multi_class='ovr', penalty='l2', random_state=42, tol=0.0001,\n",
       "     verbose=0)"
      ]
     },
     "execution_count": 63,
     "metadata": {},
     "output_type": "execute_result"
    }
   ],
   "source": [
    "svm_clf_stemm = LinearSVC(random_state=42)\n",
    "svm_clf_stemm.fit(vectors_train_stemm, y_train_stemm)"
   ]
  },
  {
   "cell_type": "markdown",
   "metadata": {},
   "source": [
    "#### Evaluate it's performance on the testing set"
   ]
  },
  {
   "cell_type": "code",
   "execution_count": 64,
   "metadata": {
    "ExecuteTime": {
     "end_time": "2019-03-01T22:42:57.181438Z",
     "start_time": "2019-03-01T22:42:57.029947Z"
    }
   },
   "outputs": [
    {
     "name": "stdout",
     "output_type": "stream",
     "text": [
      "Accuracy: 0.7168333333333333\n",
      "F1 score: 0.715539870200006\n",
      "\n",
      "Classification report\n",
      "_____________________\n",
      "                          precision    recall  f1-score   support\n",
      "\n",
      "   talk.politics.mideast       0.55      0.52      0.53       304\n",
      "               rec.autos       0.70      0.70      0.70       307\n",
      "   comp.sys.mac.hardware       0.69      0.72      0.70       293\n",
      "             alt.atheism       0.69      0.66      0.67       328\n",
      "      rec.sport.baseball       0.76      0.72      0.74       320\n",
      " comp.os.ms-windows.misc       0.81      0.82      0.82       308\n",
      "        rec.sport.hockey       0.71      0.73      0.72       290\n",
      "               sci.crypt       0.76      0.76      0.76       290\n",
      "                 sci.med       0.79      0.79      0.79       287\n",
      "      talk.politics.misc       0.78      0.91      0.84       297\n",
      "         rec.motorcycles       0.91      0.88      0.90       302\n",
      "          comp.windows.x       0.86      0.81      0.83       309\n",
      "           comp.graphics       0.72      0.69      0.70       302\n",
      "comp.sys.ibm.pc.hardware       0.79      0.81      0.80       310\n",
      "         sci.electronics       0.81      0.80      0.80       287\n",
      "      talk.politics.guns       0.73      0.82      0.77       289\n",
      "               sci.space       0.63      0.60      0.62       304\n",
      "  soc.religion.christian       0.79      0.82      0.81       275\n",
      "            misc.forsale       0.47      0.51      0.49       298\n",
      "      talk.religion.misc       0.34      0.29      0.31       300\n",
      "\n",
      "               micro avg       0.72      0.72      0.72      6000\n",
      "               macro avg       0.71      0.72      0.72      6000\n",
      "            weighted avg       0.71      0.72      0.71      6000\n",
      "\n",
      "Confusion matrix\n",
      "__________________\n",
      "[[157   0   0   0   0   0   2   2   6   5   1   4   1   6   3  21   7   6\n",
      "    7  76]\n",
      " [  1 215  19  10   6  22   2   1   0   2   2   4   8   6   6   0   0   2\n",
      "    0   1]\n",
      " [  1  12 211  24   8  10   8   0   1   3   1   1   3   3   1   0   1   2\n",
      "    3   0]\n",
      " [  0  14  26 217  23   4  13   4   2   5   0   1  15   1   0   1   0   1\n",
      "    1   0]\n",
      " [  2  10  12  24 229   3  10   3   6   5   1   0   8   2   2   2   0   1\n",
      "    0   0]\n",
      " [  0  17  17   4   1 253   1   1   1   2   3   2   1   0   3   1   0   1\n",
      "    0   0]\n",
      " [  0   3   6  10  10   2 213   9   3  10   0   1  12   0   4   2   1   2\n",
      "    1   1]\n",
      " [  2   2   2   3   3   4  12 220  14   1   0   1   5   2   1   1   5   1\n",
      "    9   2]\n",
      " [  1   2   2   3   0   2   6  16 227   5   1   2   0   3   4   3   1   1\n",
      "    2   6]\n",
      " [  2   2   0   0   0   3   1   4   2 271   6   2   0   0   0   1   2   1\n",
      "    0   0]\n",
      " [  3   1   0   0   1   0   3   2   1  12 266   2   1   2   2   1   0   0\n",
      "    5   0]\n",
      " [  1   5   1   3   3   2   2   4   2   3   1 249   4   2   2   1   7   0\n",
      "   12   5]\n",
      " [  1   6   5  13   8   1  16   7   4   3   2   6 209   9   4   0   0   3\n",
      "    3   2]\n",
      " [  3   7   0   2   2   1   2   5   0   3   1   1   6 250  11   2   4   3\n",
      "    6   1]\n",
      " [  8   5   2   0   1   1   3   7   2   4   0   1   7   7 230   0   3   1\n",
      "    3   2]\n",
      " [ 15   0   0   0   0   1   0   0   2   1   0   0   0   4   3 236   5   3\n",
      "    3  16]\n",
      " [  4   1   2   1   1   1   2   0   1   2   2   7   5   6   4   2 183   8\n",
      "   54  18]\n",
      " [  7   0   1   0   3   1   0   1   3   3   3   2   2   4   0   4   0 226\n",
      "   13   2]\n",
      " [  8   1   0   1   2   0   2   4   5   3   1   4   3   4   4   7  44  17\n",
      "  153  35]\n",
      " [ 68   3   0   0   0   1   0   1   5   5   0   0   2   6   1  40  26   6\n",
      "   50  86]]\n"
     ]
    }
   ],
   "source": [
    "evaluate_model(svm_clf_stemm, vectors_test_stemm, y_test_stemm)"
   ]
  },
  {
   "cell_type": "markdown",
   "metadata": {},
   "source": [
    "### Lemmatization"
   ]
  },
  {
   "cell_type": "code",
   "execution_count": 65,
   "metadata": {
    "ExecuteTime": {
     "end_time": "2019-03-01T22:42:58.597876Z",
     "start_time": "2019-03-01T22:42:57.183884Z"
    }
   },
   "outputs": [
    {
     "data": {
      "text/plain": [
       "LinearSVC(C=1.0, class_weight=None, dual=True, fit_intercept=True,\n",
       "     intercept_scaling=1, loss='squared_hinge', max_iter=1000,\n",
       "     multi_class='ovr', penalty='l2', random_state=42, tol=0.0001,\n",
       "     verbose=0)"
      ]
     },
     "execution_count": 65,
     "metadata": {},
     "output_type": "execute_result"
    }
   ],
   "source": [
    "svm_clf_lemm = LinearSVC(random_state=42)\n",
    "svm_clf_lemm.fit(vectors_train_lemm, y_train_lemm)"
   ]
  },
  {
   "cell_type": "markdown",
   "metadata": {},
   "source": [
    "#### Evaluate it's performance on the testing set"
   ]
  },
  {
   "cell_type": "code",
   "execution_count": 66,
   "metadata": {
    "ExecuteTime": {
     "end_time": "2019-03-01T22:42:58.743706Z",
     "start_time": "2019-03-01T22:42:58.600565Z"
    },
    "scrolled": false
   },
   "outputs": [
    {
     "name": "stdout",
     "output_type": "stream",
     "text": [
      "Accuracy: 0.7183333333333334\n",
      "F1 score: 0.7172916206868586\n",
      "\n",
      "Classification report\n",
      "_____________________\n",
      "                          precision    recall  f1-score   support\n",
      "\n",
      "   talk.politics.mideast       0.55      0.51      0.53       304\n",
      "               rec.autos       0.69      0.70      0.70       307\n",
      "   comp.sys.mac.hardware       0.66      0.73      0.70       293\n",
      "             alt.atheism       0.70      0.66      0.68       328\n",
      "      rec.sport.baseball       0.78      0.72      0.75       320\n",
      " comp.os.ms-windows.misc       0.79      0.82      0.81       308\n",
      "        rec.sport.hockey       0.74      0.76      0.75       290\n",
      "               sci.crypt       0.77      0.76      0.76       290\n",
      "                 sci.med       0.79      0.80      0.80       287\n",
      "      talk.politics.misc       0.76      0.90      0.82       297\n",
      "         rec.motorcycles       0.91      0.89      0.90       302\n",
      "          comp.windows.x       0.86      0.81      0.83       309\n",
      "           comp.graphics       0.72      0.71      0.71       302\n",
      "comp.sys.ibm.pc.hardware       0.83      0.82      0.83       310\n",
      "         sci.electronics       0.81      0.79      0.80       287\n",
      "      talk.politics.guns       0.75      0.79      0.77       289\n",
      "               sci.space       0.61      0.61      0.61       304\n",
      "  soc.religion.christian       0.78      0.83      0.80       275\n",
      "            misc.forsale       0.48      0.50      0.49       298\n",
      "      talk.religion.misc       0.35      0.31      0.33       300\n",
      "\n",
      "               micro avg       0.72      0.72      0.72      6000\n",
      "               macro avg       0.72      0.72      0.72      6000\n",
      "            weighted avg       0.72      0.72      0.72      6000\n",
      "\n",
      "Confusion matrix\n",
      "__________________\n",
      "[[155   1   0   1   1   0   2   2   5   4   1   3   2   6   3  18   4  11\n",
      "    3  82]\n",
      " [  1 215  19  11   4  22   2   0   1   4   1   7   6   5   7   0   0   1\n",
      "    0   1]\n",
      " [  1  15 215  20   7  10   7   0   1   3   0   2   2   3   1   1   1   2\n",
      "    2   0]\n",
      " [  0  12  32 215  21   5  13   4   2   4   0   2  14   1   0   1   0   1\n",
      "    1   0]\n",
      " [  2   8  13  23 230   4  11   3   4   5   1   0  10   2   2   1   0   1\n",
      "    0   0]\n",
      " [  0  18  16   4   2 252   1   1   1   2   1   2   2   1   3   1   0   1\n",
      "    0   0]\n",
      " [  0   3   6  10   8   2 220   9   3   9   0   0  11   0   5   2   1   0\n",
      "    1   0]\n",
      " [  1   1   2   1   4   6  12 219  16   2   0   1   8   2   1   0   4   2\n",
      "    8   0]\n",
      " [  2   3   2   2   2   1   5  16 230   6   1   1   1   2   4   2   1   1\n",
      "    3   2]\n",
      " [  2   4   0   0   0   3   0   5   1 267   8   1   0   1   0   1   2   1\n",
      "    1   0]\n",
      " [  1   1   2   0   1   0   3   1   2  12 268   0   1   3   1   0   2   0\n",
      "    3   1]\n",
      " [  2   5   3   2   2   6   1   3   1   3   1 249   5   0   2   2   8   0\n",
      "    9   5]\n",
      " [  0   4   5  13   6   2  15   6   5   3   2   8 214   4   5   1   2   3\n",
      "    2   2]\n",
      " [  3   6   1   2   2   0   2   4   1   3   0   2   5 255   9   2   3   3\n",
      "    5   2]\n",
      " [  6   8   3   0   1   2   1   6   3   3   3   1   5   6 226   0   5   1\n",
      "    4   3]\n",
      " [ 20   3   0   0   1   0   0   1   2   1   0   1   0   3   1 227   7   5\n",
      "    4  13]\n",
      " [  4   2   2   2   1   1   1   1   2   4   1   7   6   2   3   5 184   6\n",
      "   50  20]\n",
      " [  8   0   2   0   1   0   0   0   1   5   3   2   2   2   0   6   1 227\n",
      "   14   1]\n",
      " [ 11   0   0   1   1   1   1   3   4   4   4   2   2   2   3   2  48  22\n",
      "  150  37]\n",
      " [ 65   2   1   0   0   1   0   1   5   7   0   0   2   6   2  32  30   4\n",
      "   50  92]]\n"
     ]
    }
   ],
   "source": [
    "evaluate_model(svm_clf_lemm, vectors_test_lemm, y_test_lemm)"
   ]
  },
  {
   "cell_type": "markdown",
   "metadata": {},
   "source": [
    "# Check the size of the files"
   ]
  },
  {
   "cell_type": "code",
   "execution_count": 67,
   "metadata": {
    "ExecuteTime": {
     "end_time": "2019-03-01T22:42:58.905961Z",
     "start_time": "2019-03-01T22:42:58.745881Z"
    }
   },
   "outputs": [],
   "source": [
    "# We create a new column with a list of the words in each document\n",
    "df_lemmatization['num_words'] = df_lemmatization['document'].apply(lambda x: len(x.split()))"
   ]
  },
  {
   "cell_type": "code",
   "execution_count": 68,
   "metadata": {
    "ExecuteTime": {
     "end_time": "2019-03-01T22:42:58.923917Z",
     "start_time": "2019-03-01T22:42:58.907758Z"
    }
   },
   "outputs": [
    {
     "data": {
      "text/html": [
       "<div>\n",
       "<style scoped>\n",
       "    .dataframe tbody tr th:only-of-type {\n",
       "        vertical-align: middle;\n",
       "    }\n",
       "\n",
       "    .dataframe tbody tr th {\n",
       "        vertical-align: top;\n",
       "    }\n",
       "\n",
       "    .dataframe thead th {\n",
       "        text-align: right;\n",
       "    }\n",
       "</style>\n",
       "<table border=\"1\" class=\"dataframe\">\n",
       "  <thead>\n",
       "    <tr style=\"text-align: right;\">\n",
       "      <th></th>\n",
       "      <th>document</th>\n",
       "      <th>class</th>\n",
       "      <th>num_words</th>\n",
       "    </tr>\n",
       "  </thead>\n",
       "  <tbody>\n",
       "    <tr>\n",
       "      <th>0</th>\n",
       "      <td>lebanese resistance force detonated bomb israe...</td>\n",
       "      <td>talk.politics.mideast</td>\n",
       "      <td>98</td>\n",
       "    </tr>\n",
       "    <tr>\n",
       "      <th>1</th>\n",
       "      <td>uh oh first sign argument without merit statin...</td>\n",
       "      <td>talk.politics.mideast</td>\n",
       "      <td>18</td>\n",
       "    </tr>\n",
       "    <tr>\n",
       "      <th>2</th>\n",
       "      <td>ah c mon give guy three day see come leo</td>\n",
       "      <td>talk.politics.mideast</td>\n",
       "      <td>10</td>\n",
       "    </tr>\n",
       "    <tr>\n",
       "      <th>3</th>\n",
       "      <td>course posting hard evidence fact much difficu...</td>\n",
       "      <td>talk.politics.mideast</td>\n",
       "      <td>80</td>\n",
       "    </tr>\n",
       "    <tr>\n",
       "      <th>4</th>\n",
       "      <td>precisely cuba hatians ruled thug elected lead...</td>\n",
       "      <td>talk.politics.mideast</td>\n",
       "      <td>59</td>\n",
       "    </tr>\n",
       "    <tr>\n",
       "      <th>5</th>\n",
       "      <td>center policy research cpr subject zionism rac...</td>\n",
       "      <td>talk.politics.mideast</td>\n",
       "      <td>85</td>\n",
       "    </tr>\n",
       "    <tr>\n",
       "      <th>6</th>\n",
       "      <td>massacre answer</td>\n",
       "      <td>talk.politics.mideast</td>\n",
       "      <td>2</td>\n",
       "    </tr>\n",
       "    <tr>\n",
       "      <th>7</th>\n",
       "      <td>various contradictory view origin armenian nam...</td>\n",
       "      <td>talk.politics.mideast</td>\n",
       "      <td>494</td>\n",
       "    </tr>\n",
       "    <tr>\n",
       "      <th>8</th>\n",
       "      <td>stuff deleted calling name giving title first ...</td>\n",
       "      <td>talk.politics.mideast</td>\n",
       "      <td>502</td>\n",
       "    </tr>\n",
       "    <tr>\n",
       "      <th>9</th>\n",
       "      <td>ignorance hardly characteristic ians sarkis at...</td>\n",
       "      <td>talk.politics.mideast</td>\n",
       "      <td>240</td>\n",
       "    </tr>\n",
       "    <tr>\n",
       "      <th>10</th>\n",
       "      <td>hell guy david davidian think talk much yo dav...</td>\n",
       "      <td>talk.politics.mideast</td>\n",
       "      <td>27</td>\n",
       "    </tr>\n",
       "    <tr>\n",
       "      <th>11</th>\n",
       "      <td>ok already disqualified ever objective jew peo...</td>\n",
       "      <td>talk.politics.mideast</td>\n",
       "      <td>68</td>\n",
       "    </tr>\n",
       "    <tr>\n",
       "      <th>12</th>\n",
       "      <td>dorin let forget soldier killed murdered disti...</td>\n",
       "      <td>talk.politics.mideast</td>\n",
       "      <td>72</td>\n",
       "    </tr>\n",
       "    <tr>\n",
       "      <th>13</th>\n",
       "      <td>account anti armenian human right violation az...</td>\n",
       "      <td>talk.politics.mideast</td>\n",
       "      <td>474</td>\n",
       "    </tr>\n",
       "    <tr>\n",
       "      <th>14</th>\n",
       "      <td>deleted noteworthy post west evil etc made isl...</td>\n",
       "      <td>talk.politics.mideast</td>\n",
       "      <td>24</td>\n",
       "    </tr>\n",
       "    <tr>\n",
       "      <th>15</th>\n",
       "      <td>funny anyway suppose fact israel didnot attack...</td>\n",
       "      <td>talk.politics.mideast</td>\n",
       "      <td>23</td>\n",
       "    </tr>\n",
       "    <tr>\n",
       "      <th>16</th>\n",
       "      <td>zionist decided zion must gentile rein mean te...</td>\n",
       "      <td>talk.politics.mideast</td>\n",
       "      <td>31</td>\n",
       "    </tr>\n",
       "    <tr>\n",
       "      <th>17</th>\n",
       "      <td>henrik country turk azeri consistantly want dr...</td>\n",
       "      <td>talk.politics.mideast</td>\n",
       "      <td>675</td>\n",
       "    </tr>\n",
       "    <tr>\n",
       "      <th>18</th>\n",
       "      <td>kind ranking system used</td>\n",
       "      <td>talk.politics.mideast</td>\n",
       "      <td>4</td>\n",
       "    </tr>\n",
       "    <tr>\n",
       "      <th>19</th>\n",
       "      <td>forgive inaccuracy deleted original post perso...</td>\n",
       "      <td>talk.politics.mideast</td>\n",
       "      <td>12</td>\n",
       "    </tr>\n",
       "    <tr>\n",
       "      <th>20</th>\n",
       "      <td>deposition vitaly nikolayevich danielian born ...</td>\n",
       "      <td>talk.politics.mideast</td>\n",
       "      <td>1089</td>\n",
       "    </tr>\n",
       "    <tr>\n",
       "      <th>21</th>\n",
       "      <td>give u right keep new york home united nation ...</td>\n",
       "      <td>talk.politics.mideast</td>\n",
       "      <td>73</td>\n",
       "    </tr>\n",
       "    <tr>\n",
       "      <th>22</th>\n",
       "      <td>well let delve one level deeper democracy bett...</td>\n",
       "      <td>talk.politics.mideast</td>\n",
       "      <td>156</td>\n",
       "    </tr>\n",
       "    <tr>\n",
       "      <th>23</th>\n",
       "      <td>completely misunderstood opposed intervention ...</td>\n",
       "      <td>talk.politics.mideast</td>\n",
       "      <td>107</td>\n",
       "    </tr>\n",
       "    <tr>\n",
       "      <th>24</th>\n",
       "      <td>reflection bosnia lord owen serb early februar...</td>\n",
       "      <td>talk.politics.mideast</td>\n",
       "      <td>821</td>\n",
       "    </tr>\n",
       "    <tr>\n",
       "      <th>25</th>\n",
       "      <td>bm gimme break capital letter pure nonsense bm...</td>\n",
       "      <td>talk.politics.mideast</td>\n",
       "      <td>281</td>\n",
       "    </tr>\n",
       "    <tr>\n",
       "      <th>26</th>\n",
       "      <td>mind compulsive liar work scenario genocide st...</td>\n",
       "      <td>talk.politics.mideast</td>\n",
       "      <td>242</td>\n",
       "    </tr>\n",
       "    <tr>\n",
       "      <th>27</th>\n",
       "      <td>stupid</td>\n",
       "      <td>talk.politics.mideast</td>\n",
       "      <td>1</td>\n",
       "    </tr>\n",
       "    <tr>\n",
       "      <th>28</th>\n",
       "      <td>ah fire armed folk nasty habit firing back sim...</td>\n",
       "      <td>talk.politics.mideast</td>\n",
       "      <td>14</td>\n",
       "    </tr>\n",
       "    <tr>\n",
       "      <th>29</th>\n",
       "      <td>else expect israel trying portray great democr...</td>\n",
       "      <td>talk.politics.mideast</td>\n",
       "      <td>22</td>\n",
       "    </tr>\n",
       "    <tr>\n",
       "      <th>...</th>\n",
       "      <td>...</td>\n",
       "      <td>...</td>\n",
       "      <td>...</td>\n",
       "    </tr>\n",
       "    <tr>\n",
       "      <th>19968</th>\n",
       "      <td>belief theory theory make prediction falsi fia...</td>\n",
       "      <td>talk.religion.misc</td>\n",
       "      <td>33</td>\n",
       "    </tr>\n",
       "    <tr>\n",
       "      <th>19969</th>\n",
       "      <td>live colorado never heard group obviously clai...</td>\n",
       "      <td>talk.religion.misc</td>\n",
       "      <td>89</td>\n",
       "    </tr>\n",
       "    <tr>\n",
       "      <th>19970</th>\n",
       "      <td>make interesting claim challenging mind could ...</td>\n",
       "      <td>talk.religion.misc</td>\n",
       "      <td>15</td>\n",
       "    </tr>\n",
       "    <tr>\n",
       "      <th>19971</th>\n",
       "      <td>let u explore interesting paragraph point poin...</td>\n",
       "      <td>talk.religion.misc</td>\n",
       "      <td>225</td>\n",
       "    </tr>\n",
       "    <tr>\n",
       "      <th>19972</th>\n",
       "      <td>faith intelligence tell druggie break house ni...</td>\n",
       "      <td>talk.religion.misc</td>\n",
       "      <td>13</td>\n",
       "    </tr>\n",
       "    <tr>\n",
       "      <th>19973</th>\n",
       "      <td>deletion since drivel also crossposted alt ath...</td>\n",
       "      <td>talk.religion.misc</td>\n",
       "      <td>23</td>\n",
       "    </tr>\n",
       "    <tr>\n",
       "      <th>19974</th>\n",
       "      <td>well thread started discussion sabin evolved e...</td>\n",
       "      <td>talk.religion.misc</td>\n",
       "      <td>15</td>\n",
       "    </tr>\n",
       "    <tr>\n",
       "      <th>19975</th>\n",
       "      <td>huh kind shotgun blast deserves either elabora...</td>\n",
       "      <td>talk.religion.misc</td>\n",
       "      <td>140</td>\n",
       "    </tr>\n",
       "    <tr>\n",
       "      <th>19976</th>\n",
       "      <td>mean find ridiculous price rest u supposed con...</td>\n",
       "      <td>talk.religion.misc</td>\n",
       "      <td>12</td>\n",
       "    </tr>\n",
       "    <tr>\n",
       "      <th>19977</th>\n",
       "      <td>replace stephen david joslin since directed r ...</td>\n",
       "      <td>talk.religion.misc</td>\n",
       "      <td>137</td>\n",
       "    </tr>\n",
       "    <tr>\n",
       "      <th>19978</th>\n",
       "      <td>article apr gn ecn purdue edu mechalas gn ecn ...</td>\n",
       "      <td>talk.religion.misc</td>\n",
       "      <td>273</td>\n",
       "    </tr>\n",
       "    <tr>\n",
       "      <th>19979</th>\n",
       "      <td>sound like modifying definition christian anyo...</td>\n",
       "      <td>talk.religion.misc</td>\n",
       "      <td>37</td>\n",
       "    </tr>\n",
       "    <tr>\n",
       "      <th>19980</th>\n",
       "      <td>two commandment rule merely rule vague practic...</td>\n",
       "      <td>talk.religion.misc</td>\n",
       "      <td>339</td>\n",
       "    </tr>\n",
       "    <tr>\n",
       "      <th>19981</th>\n",
       "      <td>fbi say one survivor say set fire given claim ...</td>\n",
       "      <td>talk.religion.misc</td>\n",
       "      <td>23</td>\n",
       "    </tr>\n",
       "    <tr>\n",
       "      <th>19982</th>\n",
       "      <td>afraid much worse jesus said follow ten comman...</td>\n",
       "      <td>talk.religion.misc</td>\n",
       "      <td>60</td>\n",
       "    </tr>\n",
       "    <tr>\n",
       "      <th>19983</th>\n",
       "      <td>able prove morality objective would correct pr...</td>\n",
       "      <td>talk.religion.misc</td>\n",
       "      <td>35</td>\n",
       "    </tr>\n",
       "    <tr>\n",
       "      <th>19984</th>\n",
       "      <td>greatly need jurgen moltmann book god creation...</td>\n",
       "      <td>talk.religion.misc</td>\n",
       "      <td>21</td>\n",
       "    </tr>\n",
       "    <tr>\n",
       "      <th>19985</th>\n",
       "      <td>marian catholic high school outside chicago so...</td>\n",
       "      <td>talk.religion.misc</td>\n",
       "      <td>14</td>\n",
       "    </tr>\n",
       "    <tr>\n",
       "      <th>19986</th>\n",
       "      <td>cockroach</td>\n",
       "      <td>talk.religion.misc</td>\n",
       "      <td>1</td>\n",
       "    </tr>\n",
       "    <tr>\n",
       "      <th>19987</th>\n",
       "      <td>ahhhh see mean example value objective existen...</td>\n",
       "      <td>talk.religion.misc</td>\n",
       "      <td>167</td>\n",
       "    </tr>\n",
       "    <tr>\n",
       "      <th>19988</th>\n",
       "      <td>make see poll recently religious adultery news...</td>\n",
       "      <td>talk.religion.misc</td>\n",
       "      <td>10</td>\n",
       "    </tr>\n",
       "    <tr>\n",
       "      <th>19989</th>\n",
       "      <td>qlapk v morrow stanford edu salem pangea stanf...</td>\n",
       "      <td>talk.religion.misc</td>\n",
       "      <td>58</td>\n",
       "    </tr>\n",
       "    <tr>\n",
       "      <th>19990</th>\n",
       "      <td>see camel nose willing take chance winning who...</td>\n",
       "      <td>talk.religion.misc</td>\n",
       "      <td>11</td>\n",
       "    </tr>\n",
       "    <tr>\n",
       "      <th>19991</th>\n",
       "      <td>apr abortion private pa recently gender inequi...</td>\n",
       "      <td>talk.religion.misc</td>\n",
       "      <td>11</td>\n",
       "    </tr>\n",
       "    <tr>\n",
       "      <th>19992</th>\n",
       "      <td>yes one particular goal land man moon put comm...</td>\n",
       "      <td>talk.religion.misc</td>\n",
       "      <td>37</td>\n",
       "    </tr>\n",
       "    <tr>\n",
       "      <th>19993</th>\n",
       "      <td>fbi claim basis intelligence report bd plan co...</td>\n",
       "      <td>talk.religion.misc</td>\n",
       "      <td>47</td>\n",
       "    </tr>\n",
       "    <tr>\n",
       "      <th>19994</th>\n",
       "      <td>patrick brosnan patb bnr co uk mcsun ukc stc p...</td>\n",
       "      <td>talk.religion.misc</td>\n",
       "      <td>27</td>\n",
       "    </tr>\n",
       "    <tr>\n",
       "      <th>19995</th>\n",
       "      <td>guess news reader deleted line th amendment de...</td>\n",
       "      <td>talk.religion.misc</td>\n",
       "      <td>25</td>\n",
       "    </tr>\n",
       "    <tr>\n",
       "      <th>19996</th>\n",
       "      <td>would someone named dennis stuck paying aborti...</td>\n",
       "      <td>talk.religion.misc</td>\n",
       "      <td>131</td>\n",
       "    </tr>\n",
       "    <tr>\n",
       "      <th>19997</th>\n",
       "      <td>point maybe example argue even true necessaril...</td>\n",
       "      <td>talk.religion.misc</td>\n",
       "      <td>205</td>\n",
       "    </tr>\n",
       "  </tbody>\n",
       "</table>\n",
       "<p>19998 rows × 3 columns</p>\n",
       "</div>"
      ],
      "text/plain": [
       "                                                document  \\\n",
       "0      lebanese resistance force detonated bomb israe...   \n",
       "1      uh oh first sign argument without merit statin...   \n",
       "2               ah c mon give guy three day see come leo   \n",
       "3      course posting hard evidence fact much difficu...   \n",
       "4      precisely cuba hatians ruled thug elected lead...   \n",
       "5      center policy research cpr subject zionism rac...   \n",
       "6                                        massacre answer   \n",
       "7      various contradictory view origin armenian nam...   \n",
       "8      stuff deleted calling name giving title first ...   \n",
       "9      ignorance hardly characteristic ians sarkis at...   \n",
       "10     hell guy david davidian think talk much yo dav...   \n",
       "11     ok already disqualified ever objective jew peo...   \n",
       "12     dorin let forget soldier killed murdered disti...   \n",
       "13     account anti armenian human right violation az...   \n",
       "14     deleted noteworthy post west evil etc made isl...   \n",
       "15     funny anyway suppose fact israel didnot attack...   \n",
       "16     zionist decided zion must gentile rein mean te...   \n",
       "17     henrik country turk azeri consistantly want dr...   \n",
       "18                              kind ranking system used   \n",
       "19     forgive inaccuracy deleted original post perso...   \n",
       "20     deposition vitaly nikolayevich danielian born ...   \n",
       "21     give u right keep new york home united nation ...   \n",
       "22     well let delve one level deeper democracy bett...   \n",
       "23     completely misunderstood opposed intervention ...   \n",
       "24     reflection bosnia lord owen serb early februar...   \n",
       "25     bm gimme break capital letter pure nonsense bm...   \n",
       "26     mind compulsive liar work scenario genocide st...   \n",
       "27                                                stupid   \n",
       "28     ah fire armed folk nasty habit firing back sim...   \n",
       "29     else expect israel trying portray great democr...   \n",
       "...                                                  ...   \n",
       "19968  belief theory theory make prediction falsi fia...   \n",
       "19969  live colorado never heard group obviously clai...   \n",
       "19970  make interesting claim challenging mind could ...   \n",
       "19971  let u explore interesting paragraph point poin...   \n",
       "19972  faith intelligence tell druggie break house ni...   \n",
       "19973  deletion since drivel also crossposted alt ath...   \n",
       "19974  well thread started discussion sabin evolved e...   \n",
       "19975  huh kind shotgun blast deserves either elabora...   \n",
       "19976  mean find ridiculous price rest u supposed con...   \n",
       "19977  replace stephen david joslin since directed r ...   \n",
       "19978  article apr gn ecn purdue edu mechalas gn ecn ...   \n",
       "19979  sound like modifying definition christian anyo...   \n",
       "19980  two commandment rule merely rule vague practic...   \n",
       "19981  fbi say one survivor say set fire given claim ...   \n",
       "19982  afraid much worse jesus said follow ten comman...   \n",
       "19983  able prove morality objective would correct pr...   \n",
       "19984  greatly need jurgen moltmann book god creation...   \n",
       "19985  marian catholic high school outside chicago so...   \n",
       "19986                                          cockroach   \n",
       "19987  ahhhh see mean example value objective existen...   \n",
       "19988  make see poll recently religious adultery news...   \n",
       "19989  qlapk v morrow stanford edu salem pangea stanf...   \n",
       "19990  see camel nose willing take chance winning who...   \n",
       "19991  apr abortion private pa recently gender inequi...   \n",
       "19992  yes one particular goal land man moon put comm...   \n",
       "19993  fbi claim basis intelligence report bd plan co...   \n",
       "19994  patrick brosnan patb bnr co uk mcsun ukc stc p...   \n",
       "19995  guess news reader deleted line th amendment de...   \n",
       "19996  would someone named dennis stuck paying aborti...   \n",
       "19997  point maybe example argue even true necessaril...   \n",
       "\n",
       "                       class  num_words  \n",
       "0      talk.politics.mideast         98  \n",
       "1      talk.politics.mideast         18  \n",
       "2      talk.politics.mideast         10  \n",
       "3      talk.politics.mideast         80  \n",
       "4      talk.politics.mideast         59  \n",
       "5      talk.politics.mideast         85  \n",
       "6      talk.politics.mideast          2  \n",
       "7      talk.politics.mideast        494  \n",
       "8      talk.politics.mideast        502  \n",
       "9      talk.politics.mideast        240  \n",
       "10     talk.politics.mideast         27  \n",
       "11     talk.politics.mideast         68  \n",
       "12     talk.politics.mideast         72  \n",
       "13     talk.politics.mideast        474  \n",
       "14     talk.politics.mideast         24  \n",
       "15     talk.politics.mideast         23  \n",
       "16     talk.politics.mideast         31  \n",
       "17     talk.politics.mideast        675  \n",
       "18     talk.politics.mideast          4  \n",
       "19     talk.politics.mideast         12  \n",
       "20     talk.politics.mideast       1089  \n",
       "21     talk.politics.mideast         73  \n",
       "22     talk.politics.mideast        156  \n",
       "23     talk.politics.mideast        107  \n",
       "24     talk.politics.mideast        821  \n",
       "25     talk.politics.mideast        281  \n",
       "26     talk.politics.mideast        242  \n",
       "27     talk.politics.mideast          1  \n",
       "28     talk.politics.mideast         14  \n",
       "29     talk.politics.mideast         22  \n",
       "...                      ...        ...  \n",
       "19968     talk.religion.misc         33  \n",
       "19969     talk.religion.misc         89  \n",
       "19970     talk.religion.misc         15  \n",
       "19971     talk.religion.misc        225  \n",
       "19972     talk.religion.misc         13  \n",
       "19973     talk.religion.misc         23  \n",
       "19974     talk.religion.misc         15  \n",
       "19975     talk.religion.misc        140  \n",
       "19976     talk.religion.misc         12  \n",
       "19977     talk.religion.misc        137  \n",
       "19978     talk.religion.misc        273  \n",
       "19979     talk.religion.misc         37  \n",
       "19980     talk.religion.misc        339  \n",
       "19981     talk.religion.misc         23  \n",
       "19982     talk.religion.misc         60  \n",
       "19983     talk.religion.misc         35  \n",
       "19984     talk.religion.misc         21  \n",
       "19985     talk.religion.misc         14  \n",
       "19986     talk.religion.misc          1  \n",
       "19987     talk.religion.misc        167  \n",
       "19988     talk.religion.misc         10  \n",
       "19989     talk.religion.misc         58  \n",
       "19990     talk.religion.misc         11  \n",
       "19991     talk.religion.misc         11  \n",
       "19992     talk.religion.misc         37  \n",
       "19993     talk.religion.misc         47  \n",
       "19994     talk.religion.misc         27  \n",
       "19995     talk.religion.misc         25  \n",
       "19996     talk.religion.misc        131  \n",
       "19997     talk.religion.misc        205  \n",
       "\n",
       "[19998 rows x 3 columns]"
      ]
     },
     "execution_count": 68,
     "metadata": {},
     "output_type": "execute_result"
    }
   ],
   "source": [
    "df_lemmatization"
   ]
  },
  {
   "cell_type": "code",
   "execution_count": 69,
   "metadata": {
    "ExecuteTime": {
     "end_time": "2019-03-01T22:42:58.933660Z",
     "start_time": "2019-03-01T22:42:58.926571Z"
    }
   },
   "outputs": [
    {
     "data": {
      "text/plain": [
       "80"
      ]
     },
     "execution_count": 69,
     "metadata": {},
     "output_type": "execute_result"
    }
   ],
   "source": [
    "len(df_lemmatization['document'][3].split())"
   ]
  },
  {
   "cell_type": "code",
   "execution_count": 70,
   "metadata": {
    "ExecuteTime": {
     "end_time": "2019-03-01T22:42:58.942350Z",
     "start_time": "2019-03-01T22:42:58.936136Z"
    }
   },
   "outputs": [
    {
     "data": {
      "text/plain": [
       "1089"
      ]
     },
     "execution_count": 70,
     "metadata": {},
     "output_type": "execute_result"
    }
   ],
   "source": [
    "len(df_lemmatization['document'][20].split())"
   ]
  },
  {
   "cell_type": "code",
   "execution_count": 71,
   "metadata": {
    "ExecuteTime": {
     "end_time": "2019-03-01T22:42:58.950663Z",
     "start_time": "2019-03-01T22:42:58.944856Z"
    }
   },
   "outputs": [
    {
     "data": {
      "text/plain": [
       "'deposition vitaly nikolayevich danielian born attended th grade middle school resident building apartment microdistrict sumgait azerbaijan really people town know happening february came home school clock excused leave last period order go baku left everything town fine life usual group people discussing thing soccer thing got sumgait bus bound baku first cousin birthday father mother spent day baku th somewhere around p got bus home figuring enough time homework next day entering town near story high rise bus stopped large crowd crowd demanded armenian get bus driver say armenian board everyone bus begin shout armenian board group come door bus people get one one checking passport going way people look get bus taken armenian set direction home first going go old building knew place hide whole road packed group people way block th microdistrict group emptying people pocket checking passport people passport beaten well decided go home instead near story high rise saw burning car great many people standing around driveway yelling death armenian written car came courtyard live l shaped building still quiet went upstairs turn light tried call baku warn relative due arrive wednesday come knock door neighbor advised u come stay place went place led u basement live first floor basement enter across balcony sat basement armenian woman beaten ran away naked neighbor daughter said right armenian deserve stepanakert allegedly people killed girl agdam raped stay long basement tried support one another best could looking small window iron grating papa watched said thing said fire near building probably car fire one group approached driveway demanded shown apartment armenian lived neighbor said armenian group set wing building appeared side building later found woman murdered woman ran away naked died yuri avakian killed crowd left neighbor said could go home went back place turn light started gather thing order leave sumgait tried call relative lived sumgait answer decided already left sat home phone rang caller asked speak father called phone jeykhun mamedov father work brigade said disgusted happening town asked address promised get car help u get city quite honest papa want give address mother got phone told minute call crowd ran entryway bursting building broke door came apartment came straight apartment knew exactly armenian came place tried resist nothing could one took parent passport began read read surname danielian turned page read armenian alone enough doom u said moved quickly courtyard would done u another standing next pushed key piano said death tolled knife steel truncheon knife hand unfortunately use knew give knife thing would much worse struck parent said put knife piano one commanded taken outside one person giving order taken outdoors went middle mother behind someone started push walk faster let go ahead fell behind tried push hit moment began beating parent realized resistance completely useless taken courtyard neighbor standing balcony see happen next crowd surround u first strike knocked come beat lose consciousness often see hear parent since first one hit cold come try pick lying next crowd gone people around watching balcony try pick left arm broken start toward drive wanting tell neighbor call ambulance body parent still warm attacked around clock regain consciousness try make stair home knock neighbor door push back tell go away go third floor neighbor put damp cloth head say call ambulance sends son one take apartment often look window see ambulance arrived see far result blow seems parent already taken away calm try convince taken away everything ok still later morning found ambulance picked already dead received attention time possible would still alive later around clock th policeman civilian clothing come house assistant call ambulance minute later arrives taken sumgait emergency hospital stitch wound head rebind arm clock armenian hospital sent ambulance baku ward sumgait hospital five people armenian hospital nearly overflowing armenian azerbaijani whose car flipped event th semashko hospital baku day released th day found parent dead first told moscow treated later found dead father older brother told father name nikolai artemovich danielian born mother born seda osipovna danielian papa worked pmk leader roofing brigade mamma compressor operator also beaten head coroner report stated head smashed open bled profusely confrontation met jeykhun mamedov called turned later one tipped crowd called specifically find home find exact address dispatch group knew phone number know address event never seen often spoken phone would ask speak father knew name denies one answered phone saying father answered denies called public phone saying called home also true heard noise sound automobile later found earlier convicted never served time received suspended sentence year old know since confessed sure one tipped crowd one hundred percent sure parent karabagh father village badar two year old family moved baku elder brother go school student naval school never graduated went work virgin land one gigantic agricultural project instituted khrushchev returned lived baku later moved sumgait helping town construction mamma village dagdagan also karabagh worked sumgait first bookstore later construction site sister older life husband karabagh always loved parent went th grade dream would continue study finished th grade wanted enter baku nautical school military school later changed mind rather parent got recon sider saying would better finish th grade join naval school planning navy almost whole life long since childhood dreamed sailor father wanted anything always recollected youth telling school always said made big mistake leaving live karabagh never plan leave stay home grandfather ancestor till end day hospital baku learned fate many others suffered well like ishkhan trdatov managed hold residence microdistrict building apartment long time lost father gabriel miracle managed survive also learned uncle sasha building whose daughter raped besides valery forgot last name hospital year younger went school riding parent car people throwing rock hit parent brought hospital ward even came friend seen around town hospital got know one another better learned fate others died befallen misfortune today suren harutunian first secretary communist party armenia shown television honest glad armenia agreed recognize nagorno karabagh part armenian soviet socialist republic repelled revolted hear baku announcer read decision azerbaijani supreme soviet presidium karabagh becoming part armenia event sumgait baku best solution give karabagh armenia return armenia since people want live peacefully azerbaijani everything right arrived karabagh april felt bad constant headache strength returned older sister suzanna took think justice prevail people demanding due take away due parent often spoke nagorno karabagh often visited spent almost vacation even decided karabagh would made part armenia would move sure always said armenian people suffered much done removing nagorno karabagh armenia wrong sooner later mistake corrected order correct mistake must repeated fate nagorno karabagh lie hand government june stepanakert'"
      ]
     },
     "execution_count": 71,
     "metadata": {},
     "output_type": "execute_result"
    }
   ],
   "source": [
    "df_lemmatization['document'][20]"
   ]
  },
  {
   "cell_type": "markdown",
   "metadata": {},
   "source": [
    "## Obtain statistics on the number of words in each document"
   ]
  },
  {
   "cell_type": "code",
   "execution_count": 72,
   "metadata": {
    "ExecuteTime": {
     "end_time": "2019-03-01T22:42:58.966754Z",
     "start_time": "2019-03-01T22:42:58.953622Z"
    },
    "scrolled": false
   },
   "outputs": [
    {
     "data": {
      "text/plain": [
       "count    19998.000000\n",
       "mean       108.558506\n",
       "std        499.369612\n",
       "min          0.000000\n",
       "25%         22.000000\n",
       "50%         44.000000\n",
       "75%         86.000000\n",
       "max      29769.000000\n",
       "Name: num_words, dtype: float64"
      ]
     },
     "execution_count": 72,
     "metadata": {},
     "output_type": "execute_result"
    }
   ],
   "source": [
    "df_lemmatization['num_words'].describe()"
   ]
  },
  {
   "cell_type": "code",
   "execution_count": 73,
   "metadata": {
    "ExecuteTime": {
     "end_time": "2019-03-01T22:42:58.981232Z",
     "start_time": "2019-03-01T22:42:58.969174Z"
    }
   },
   "outputs": [
    {
     "name": "stdout",
     "output_type": "stream",
     "text": [
      "80th percentile:  104.0\n",
      "85th percentile:  128.0\n",
      "90th percentile:  172.0\n",
      "95th percentile:  286.1499999999978\n"
     ]
    }
   ],
   "source": [
    "# Print percentiles\n",
    "print('80th percentile: ', df_lemmatization['num_words'].quantile(0.80))\n",
    "print('85th percentile: ', df_lemmatization['num_words'].quantile(0.85))\n",
    "print('90th percentile: ', df_lemmatization['num_words'].quantile(0.90))\n",
    "print('95th percentile: ', df_lemmatization['num_words'].quantile(0.95))"
   ]
  },
  {
   "cell_type": "code",
   "execution_count": 74,
   "metadata": {
    "ExecuteTime": {
     "end_time": "2019-03-01T22:42:59.370208Z",
     "start_time": "2019-03-01T22:42:58.983757Z"
    }
   },
   "outputs": [],
   "source": [
    "import seaborn as sns"
   ]
  },
  {
   "cell_type": "code",
   "execution_count": 76,
   "metadata": {
    "ExecuteTime": {
     "end_time": "2019-03-01T22:55:45.228588Z",
     "start_time": "2019-03-01T22:55:45.039406Z"
    }
   },
   "outputs": [
    {
     "data": {
      "text/plain": [
       "<matplotlib.axes._subplots.AxesSubplot at 0x1a2e031eb8>"
      ]
     },
     "execution_count": 76,
     "metadata": {},
     "output_type": "execute_result"
    },
    {
     "data": {
      "image/png": "[encoded data removed]",
      "text/plain": [
       "<Figure size 432x288 with 1 Axes>"
      ]
     },
     "metadata": {},
     "output_type": "display_data"
    }
   ],
   "source": [
    "sns.set(style=\"whitegrid\")\n",
    "sns.boxplot(x=df_lemmatization['num_words'])"
   ]
  },
  {
   "cell_type": "markdown",
   "metadata": {},
   "source": [
    "# Another tests"
   ]
  },
  {
   "cell_type": "markdown",
   "metadata": {},
   "source": [
    "## SVC kernel linear"
   ]
  },
  {
   "cell_type": "code",
   "execution_count": 77,
   "metadata": {
    "ExecuteTime": {
     "end_time": "2019-03-01T22:56:47.222090Z",
     "start_time": "2019-03-01T22:56:47.218287Z"
    }
   },
   "outputs": [],
   "source": [
    "from sklearn.svm import SVC"
   ]
  },
  {
   "cell_type": "code",
   "execution_count": 78,
   "metadata": {
    "ExecuteTime": {
     "end_time": "2019-03-01T23:00:43.086783Z",
     "start_time": "2019-03-01T22:59:34.116543Z"
    }
   },
   "outputs": [
    {
     "data": {
      "text/plain": [
       "SVC(C=1.0, cache_size=200, class_weight=None, coef0=0.0,\n",
       "  decision_function_shape='ovr', degree=3, gamma='auto_deprecated',\n",
       "  kernel='linear', max_iter=-1, probability=False, random_state=42,\n",
       "  shrinking=True, tol=0.001, verbose=False)"
      ]
     },
     "execution_count": 78,
     "metadata": {},
     "output_type": "execute_result"
    }
   ],
   "source": [
    "svc_linear_stemm = SVC(kernel='linear', random_state=42)\n",
    "svc_linear_stemm.fit(vectors_train_stemm, y_train_stemm)"
   ]
  },
  {
   "cell_type": "code",
   "execution_count": 79,
   "metadata": {
    "ExecuteTime": {
     "end_time": "2019-03-01T23:01:12.898817Z",
     "start_time": "2019-03-01T23:00:47.472702Z"
    }
   },
   "outputs": [
    {
     "name": "stdout",
     "output_type": "stream",
     "text": [
      "Accuracy: 0.7056666666666667\n",
      "F1 score: 0.7082642668712417\n",
      "\n",
      "Classification report\n",
      "_____________________\n",
      "                          precision    recall  f1-score   support\n",
      "\n",
      "   talk.politics.mideast       0.52      0.55      0.53       304\n",
      "               rec.autos       0.65      0.71      0.68       307\n",
      "   comp.sys.mac.hardware       0.65      0.70      0.67       293\n",
      "             alt.atheism       0.70      0.66      0.68       328\n",
      "      rec.sport.baseball       0.80      0.68      0.73       320\n",
      " comp.os.ms-windows.misc       0.81      0.79      0.80       308\n",
      "        rec.sport.hockey       0.69      0.72      0.70       290\n",
      "               sci.crypt       0.76      0.73      0.75       290\n",
      "                 sci.med       0.66      0.83      0.74       287\n",
      "      talk.politics.misc       0.85      0.88      0.86       297\n",
      "         rec.motorcycles       0.95      0.85      0.90       302\n",
      "          comp.windows.x       0.88      0.78      0.83       309\n",
      "           comp.graphics       0.68      0.71      0.69       302\n",
      "comp.sys.ibm.pc.hardware       0.83      0.78      0.80       310\n",
      "         sci.electronics       0.76      0.75      0.75       287\n",
      "      talk.politics.guns       0.79      0.75      0.77       289\n",
      "               sci.space       0.62      0.62      0.62       304\n",
      "  soc.religion.christian       0.82      0.79      0.80       275\n",
      "            misc.forsale       0.49      0.54      0.51       298\n",
      "      talk.religion.misc       0.34      0.35      0.34       300\n",
      "\n",
      "               micro avg       0.71      0.71      0.71      6000\n",
      "               macro avg       0.71      0.71      0.71      6000\n",
      "            weighted avg       0.71      0.71      0.71      6000\n",
      "\n",
      "Confusion matrix\n",
      "__________________\n",
      "[[167   0   0   0   1   2   3   1   9   1   1   1   2   4   2  15   6   5\n",
      "    4  80]\n",
      " [  3 217  21  10   2  21   2   0   3   1   0   5   9   3   7   0   0   0\n",
      "    0   3]\n",
      " [  3  17 204  21   6  12   4   1   6   2   0   1   4   2   1   0   1   1\n",
      "    5   2]\n",
      " [  0  14  36 215  23   3  14   4   3   0   0   0  12   0   2   0   0   1\n",
      "    1   0]\n",
      " [  1  14  13  25 216   3  12   3  11   1   1   0  14   2   1   0   0   2\n",
      "    0   1]\n",
      " [  3  23  19   4   1 243   1   0   3   1   0   2   2   0   2   1   0   0\n",
      "    0   3]\n",
      " [  0   2  10  13   5   1 209  12   9   2   1   0  13   1   4   1   1   3\n",
      "    3   0]\n",
      " [  4   2   1   4   2   1  17 212  19   2   0   0   7   2   2   0   3   1\n",
      "   10   1]\n",
      " [  3   2   1   1   0   1   6  12 237   7   0   1   0   2   5   2   0   0\n",
      "    3   4]\n",
      " [  2   5   0   0   0   2   0   5   5 260   7   2   0   0   2   1   0   1\n",
      "    2   3]\n",
      " [  2   2   0   0   1   0   5   4   3  13 256   3   1   3   2   0   0   1\n",
      "    3   3]\n",
      " [  2   2   1   1   1   5   3   4   5   3   1 241   3   3   5   1  12   1\n",
      "   11   4]\n",
      " [  2   7   6  10   7   2  16   8   6   1   1   5 213   4   6   0   2   2\n",
      "    1   3]\n",
      " [  8   9   0   0   1   2   4   3   6   2   0   0  11 241   7   1   4   2\n",
      "    7   2]\n",
      " [  7   9   1   1   1   1   3   4   9   2   0   2   9   7 214   0   3   2\n",
      "    6   6]\n",
      " [ 22   3   0   0   1   0   1   0   1   0   0   0   0   5   3 217   4   2\n",
      "    4  26]\n",
      " [  5   2   1   0   0   0   1   1   6   2   0   5   5   5   6   3 188   4\n",
      "   47  23]\n",
      " [ 10   0   2   0   1   0   1   0   3   3   0   3   3   2   0   2   5 218\n",
      "   18   4]\n",
      " [ 12   2   0   0   0   0   3   4   6   1   1   3   2   2   5   1  47  15\n",
      "  162  32]\n",
      " [ 66   3   0   0   0   0   0   0   7   3   0   0   2   1   4  31  28   6\n",
      "   45 104]]\n"
     ]
    }
   ],
   "source": [
    "evaluate_model(svc_linear_stemm, vectors_test_stemm, y_test_stemm)"
   ]
  },
  {
   "cell_type": "markdown",
   "metadata": {},
   "source": [
    "## SVC kernel radial"
   ]
  },
  {
   "cell_type": "code",
   "execution_count": 87,
   "metadata": {
    "ExecuteTime": {
     "end_time": "2019-03-01T23:20:30.766471Z",
     "start_time": "2019-03-01T23:17:51.518585Z"
    }
   },
   "outputs": [
    {
     "name": "stderr",
     "output_type": "stream",
     "text": [
      "/Users/carlos/anaconda3/lib/python3.6/site-packages/sklearn/svm/base.py:196: FutureWarning: The default value of gamma will change from 'auto' to 'scale' in version 0.22 to account better for unscaled features. Set gamma explicitly to 'auto' or 'scale' to avoid this warning.\n",
      "  \"avoid this warning.\", FutureWarning)\n"
     ]
    },
    {
     "data": {
      "text/plain": [
       "SVC(C=0.8, cache_size=200, class_weight=None, coef0=0.0,\n",
       "  decision_function_shape='ovr', degree=3, gamma='auto_deprecated',\n",
       "  kernel='rbf', max_iter=-1, probability=False, random_state=42,\n",
       "  shrinking=True, tol=0.001, verbose=False)"
      ]
     },
     "execution_count": 87,
     "metadata": {},
     "output_type": "execute_result"
    }
   ],
   "source": [
    "svc_radial_stemm = SVC(kernel='rbf', random_state=42, C=0.8)\n",
    "svc_radial_stemm.fit(vectors_train_stemm, y_train_stemm)"
   ]
  },
  {
   "cell_type": "code",
   "execution_count": 88,
   "metadata": {
    "ExecuteTime": {
     "end_time": "2019-03-01T23:21:10.792448Z",
     "start_time": "2019-03-01T23:20:31.870393Z"
    }
   },
   "outputs": [
    {
     "name": "stdout",
     "output_type": "stream",
     "text": [
      "Accuracy: 0.04583333333333333\n",
      "F1 score: 0.004382470119521912\n",
      "\n",
      "Classification report\n",
      "_____________________\n",
      "                          precision    recall  f1-score   support\n",
      "\n",
      "   talk.politics.mideast       0.00      0.00      0.00       304\n",
      "               rec.autos       0.00      0.00      0.00       307\n",
      "   comp.sys.mac.hardware       0.00      0.00      0.00       293\n",
      "             alt.atheism       0.00      0.00      0.00       328\n",
      "      rec.sport.baseball       0.00      0.00      0.00       320\n",
      " comp.os.ms-windows.misc       0.00      0.00      0.00       308\n",
      "        rec.sport.hockey       0.00      0.00      0.00       290\n",
      "               sci.crypt       0.00      0.00      0.00       290\n",
      "                 sci.med       0.00      0.00      0.00       287\n",
      "      talk.politics.misc       0.00      0.00      0.00       297\n",
      "         rec.motorcycles       0.00      0.00      0.00       302\n",
      "          comp.windows.x       0.00      0.00      0.00       309\n",
      "           comp.graphics       0.00      0.00      0.00       302\n",
      "comp.sys.ibm.pc.hardware       0.00      0.00      0.00       310\n",
      "         sci.electronics       0.00      0.00      0.00       287\n",
      "      talk.politics.guns       0.00      0.00      0.00       289\n",
      "               sci.space       0.00      0.00      0.00       304\n",
      "  soc.religion.christian       0.05      1.00      0.09       275\n",
      "            misc.forsale       0.00      0.00      0.00       298\n",
      "      talk.religion.misc       0.00      0.00      0.00       300\n",
      "\n",
      "               micro avg       0.05      0.05      0.05      6000\n",
      "               macro avg       0.00      0.05      0.00      6000\n",
      "            weighted avg       0.00      0.05      0.00      6000\n",
      "\n",
      "Confusion matrix\n",
      "__________________\n",
      "[[  0   0   0   0   0   0   0   0   0   0   0   0   0   0   0   0   0 304\n",
      "    0   0]\n",
      " [  0   0   0   0   0   0   0   0   0   0   0   0   0   0   0   0   0 307\n",
      "    0   0]\n",
      " [  0   0   0   0   0   0   0   0   0   0   0   0   0   0   0   0   0 293\n",
      "    0   0]\n",
      " [  0   0   0   0   0   0   0   0   0   0   0   0   0   0   0   0   0 328\n",
      "    0   0]\n",
      " [  0   0   0   0   0   0   0   0   0   0   0   0   0   0   0   0   0 320\n",
      "    0   0]\n",
      " [  0   0   0   0   0   0   0   0   0   0   0   0   0   0   0   0   0 308\n",
      "    0   0]\n",
      " [  0   0   0   0   0   0   0   0   0   0   0   0   0   0   0   0   0 290\n",
      "    0   0]\n",
      " [  0   0   0   0   0   0   0   0   0   0   0   0   0   0   0   0   0 290\n",
      "    0   0]\n",
      " [  0   0   0   0   0   0   0   0   0   0   0   0   0   0   0   0   0 287\n",
      "    0   0]\n",
      " [  0   0   0   0   0   0   0   0   0   0   0   0   0   0   0   0   0 297\n",
      "    0   0]\n",
      " [  0   0   0   0   0   0   0   0   0   0   0   0   0   0   0   0   0 302\n",
      "    0   0]\n",
      " [  0   0   0   0   0   0   0   0   0   0   0   0   0   0   0   0   0 309\n",
      "    0   0]\n",
      " [  0   0   0   0   0   0   0   0   0   0   0   0   0   0   0   0   0 302\n",
      "    0   0]\n",
      " [  0   0   0   0   0   0   0   0   0   0   0   0   0   0   0   0   0 310\n",
      "    0   0]\n",
      " [  0   0   0   0   0   0   0   0   0   0   0   0   0   0   0   0   0 287\n",
      "    0   0]\n",
      " [  0   0   0   0   0   0   0   0   0   0   0   0   0   0   0   0   0 289\n",
      "    0   0]\n",
      " [  0   0   0   0   0   0   0   0   0   0   0   0   0   0   0   0   0 304\n",
      "    0   0]\n",
      " [  0   0   0   0   0   0   0   0   0   0   0   0   0   0   0   0   0 275\n",
      "    0   0]\n",
      " [  0   0   0   0   0   0   0   0   0   0   0   0   0   0   0   0   0 298\n",
      "    0   0]\n",
      " [  0   0   0   0   0   0   0   0   0   0   0   0   0   0   0   0   0 300\n",
      "    0   0]]\n"
     ]
    },
    {
     "name": "stderr",
     "output_type": "stream",
     "text": [
      "/Users/carlos/anaconda3/lib/python3.6/site-packages/sklearn/metrics/classification.py:1143: UndefinedMetricWarning: F-score is ill-defined and being set to 0.0 in labels with no predicted samples.\n",
      "  'precision', 'predicted', average, warn_for)\n",
      "/Users/carlos/anaconda3/lib/python3.6/site-packages/sklearn/metrics/classification.py:1143: UndefinedMetricWarning: Precision and F-score are ill-defined and being set to 0.0 in labels with no predicted samples.\n",
      "  'precision', 'predicted', average, warn_for)\n",
      "/Users/carlos/anaconda3/lib/python3.6/site-packages/sklearn/metrics/classification.py:1143: UndefinedMetricWarning: Precision and F-score are ill-defined and being set to 0.0 in labels with no predicted samples.\n",
      "  'precision', 'predicted', average, warn_for)\n",
      "/Users/carlos/anaconda3/lib/python3.6/site-packages/sklearn/metrics/classification.py:1143: UndefinedMetricWarning: Precision and F-score are ill-defined and being set to 0.0 in labels with no predicted samples.\n",
      "  'precision', 'predicted', average, warn_for)\n"
     ]
    }
   ],
   "source": [
    "evaluate_model(svc_radial_stemm, vectors_test_stemm, y_test_stemm)"
   ]
  },
  {
   "cell_type": "markdown",
   "metadata": {},
   "source": [
    "## SVC kernal poly"
   ]
  },
  {
   "cell_type": "code",
   "execution_count": 84,
   "metadata": {
    "ExecuteTime": {
     "end_time": "2019-03-01T23:13:32.931724Z",
     "start_time": "2019-03-01T23:11:00.774348Z"
    }
   },
   "outputs": [
    {
     "name": "stderr",
     "output_type": "stream",
     "text": [
      "/Users/carlos/anaconda3/lib/python3.6/site-packages/sklearn/svm/base.py:196: FutureWarning: The default value of gamma will change from 'auto' to 'scale' in version 0.22 to account better for unscaled features. Set gamma explicitly to 'auto' or 'scale' to avoid this warning.\n",
      "  \"avoid this warning.\", FutureWarning)\n"
     ]
    },
    {
     "data": {
      "text/plain": [
       "SVC(C=1.0, cache_size=200, class_weight=None, coef0=0.0,\n",
       "  decision_function_shape='ovr', degree=3, gamma='auto_deprecated',\n",
       "  kernel='poly', max_iter=-1, probability=False, random_state=42,\n",
       "  shrinking=True, tol=0.001, verbose=False)"
      ]
     },
     "execution_count": 84,
     "metadata": {},
     "output_type": "execute_result"
    }
   ],
   "source": [
    "svc_poly_stemm = SVC(kernel='poly', random_state=42)\n",
    "svc_poly_stemm.fit(vectors_train_stemm, y_train_stemm)"
   ]
  },
  {
   "cell_type": "code",
   "execution_count": 86,
   "metadata": {
    "ExecuteTime": {
     "end_time": "2019-03-01T23:14:54.065902Z",
     "start_time": "2019-03-01T23:14:18.315006Z"
    }
   },
   "outputs": [
    {
     "name": "stdout",
     "output_type": "stream",
     "text": [
      "Accuracy: 0.04583333333333333\n",
      "F1 score: 0.004382470119521912\n",
      "\n",
      "Classification report\n",
      "_____________________\n",
      "                          precision    recall  f1-score   support\n",
      "\n",
      "   talk.politics.mideast       0.00      0.00      0.00       304\n",
      "               rec.autos       0.00      0.00      0.00       307\n",
      "   comp.sys.mac.hardware       0.00      0.00      0.00       293\n",
      "             alt.atheism       0.00      0.00      0.00       328\n",
      "      rec.sport.baseball       0.00      0.00      0.00       320\n",
      " comp.os.ms-windows.misc       0.00      0.00      0.00       308\n",
      "        rec.sport.hockey       0.00      0.00      0.00       290\n",
      "               sci.crypt       0.00      0.00      0.00       290\n",
      "                 sci.med       0.00      0.00      0.00       287\n",
      "      talk.politics.misc       0.00      0.00      0.00       297\n",
      "         rec.motorcycles       0.00      0.00      0.00       302\n",
      "          comp.windows.x       0.00      0.00      0.00       309\n",
      "           comp.graphics       0.00      0.00      0.00       302\n",
      "comp.sys.ibm.pc.hardware       0.00      0.00      0.00       310\n",
      "         sci.electronics       0.00      0.00      0.00       287\n",
      "      talk.politics.guns       0.00      0.00      0.00       289\n",
      "               sci.space       0.00      0.00      0.00       304\n",
      "  soc.religion.christian       0.05      1.00      0.09       275\n",
      "            misc.forsale       0.00      0.00      0.00       298\n",
      "      talk.religion.misc       0.00      0.00      0.00       300\n",
      "\n",
      "               micro avg       0.05      0.05      0.05      6000\n",
      "               macro avg       0.00      0.05      0.00      6000\n",
      "            weighted avg       0.00      0.05      0.00      6000\n",
      "\n",
      "Confusion matrix\n",
      "__________________\n",
      "[[  0   0   0   0   0   0   0   0   0   0   0   0   0   0   0   0   0 304\n",
      "    0   0]\n",
      " [  0   0   0   0   0   0   0   0   0   0   0   0   0   0   0   0   0 307\n",
      "    0   0]\n",
      " [  0   0   0   0   0   0   0   0   0   0   0   0   0   0   0   0   0 293\n",
      "    0   0]\n",
      " [  0   0   0   0   0   0   0   0   0   0   0   0   0   0   0   0   0 328\n",
      "    0   0]\n",
      " [  0   0   0   0   0   0   0   0   0   0   0   0   0   0   0   0   0 320\n",
      "    0   0]\n",
      " [  0   0   0   0   0   0   0   0   0   0   0   0   0   0   0   0   0 308\n",
      "    0   0]\n",
      " [  0   0   0   0   0   0   0   0   0   0   0   0   0   0   0   0   0 290\n",
      "    0   0]\n",
      " [  0   0   0   0   0   0   0   0   0   0   0   0   0   0   0   0   0 290\n",
      "    0   0]\n",
      " [  0   0   0   0   0   0   0   0   0   0   0   0   0   0   0   0   0 287\n",
      "    0   0]\n",
      " [  0   0   0   0   0   0   0   0   0   0   0   0   0   0   0   0   0 297\n",
      "    0   0]\n",
      " [  0   0   0   0   0   0   0   0   0   0   0   0   0   0   0   0   0 302\n",
      "    0   0]\n",
      " [  0   0   0   0   0   0   0   0   0   0   0   0   0   0   0   0   0 309\n",
      "    0   0]\n",
      " [  0   0   0   0   0   0   0   0   0   0   0   0   0   0   0   0   0 302\n",
      "    0   0]\n",
      " [  0   0   0   0   0   0   0   0   0   0   0   0   0   0   0   0   0 310\n",
      "    0   0]\n",
      " [  0   0   0   0   0   0   0   0   0   0   0   0   0   0   0   0   0 287\n",
      "    0   0]\n",
      " [  0   0   0   0   0   0   0   0   0   0   0   0   0   0   0   0   0 289\n",
      "    0   0]\n",
      " [  0   0   0   0   0   0   0   0   0   0   0   0   0   0   0   0   0 304\n",
      "    0   0]\n",
      " [  0   0   0   0   0   0   0   0   0   0   0   0   0   0   0   0   0 275\n",
      "    0   0]\n",
      " [  0   0   0   0   0   0   0   0   0   0   0   0   0   0   0   0   0 298\n",
      "    0   0]\n",
      " [  0   0   0   0   0   0   0   0   0   0   0   0   0   0   0   0   0 300\n",
      "    0   0]]\n"
     ]
    },
    {
     "name": "stderr",
     "output_type": "stream",
     "text": [
      "/Users/carlos/anaconda3/lib/python3.6/site-packages/sklearn/metrics/classification.py:1143: UndefinedMetricWarning: F-score is ill-defined and being set to 0.0 in labels with no predicted samples.\n",
      "  'precision', 'predicted', average, warn_for)\n",
      "/Users/carlos/anaconda3/lib/python3.6/site-packages/sklearn/metrics/classification.py:1143: UndefinedMetricWarning: Precision and F-score are ill-defined and being set to 0.0 in labels with no predicted samples.\n",
      "  'precision', 'predicted', average, warn_for)\n",
      "/Users/carlos/anaconda3/lib/python3.6/site-packages/sklearn/metrics/classification.py:1143: UndefinedMetricWarning: Precision and F-score are ill-defined and being set to 0.0 in labels with no predicted samples.\n",
      "  'precision', 'predicted', average, warn_for)\n",
      "/Users/carlos/anaconda3/lib/python3.6/site-packages/sklearn/metrics/classification.py:1143: UndefinedMetricWarning: Precision and F-score are ill-defined and being set to 0.0 in labels with no predicted samples.\n",
      "  'precision', 'predicted', average, warn_for)\n"
     ]
    }
   ],
   "source": [
    "evaluate_model(svc_poly_stemm, vectors_test_stemm, y_test_stemm)"
   ]
  }
 ],
 "metadata": {
  "hide_input": false,
  "kernelspec": {
   "display_name": "Python 3",
   "language": "python",
   "name": "python3"
  },
  "language_info": {
   "codemirror_mode": {
    "name": "ipython",
    "version": 3
   },
   "file_extension": ".py",
   "mimetype": "text/x-python",
   "name": "python",
   "nbconvert_exporter": "python",
   "pygments_lexer": "ipython3",
   "version": "3.6.7"
  },
  "toc": {
   "base_numbering": 1,
   "nav_menu": {},
   "number_sections": true,
   "sideBar": true,
   "skip_h1_title": false,
   "title_cell": "Table of Contents",
   "title_sidebar": "Contents",
   "toc_cell": false,
   "toc_position": {
    "height": "733.0435180664062px",
    "left": "275px",
    "top": "109.57880401611328px",
    "width": "220.99185180664062px"
   },
   "toc_section_display": true,
   "toc_window_display": true
  },
  "varInspector": {
   "cols": {
    "lenName": 16,
    "lenType": 16,
    "lenVar": 40
   },
   "kernels_config": {
    "python": {
     "delete_cmd_postfix": "",
     "delete_cmd_prefix": "del ",
     "library": "var_list.py",
     "varRefreshCmd": "print(var_dic_list())"
    },
    "r": {
     "delete_cmd_postfix": ") ",
     "delete_cmd_prefix": "rm(",
     "library": "var_list.r",
     "varRefreshCmd": "cat(var_dic_list()) "
    }
   },
   "oldHeight": 389,
   "position": {
    "height": "40px",
    "left": "1240.046875px",
    "right": "15.953125px",
    "top": "111.09375px",
    "width": "424px"
   },
   "types_to_exclude": [
    "module",
    "function",
    "builtin_function_or_method",
    "instance",
    "_Feature"
   ],
   "varInspector_section_display": "none",
   "window_display": false
  }
 },
 "nbformat": 4,
 "nbformat_minor": 2
}
